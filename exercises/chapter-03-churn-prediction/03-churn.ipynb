{
 "cells": [
  {
   "cell_type": "markdown",
   "id": "af8e11d4e59eac6d",
   "metadata": {},
   "source": [
    "Data from https://www.kaggle.com/blastchar/telco-customer-churn"
   ]
  },
  {
   "cell_type": "code",
   "execution_count": 3,
   "id": "7a42c45d2205ce8f",
   "metadata": {
    "ExecuteTime": {
     "end_time": "2024-10-16T19:58:05.556051Z",
     "start_time": "2024-10-16T19:58:04.352071Z"
    }
   },
   "outputs": [],
   "source": [
    "import pandas as pd\n",
    "from rich.jupyter import print\n",
    "from IPython.display import display\n",
    "import numpy as np\n",
    "import matplotlib.pyplot as plt\n",
    "\n",
    "\n",
    "%load_ext rich"
   ]
  },
  {
   "cell_type": "code",
   "execution_count": 4,
   "id": "e30ccf13ee9a4ec6",
   "metadata": {
    "ExecuteTime": {
     "end_time": "2024-10-16T19:58:05.638979Z",
     "start_time": "2024-10-16T19:58:05.574384Z"
    }
   },
   "outputs": [
    {
     "data": {
      "text/html": [
       "<pre style=\"white-space:pre;overflow-x:auto;line-height:normal;font-family:Menlo,'DejaVu Sans Mono',consolas,'Courier New',monospace\"></pre>\n"
      ],
      "text/plain": []
     },
     "metadata": {},
     "output_type": "display_data"
    },
    {
     "data": {
      "text/html": [
       "<div>\n",
       "<style scoped>\n",
       "    .dataframe tbody tr th:only-of-type {\n",
       "        vertical-align: middle;\n",
       "    }\n",
       "\n",
       "    .dataframe tbody tr th {\n",
       "        vertical-align: top;\n",
       "    }\n",
       "\n",
       "    .dataframe thead th {\n",
       "        text-align: right;\n",
       "    }\n",
       "</style>\n",
       "<table border=\"1\" class=\"dataframe\">\n",
       "  <thead>\n",
       "    <tr style=\"text-align: right;\">\n",
       "      <th></th>\n",
       "      <th>0</th>\n",
       "      <th>1</th>\n",
       "      <th>2</th>\n",
       "      <th>3</th>\n",
       "      <th>4</th>\n",
       "    </tr>\n",
       "  </thead>\n",
       "  <tbody>\n",
       "    <tr>\n",
       "      <th>customerID</th>\n",
       "      <td>7590-VHVEG</td>\n",
       "      <td>5575-GNVDE</td>\n",
       "      <td>3668-QPYBK</td>\n",
       "      <td>7795-CFOCW</td>\n",
       "      <td>9237-HQITU</td>\n",
       "    </tr>\n",
       "    <tr>\n",
       "      <th>gender</th>\n",
       "      <td>Female</td>\n",
       "      <td>Male</td>\n",
       "      <td>Male</td>\n",
       "      <td>Male</td>\n",
       "      <td>Female</td>\n",
       "    </tr>\n",
       "    <tr>\n",
       "      <th>SeniorCitizen</th>\n",
       "      <td>0</td>\n",
       "      <td>0</td>\n",
       "      <td>0</td>\n",
       "      <td>0</td>\n",
       "      <td>0</td>\n",
       "    </tr>\n",
       "    <tr>\n",
       "      <th>Partner</th>\n",
       "      <td>Yes</td>\n",
       "      <td>No</td>\n",
       "      <td>No</td>\n",
       "      <td>No</td>\n",
       "      <td>No</td>\n",
       "    </tr>\n",
       "    <tr>\n",
       "      <th>Dependents</th>\n",
       "      <td>No</td>\n",
       "      <td>No</td>\n",
       "      <td>No</td>\n",
       "      <td>No</td>\n",
       "      <td>No</td>\n",
       "    </tr>\n",
       "    <tr>\n",
       "      <th>tenure</th>\n",
       "      <td>1</td>\n",
       "      <td>34</td>\n",
       "      <td>2</td>\n",
       "      <td>45</td>\n",
       "      <td>2</td>\n",
       "    </tr>\n",
       "    <tr>\n",
       "      <th>PhoneService</th>\n",
       "      <td>No</td>\n",
       "      <td>Yes</td>\n",
       "      <td>Yes</td>\n",
       "      <td>No</td>\n",
       "      <td>Yes</td>\n",
       "    </tr>\n",
       "    <tr>\n",
       "      <th>MultipleLines</th>\n",
       "      <td>No phone service</td>\n",
       "      <td>No</td>\n",
       "      <td>No</td>\n",
       "      <td>No phone service</td>\n",
       "      <td>No</td>\n",
       "    </tr>\n",
       "    <tr>\n",
       "      <th>InternetService</th>\n",
       "      <td>DSL</td>\n",
       "      <td>DSL</td>\n",
       "      <td>DSL</td>\n",
       "      <td>DSL</td>\n",
       "      <td>Fiber optic</td>\n",
       "    </tr>\n",
       "    <tr>\n",
       "      <th>OnlineSecurity</th>\n",
       "      <td>No</td>\n",
       "      <td>Yes</td>\n",
       "      <td>Yes</td>\n",
       "      <td>Yes</td>\n",
       "      <td>No</td>\n",
       "    </tr>\n",
       "    <tr>\n",
       "      <th>OnlineBackup</th>\n",
       "      <td>Yes</td>\n",
       "      <td>No</td>\n",
       "      <td>Yes</td>\n",
       "      <td>No</td>\n",
       "      <td>No</td>\n",
       "    </tr>\n",
       "    <tr>\n",
       "      <th>DeviceProtection</th>\n",
       "      <td>No</td>\n",
       "      <td>Yes</td>\n",
       "      <td>No</td>\n",
       "      <td>Yes</td>\n",
       "      <td>No</td>\n",
       "    </tr>\n",
       "    <tr>\n",
       "      <th>TechSupport</th>\n",
       "      <td>No</td>\n",
       "      <td>No</td>\n",
       "      <td>No</td>\n",
       "      <td>Yes</td>\n",
       "      <td>No</td>\n",
       "    </tr>\n",
       "    <tr>\n",
       "      <th>StreamingTV</th>\n",
       "      <td>No</td>\n",
       "      <td>No</td>\n",
       "      <td>No</td>\n",
       "      <td>No</td>\n",
       "      <td>No</td>\n",
       "    </tr>\n",
       "    <tr>\n",
       "      <th>StreamingMovies</th>\n",
       "      <td>No</td>\n",
       "      <td>No</td>\n",
       "      <td>No</td>\n",
       "      <td>No</td>\n",
       "      <td>No</td>\n",
       "    </tr>\n",
       "    <tr>\n",
       "      <th>Contract</th>\n",
       "      <td>Month-to-month</td>\n",
       "      <td>One year</td>\n",
       "      <td>Month-to-month</td>\n",
       "      <td>One year</td>\n",
       "      <td>Month-to-month</td>\n",
       "    </tr>\n",
       "    <tr>\n",
       "      <th>PaperlessBilling</th>\n",
       "      <td>Yes</td>\n",
       "      <td>No</td>\n",
       "      <td>Yes</td>\n",
       "      <td>No</td>\n",
       "      <td>Yes</td>\n",
       "    </tr>\n",
       "    <tr>\n",
       "      <th>PaymentMethod</th>\n",
       "      <td>Electronic check</td>\n",
       "      <td>Mailed check</td>\n",
       "      <td>Mailed check</td>\n",
       "      <td>Bank transfer (automatic)</td>\n",
       "      <td>Electronic check</td>\n",
       "    </tr>\n",
       "    <tr>\n",
       "      <th>MonthlyCharges</th>\n",
       "      <td>29.85</td>\n",
       "      <td>56.95</td>\n",
       "      <td>53.85</td>\n",
       "      <td>42.3</td>\n",
       "      <td>70.7</td>\n",
       "    </tr>\n",
       "    <tr>\n",
       "      <th>TotalCharges</th>\n",
       "      <td>29.85</td>\n",
       "      <td>1889.5</td>\n",
       "      <td>108.15</td>\n",
       "      <td>1840.75</td>\n",
       "      <td>151.65</td>\n",
       "    </tr>\n",
       "    <tr>\n",
       "      <th>Churn</th>\n",
       "      <td>No</td>\n",
       "      <td>No</td>\n",
       "      <td>Yes</td>\n",
       "      <td>No</td>\n",
       "      <td>Yes</td>\n",
       "    </tr>\n",
       "  </tbody>\n",
       "</table>\n",
       "</div>"
      ],
      "text/plain": [
       "\n",
       "                                 \u001b[1;36m0\u001b[0m             \u001b[1;36m1\u001b[0m               \u001b[1;36m2\u001b[0m  \\\n",
       "customerID              \u001b[1;36m7590\u001b[0m-VHVEG    \u001b[1;36m5575\u001b[0m-GNVDE      \u001b[1;36m3668\u001b[0m-QPYBK   \n",
       "gender                      Female          Male            Male   \n",
       "SeniorCitizen                    \u001b[1;36m0\u001b[0m             \u001b[1;36m0\u001b[0m               \u001b[1;36m0\u001b[0m   \n",
       "Partner                        Yes            No              No   \n",
       "Dependents                      No            No              No   \n",
       "tenure                           \u001b[1;36m1\u001b[0m            \u001b[1;36m34\u001b[0m               \u001b[1;36m2\u001b[0m   \n",
       "PhoneService                    No           Yes             Yes   \n",
       "MultipleLines     No phone service            No              No   \n",
       "InternetService                DSL           DSL             DSL   \n",
       "OnlineSecurity                  No           Yes             Yes   \n",
       "OnlineBackup                   Yes            No             Yes   \n",
       "DeviceProtection                No           Yes              No   \n",
       "TechSupport                     No            No              No   \n",
       "StreamingTV                     No            No              No   \n",
       "StreamingMovies                 No            No              No   \n",
       "Contract            Month-to-month      One year  Month-to-month   \n",
       "PaperlessBilling               Yes            No             Yes   \n",
       "PaymentMethod     Electronic check  Mailed check    Mailed check   \n",
       "MonthlyCharges               \u001b[1;36m29.85\u001b[0m         \u001b[1;36m56.95\u001b[0m           \u001b[1;36m53.85\u001b[0m   \n",
       "TotalCharges                 \u001b[1;36m29.85\u001b[0m        \u001b[1;36m1889.5\u001b[0m          \u001b[1;36m108.15\u001b[0m   \n",
       "Churn                           No            No             Yes   \n",
       "\n",
       "                                          \u001b[1;36m3\u001b[0m                 \u001b[1;36m4\u001b[0m  \n",
       "customerID                       \u001b[1;36m7795\u001b[0m-CFOCW        \u001b[1;36m9237\u001b[0m-HQITU  \n",
       "gender                                 Male            Female  \n",
       "SeniorCitizen                             \u001b[1;36m0\u001b[0m                 \u001b[1;36m0\u001b[0m  \n",
       "Partner                                  No                No  \n",
       "Dependents                               No                No  \n",
       "tenure                                   \u001b[1;36m45\u001b[0m                 \u001b[1;36m2\u001b[0m  \n",
       "PhoneService                             No               Yes  \n",
       "MultipleLines              No phone service                No  \n",
       "InternetService                         DSL       Fiber optic  \n",
       "OnlineSecurity                          Yes                No  \n",
       "OnlineBackup                             No                No  \n",
       "DeviceProtection                        Yes                No  \n",
       "TechSupport                             Yes                No  \n",
       "StreamingTV                              No                No  \n",
       "StreamingMovies                          No                No  \n",
       "Contract                           One year    Month-to-month  \n",
       "PaperlessBilling                         No               Yes  \n",
       "PaymentMethod     Bank transfer \u001b[1m(\u001b[0mautomatic\u001b[1m)\u001b[0m  Electronic check  \n",
       "MonthlyCharges                         \u001b[1;36m42.3\u001b[0m              \u001b[1;36m70.7\u001b[0m  \n",
       "TotalCharges                        \u001b[1;36m1840.75\u001b[0m            \u001b[1;36m151.65\u001b[0m  \n",
       "Churn                                    No               Yes  "
      ]
     },
     "execution_count": 4,
     "metadata": {},
     "output_type": "execute_result"
    }
   ],
   "source": [
    "df = pd.read_csv(\"data/WA_Fn-UseC_-Telco-Customer-Churn.csv\")\n",
    "df.head().T"
   ]
  },
  {
   "cell_type": "markdown",
   "id": "512e3693",
   "metadata": {},
   "source": [
    " # 3.2 Preparing the dataset"
   ]
  },
  {
   "cell_type": "code",
   "execution_count": 5,
   "id": "46be47e0",
   "metadata": {},
   "outputs": [
    {
     "data": {
      "text/html": [
       "<pre style=\"white-space:pre;overflow-x:auto;line-height:normal;font-family:Menlo,'DejaVu Sans Mono',consolas,'Courier New',monospace\"></pre>\n"
      ],
      "text/plain": []
     },
     "metadata": {},
     "output_type": "display_data"
    },
    {
     "data": {
      "text/plain": [
       "\n",
       "customerID           object\n",
       "gender               object\n",
       "SeniorCitizen         int64\n",
       "Partner              object\n",
       "Dependents           object\n",
       "tenure                int64\n",
       "PhoneService         object\n",
       "MultipleLines        object\n",
       "InternetService      object\n",
       "OnlineSecurity       object\n",
       "OnlineBackup         object\n",
       "DeviceProtection     object\n",
       "TechSupport          object\n",
       "StreamingTV          object\n",
       "StreamingMovies      object\n",
       "Contract             object\n",
       "PaperlessBilling     object\n",
       "PaymentMethod        object\n",
       "MonthlyCharges      float64\n",
       "TotalCharges         object\n",
       "Churn                object\n",
       "dtype: object"
      ]
     },
     "execution_count": 5,
     "metadata": {},
     "output_type": "execute_result"
    }
   ],
   "source": [
    "df.dtypes"
   ]
  },
  {
   "cell_type": "code",
   "execution_count": 6,
   "id": "b78589a7",
   "metadata": {
    "ExecuteTime": {
     "end_time": "2024-10-16T19:58:06.053533Z",
     "start_time": "2024-10-16T19:58:06.045287Z"
    }
   },
   "outputs": [],
   "source": [
    "df[\"TotalCharges\"] = pd.to_numeric(df[\"TotalCharges\"], errors=\"coerce\")\n",
    "df[\"TotalCharges\"] = df[\"TotalCharges\"].fillna(0)"
   ]
  },
  {
   "cell_type": "code",
   "execution_count": 7,
   "id": "81f096b5",
   "metadata": {
    "ExecuteTime": {
     "end_time": "2024-10-16T19:58:06.293671Z",
     "start_time": "2024-10-16T19:58:06.276036Z"
    }
   },
   "outputs": [],
   "source": [
    "df.columns = df.columns.str.lower().str.replace(\" \", \"_\")\n",
    "\n",
    "string_columns = list(df.dtypes[df.dtypes == \"object\"].index)\n",
    "\n",
    "for col in string_columns:\n",
    "    df[col] = df[col].str.lower().str.replace(\" \", \"_\")"
   ]
  },
  {
   "cell_type": "code",
   "execution_count": 8,
   "id": "0b65c923",
   "metadata": {
    "ExecuteTime": {
     "end_time": "2024-10-16T19:58:06.393351Z",
     "start_time": "2024-10-16T19:58:06.385661Z"
    }
   },
   "outputs": [
    {
     "data": {
      "text/html": [
       "<pre style=\"white-space:pre;overflow-x:auto;line-height:normal;font-family:Menlo,'DejaVu Sans Mono',consolas,'Courier New',monospace\"></pre>\n"
      ],
      "text/plain": []
     },
     "metadata": {},
     "output_type": "display_data"
    },
    {
     "data": {
      "text/plain": [
       "\n",
       "\u001b[1;36m0\u001b[0m       \u001b[1;36m0\u001b[0m\n",
       "\u001b[1;36m1\u001b[0m       \u001b[1;36m0\u001b[0m\n",
       "\u001b[1;36m2\u001b[0m       \u001b[1;36m1\u001b[0m\n",
       "\u001b[1;36m3\u001b[0m       \u001b[1;36m0\u001b[0m\n",
       "\u001b[1;36m4\u001b[0m       \u001b[1;36m1\u001b[0m\n",
       "       ..\n",
       "\u001b[1;36m7038\u001b[0m    \u001b[1;36m0\u001b[0m\n",
       "\u001b[1;36m7039\u001b[0m    \u001b[1;36m0\u001b[0m\n",
       "\u001b[1;36m7040\u001b[0m    \u001b[1;36m0\u001b[0m\n",
       "\u001b[1;36m7041\u001b[0m    \u001b[1;36m1\u001b[0m\n",
       "\u001b[1;36m7042\u001b[0m    \u001b[1;36m0\u001b[0m\n",
       "Name: churn, Length: \u001b[1;36m7043\u001b[0m, dtype: int64"
      ]
     },
     "execution_count": 8,
     "metadata": {},
     "output_type": "execute_result"
    }
   ],
   "source": [
    "df.churn = (df.churn == \"yes\").astype(int)\n",
    "df.churn"
   ]
  },
  {
   "cell_type": "markdown",
   "id": "4c7adc02",
   "metadata": {},
   "source": [
    "# 3.3 Setting up the validation framework \n",
    "- Perform the train/validation/split with Scikit-Learn\n",
    "- https://www.analyticsvidhya.com/blog/2023/11/train-test-validation-split/#:~:text=To%20perform%20a%20train%2Dtest,distribution%20of%20classes%20or%20outcomes."
   ]
  },
  {
   "cell_type": "code",
   "execution_count": 9,
   "id": "129058aa",
   "metadata": {
    "ExecuteTime": {
     "end_time": "2024-10-16T19:58:08.086177Z",
     "start_time": "2024-10-16T19:58:06.723814Z"
    }
   },
   "outputs": [
    {
     "data": {
      "text/html": [
       "<pre style=\"white-space:pre;overflow-x:auto;line-height:normal;font-family:Menlo,'DejaVu Sans Mono',consolas,'Courier New',monospace\"></pre>\n"
      ],
      "text/plain": []
     },
     "metadata": {},
     "output_type": "display_data"
    },
    {
     "data": {
      "text/html": [
       "<div>\n",
       "<style scoped>\n",
       "    .dataframe tbody tr th:only-of-type {\n",
       "        vertical-align: middle;\n",
       "    }\n",
       "\n",
       "    .dataframe tbody tr th {\n",
       "        vertical-align: top;\n",
       "    }\n",
       "\n",
       "    .dataframe thead th {\n",
       "        text-align: right;\n",
       "    }\n",
       "</style>\n",
       "<table border=\"1\" class=\"dataframe\">\n",
       "  <thead>\n",
       "    <tr style=\"text-align: right;\">\n",
       "      <th></th>\n",
       "      <th>customerid</th>\n",
       "      <th>gender</th>\n",
       "      <th>seniorcitizen</th>\n",
       "      <th>partner</th>\n",
       "      <th>dependents</th>\n",
       "      <th>tenure</th>\n",
       "      <th>phoneservice</th>\n",
       "      <th>multiplelines</th>\n",
       "      <th>internetservice</th>\n",
       "      <th>onlinesecurity</th>\n",
       "      <th>...</th>\n",
       "      <th>deviceprotection</th>\n",
       "      <th>techsupport</th>\n",
       "      <th>streamingtv</th>\n",
       "      <th>streamingmovies</th>\n",
       "      <th>contract</th>\n",
       "      <th>paperlessbilling</th>\n",
       "      <th>paymentmethod</th>\n",
       "      <th>monthlycharges</th>\n",
       "      <th>totalcharges</th>\n",
       "      <th>churn</th>\n",
       "    </tr>\n",
       "  </thead>\n",
       "  <tbody>\n",
       "    <tr>\n",
       "      <th>3897</th>\n",
       "      <td>8015-ihcgw</td>\n",
       "      <td>female</td>\n",
       "      <td>0</td>\n",
       "      <td>yes</td>\n",
       "      <td>yes</td>\n",
       "      <td>72</td>\n",
       "      <td>yes</td>\n",
       "      <td>yes</td>\n",
       "      <td>fiber_optic</td>\n",
       "      <td>yes</td>\n",
       "      <td>...</td>\n",
       "      <td>yes</td>\n",
       "      <td>yes</td>\n",
       "      <td>yes</td>\n",
       "      <td>yes</td>\n",
       "      <td>two_year</td>\n",
       "      <td>yes</td>\n",
       "      <td>electronic_check</td>\n",
       "      <td>115.50</td>\n",
       "      <td>8425.15</td>\n",
       "      <td>0</td>\n",
       "    </tr>\n",
       "    <tr>\n",
       "      <th>1980</th>\n",
       "      <td>1960-uycnn</td>\n",
       "      <td>male</td>\n",
       "      <td>0</td>\n",
       "      <td>no</td>\n",
       "      <td>no</td>\n",
       "      <td>10</td>\n",
       "      <td>yes</td>\n",
       "      <td>yes</td>\n",
       "      <td>fiber_optic</td>\n",
       "      <td>no</td>\n",
       "      <td>...</td>\n",
       "      <td>yes</td>\n",
       "      <td>no</td>\n",
       "      <td>no</td>\n",
       "      <td>yes</td>\n",
       "      <td>month-to-month</td>\n",
       "      <td>yes</td>\n",
       "      <td>electronic_check</td>\n",
       "      <td>95.25</td>\n",
       "      <td>1021.55</td>\n",
       "      <td>0</td>\n",
       "    </tr>\n",
       "    <tr>\n",
       "      <th>6302</th>\n",
       "      <td>9250-wypll</td>\n",
       "      <td>female</td>\n",
       "      <td>0</td>\n",
       "      <td>no</td>\n",
       "      <td>no</td>\n",
       "      <td>5</td>\n",
       "      <td>yes</td>\n",
       "      <td>yes</td>\n",
       "      <td>fiber_optic</td>\n",
       "      <td>no</td>\n",
       "      <td>...</td>\n",
       "      <td>no</td>\n",
       "      <td>no</td>\n",
       "      <td>no</td>\n",
       "      <td>no</td>\n",
       "      <td>month-to-month</td>\n",
       "      <td>no</td>\n",
       "      <td>electronic_check</td>\n",
       "      <td>75.55</td>\n",
       "      <td>413.65</td>\n",
       "      <td>1</td>\n",
       "    </tr>\n",
       "    <tr>\n",
       "      <th>727</th>\n",
       "      <td>6786-obwqr</td>\n",
       "      <td>female</td>\n",
       "      <td>0</td>\n",
       "      <td>yes</td>\n",
       "      <td>yes</td>\n",
       "      <td>5</td>\n",
       "      <td>yes</td>\n",
       "      <td>no</td>\n",
       "      <td>fiber_optic</td>\n",
       "      <td>no</td>\n",
       "      <td>...</td>\n",
       "      <td>no</td>\n",
       "      <td>no</td>\n",
       "      <td>yes</td>\n",
       "      <td>no</td>\n",
       "      <td>month-to-month</td>\n",
       "      <td>yes</td>\n",
       "      <td>electronic_check</td>\n",
       "      <td>80.85</td>\n",
       "      <td>356.10</td>\n",
       "      <td>0</td>\n",
       "    </tr>\n",
       "    <tr>\n",
       "      <th>5104</th>\n",
       "      <td>1328-euzhc</td>\n",
       "      <td>female</td>\n",
       "      <td>0</td>\n",
       "      <td>yes</td>\n",
       "      <td>no</td>\n",
       "      <td>18</td>\n",
       "      <td>yes</td>\n",
       "      <td>no</td>\n",
       "      <td>no</td>\n",
       "      <td>no_internet_service</td>\n",
       "      <td>...</td>\n",
       "      <td>no_internet_service</td>\n",
       "      <td>no_internet_service</td>\n",
       "      <td>no_internet_service</td>\n",
       "      <td>no_internet_service</td>\n",
       "      <td>two_year</td>\n",
       "      <td>no</td>\n",
       "      <td>mailed_check</td>\n",
       "      <td>20.10</td>\n",
       "      <td>370.50</td>\n",
       "      <td>0</td>\n",
       "    </tr>\n",
       "    <tr>\n",
       "      <th>...</th>\n",
       "      <td>...</td>\n",
       "      <td>...</td>\n",
       "      <td>...</td>\n",
       "      <td>...</td>\n",
       "      <td>...</td>\n",
       "      <td>...</td>\n",
       "      <td>...</td>\n",
       "      <td>...</td>\n",
       "      <td>...</td>\n",
       "      <td>...</td>\n",
       "      <td>...</td>\n",
       "      <td>...</td>\n",
       "      <td>...</td>\n",
       "      <td>...</td>\n",
       "      <td>...</td>\n",
       "      <td>...</td>\n",
       "      <td>...</td>\n",
       "      <td>...</td>\n",
       "      <td>...</td>\n",
       "      <td>...</td>\n",
       "      <td>...</td>\n",
       "    </tr>\n",
       "    <tr>\n",
       "      <th>3774</th>\n",
       "      <td>1309-xgfsn</td>\n",
       "      <td>male</td>\n",
       "      <td>1</td>\n",
       "      <td>yes</td>\n",
       "      <td>yes</td>\n",
       "      <td>52</td>\n",
       "      <td>yes</td>\n",
       "      <td>yes</td>\n",
       "      <td>dsl</td>\n",
       "      <td>no</td>\n",
       "      <td>...</td>\n",
       "      <td>yes</td>\n",
       "      <td>no</td>\n",
       "      <td>yes</td>\n",
       "      <td>yes</td>\n",
       "      <td>one_year</td>\n",
       "      <td>yes</td>\n",
       "      <td>electronic_check</td>\n",
       "      <td>80.85</td>\n",
       "      <td>4079.55</td>\n",
       "      <td>0</td>\n",
       "    </tr>\n",
       "    <tr>\n",
       "      <th>6108</th>\n",
       "      <td>4819-hjpiw</td>\n",
       "      <td>male</td>\n",
       "      <td>0</td>\n",
       "      <td>no</td>\n",
       "      <td>no</td>\n",
       "      <td>18</td>\n",
       "      <td>no</td>\n",
       "      <td>no_phone_service</td>\n",
       "      <td>dsl</td>\n",
       "      <td>no</td>\n",
       "      <td>...</td>\n",
       "      <td>no</td>\n",
       "      <td>no</td>\n",
       "      <td>no</td>\n",
       "      <td>no</td>\n",
       "      <td>month-to-month</td>\n",
       "      <td>no</td>\n",
       "      <td>mailed_check</td>\n",
       "      <td>25.15</td>\n",
       "      <td>476.80</td>\n",
       "      <td>0</td>\n",
       "    </tr>\n",
       "    <tr>\n",
       "      <th>1530</th>\n",
       "      <td>3703-vavcl</td>\n",
       "      <td>male</td>\n",
       "      <td>0</td>\n",
       "      <td>yes</td>\n",
       "      <td>yes</td>\n",
       "      <td>2</td>\n",
       "      <td>yes</td>\n",
       "      <td>no</td>\n",
       "      <td>fiber_optic</td>\n",
       "      <td>no</td>\n",
       "      <td>...</td>\n",
       "      <td>yes</td>\n",
       "      <td>yes</td>\n",
       "      <td>no</td>\n",
       "      <td>yes</td>\n",
       "      <td>month-to-month</td>\n",
       "      <td>no</td>\n",
       "      <td>credit_card_(automatic)</td>\n",
       "      <td>90.00</td>\n",
       "      <td>190.05</td>\n",
       "      <td>1</td>\n",
       "    </tr>\n",
       "    <tr>\n",
       "      <th>3701</th>\n",
       "      <td>3812-lrzir</td>\n",
       "      <td>female</td>\n",
       "      <td>0</td>\n",
       "      <td>yes</td>\n",
       "      <td>yes</td>\n",
       "      <td>27</td>\n",
       "      <td>yes</td>\n",
       "      <td>yes</td>\n",
       "      <td>no</td>\n",
       "      <td>no_internet_service</td>\n",
       "      <td>...</td>\n",
       "      <td>no_internet_service</td>\n",
       "      <td>no_internet_service</td>\n",
       "      <td>no_internet_service</td>\n",
       "      <td>no_internet_service</td>\n",
       "      <td>two_year</td>\n",
       "      <td>no</td>\n",
       "      <td>electronic_check</td>\n",
       "      <td>24.50</td>\n",
       "      <td>761.95</td>\n",
       "      <td>0</td>\n",
       "    </tr>\n",
       "    <tr>\n",
       "      <th>4368</th>\n",
       "      <td>1704-nrwye</td>\n",
       "      <td>female</td>\n",
       "      <td>1</td>\n",
       "      <td>no</td>\n",
       "      <td>no</td>\n",
       "      <td>9</td>\n",
       "      <td>yes</td>\n",
       "      <td>no</td>\n",
       "      <td>fiber_optic</td>\n",
       "      <td>no</td>\n",
       "      <td>...</td>\n",
       "      <td>no</td>\n",
       "      <td>no</td>\n",
       "      <td>yes</td>\n",
       "      <td>no</td>\n",
       "      <td>month-to-month</td>\n",
       "      <td>yes</td>\n",
       "      <td>electronic_check</td>\n",
       "      <td>80.85</td>\n",
       "      <td>751.65</td>\n",
       "      <td>1</td>\n",
       "    </tr>\n",
       "  </tbody>\n",
       "</table>\n",
       "<p>4225 rows × 21 columns</p>\n",
       "</div>"
      ],
      "text/plain": [
       "\n",
       "      customerid  gender  seniorcitizen partner dependents  tenure  \\\n",
       "\u001b[1;36m3897\u001b[0m  \u001b[1;36m8015\u001b[0m-ihcgw  female              \u001b[1;36m0\u001b[0m     yes        yes      \u001b[1;36m72\u001b[0m   \n",
       "\u001b[1;36m1980\u001b[0m  \u001b[1;36m1960\u001b[0m-uycnn    male              \u001b[1;36m0\u001b[0m      no         no      \u001b[1;36m10\u001b[0m   \n",
       "\u001b[1;36m6302\u001b[0m  \u001b[1;36m9250\u001b[0m-wypll  female              \u001b[1;36m0\u001b[0m      no         no       \u001b[1;36m5\u001b[0m   \n",
       "\u001b[1;36m727\u001b[0m   \u001b[1;36m6786\u001b[0m-obwqr  female              \u001b[1;36m0\u001b[0m     yes        yes       \u001b[1;36m5\u001b[0m   \n",
       "\u001b[1;36m5104\u001b[0m  \u001b[1;36m1328\u001b[0m-euzhc  female              \u001b[1;36m0\u001b[0m     yes         no      \u001b[1;36m18\u001b[0m   \n",
       "\u001b[33m...\u001b[0m          \u001b[33m...\u001b[0m     \u001b[33m...\u001b[0m            \u001b[33m...\u001b[0m     \u001b[33m...\u001b[0m        \u001b[33m...\u001b[0m     \u001b[33m...\u001b[0m   \n",
       "\u001b[1;36m3774\u001b[0m  \u001b[1;36m1309\u001b[0m-xgfsn    male              \u001b[1;36m1\u001b[0m     yes        yes      \u001b[1;36m52\u001b[0m   \n",
       "\u001b[1;36m6108\u001b[0m  \u001b[1;36m4819\u001b[0m-hjpiw    male              \u001b[1;36m0\u001b[0m      no         no      \u001b[1;36m18\u001b[0m   \n",
       "\u001b[1;36m1530\u001b[0m  \u001b[1;36m3703\u001b[0m-vavcl    male              \u001b[1;36m0\u001b[0m     yes        yes       \u001b[1;36m2\u001b[0m   \n",
       "\u001b[1;36m3701\u001b[0m  \u001b[1;36m3812\u001b[0m-lrzir  female              \u001b[1;36m0\u001b[0m     yes        yes      \u001b[1;36m27\u001b[0m   \n",
       "\u001b[1;36m4368\u001b[0m  \u001b[1;36m1704\u001b[0m-nrwye  female              \u001b[1;36m1\u001b[0m      no         no       \u001b[1;36m9\u001b[0m   \n",
       "\n",
       "     phoneservice     multiplelines internetservice       onlinesecurity  \u001b[33m...\u001b[0m  \\\n",
       "\u001b[1;36m3897\u001b[0m          yes               yes     fiber_optic                  yes  \u001b[33m...\u001b[0m   \n",
       "\u001b[1;36m1980\u001b[0m          yes               yes     fiber_optic                   no  \u001b[33m...\u001b[0m   \n",
       "\u001b[1;36m6302\u001b[0m          yes               yes     fiber_optic                   no  \u001b[33m...\u001b[0m   \n",
       "\u001b[1;36m727\u001b[0m           yes                no     fiber_optic                   no  \u001b[33m...\u001b[0m   \n",
       "\u001b[1;36m5104\u001b[0m          yes                no              no  no_internet_service  \u001b[33m...\u001b[0m   \n",
       "\u001b[33m...\u001b[0m           \u001b[33m...\u001b[0m               \u001b[33m...\u001b[0m             \u001b[33m...\u001b[0m                  \u001b[33m...\u001b[0m  \u001b[33m...\u001b[0m   \n",
       "\u001b[1;36m3774\u001b[0m          yes               yes             dsl                   no  \u001b[33m...\u001b[0m   \n",
       "\u001b[1;36m6108\u001b[0m           no  no_phone_service             dsl                   no  \u001b[33m...\u001b[0m   \n",
       "\u001b[1;36m1530\u001b[0m          yes                no     fiber_optic                   no  \u001b[33m...\u001b[0m   \n",
       "\u001b[1;36m3701\u001b[0m          yes               yes              no  no_internet_service  \u001b[33m...\u001b[0m   \n",
       "\u001b[1;36m4368\u001b[0m          yes                no     fiber_optic                   no  \u001b[33m...\u001b[0m   \n",
       "\n",
       "         deviceprotection          techsupport          streamingtv  \\\n",
       "\u001b[1;36m3897\u001b[0m                  yes                  yes                  yes   \n",
       "\u001b[1;36m1980\u001b[0m                  yes                   no                   no   \n",
       "\u001b[1;36m6302\u001b[0m                   no                   no                   no   \n",
       "\u001b[1;36m727\u001b[0m                    no                   no                  yes   \n",
       "\u001b[1;36m5104\u001b[0m  no_internet_service  no_internet_service  no_internet_service   \n",
       "\u001b[33m...\u001b[0m                   \u001b[33m...\u001b[0m                  \u001b[33m...\u001b[0m                  \u001b[33m...\u001b[0m   \n",
       "\u001b[1;36m3774\u001b[0m                  yes                   no                  yes   \n",
       "\u001b[1;36m6108\u001b[0m                   no                   no                   no   \n",
       "\u001b[1;36m1530\u001b[0m                  yes                  yes                   no   \n",
       "\u001b[1;36m3701\u001b[0m  no_internet_service  no_internet_service  no_internet_service   \n",
       "\u001b[1;36m4368\u001b[0m                   no                   no                  yes   \n",
       "\n",
       "          streamingmovies        contract paperlessbilling  \\\n",
       "\u001b[1;36m3897\u001b[0m                  yes        two_year              yes   \n",
       "\u001b[1;36m1980\u001b[0m                  yes  month-to-month              yes   \n",
       "\u001b[1;36m6302\u001b[0m                   no  month-to-month               no   \n",
       "\u001b[1;36m727\u001b[0m                    no  month-to-month              yes   \n",
       "\u001b[1;36m5104\u001b[0m  no_internet_service        two_year               no   \n",
       "\u001b[33m...\u001b[0m                   \u001b[33m...\u001b[0m             \u001b[33m...\u001b[0m              \u001b[33m...\u001b[0m   \n",
       "\u001b[1;36m3774\u001b[0m                  yes        one_year              yes   \n",
       "\u001b[1;36m6108\u001b[0m                   no  month-to-month               no   \n",
       "\u001b[1;36m1530\u001b[0m                  yes  month-to-month               no   \n",
       "\u001b[1;36m3701\u001b[0m  no_internet_service        two_year               no   \n",
       "\u001b[1;36m4368\u001b[0m                   no  month-to-month              yes   \n",
       "\n",
       "                paymentmethod monthlycharges  totalcharges  churn  \n",
       "\u001b[1;36m3897\u001b[0m         electronic_check         \u001b[1;36m115.50\u001b[0m       \u001b[1;36m8425.15\u001b[0m      \u001b[1;36m0\u001b[0m  \n",
       "\u001b[1;36m1980\u001b[0m         electronic_check          \u001b[1;36m95.25\u001b[0m       \u001b[1;36m1021.55\u001b[0m      \u001b[1;36m0\u001b[0m  \n",
       "\u001b[1;36m6302\u001b[0m         electronic_check          \u001b[1;36m75.55\u001b[0m        \u001b[1;36m413.65\u001b[0m      \u001b[1;36m1\u001b[0m  \n",
       "\u001b[1;36m727\u001b[0m          electronic_check          \u001b[1;36m80.85\u001b[0m        \u001b[1;36m356.10\u001b[0m      \u001b[1;36m0\u001b[0m  \n",
       "\u001b[1;36m5104\u001b[0m             mailed_check          \u001b[1;36m20.10\u001b[0m        \u001b[1;36m370.50\u001b[0m      \u001b[1;36m0\u001b[0m  \n",
       "\u001b[33m...\u001b[0m                       \u001b[33m...\u001b[0m            \u001b[33m...\u001b[0m           \u001b[33m...\u001b[0m    \u001b[33m...\u001b[0m  \n",
       "\u001b[1;36m3774\u001b[0m         electronic_check          \u001b[1;36m80.85\u001b[0m       \u001b[1;36m4079.55\u001b[0m      \u001b[1;36m0\u001b[0m  \n",
       "\u001b[1;36m6108\u001b[0m             mailed_check          \u001b[1;36m25.15\u001b[0m        \u001b[1;36m476.80\u001b[0m      \u001b[1;36m0\u001b[0m  \n",
       "\u001b[1;36m1530\u001b[0m  \u001b[1;35mcredit_card_\u001b[0m\u001b[1m(\u001b[0mautomatic\u001b[1m)\u001b[0m          \u001b[1;36m90.00\u001b[0m        \u001b[1;36m190.05\u001b[0m      \u001b[1;36m1\u001b[0m  \n",
       "\u001b[1;36m3701\u001b[0m         electronic_check          \u001b[1;36m24.50\u001b[0m        \u001b[1;36m761.95\u001b[0m      \u001b[1;36m0\u001b[0m  \n",
       "\u001b[1;36m4368\u001b[0m         electronic_check          \u001b[1;36m80.85\u001b[0m        \u001b[1;36m751.65\u001b[0m      \u001b[1;36m1\u001b[0m  \n",
       "\n",
       "\u001b[1m[\u001b[0m\u001b[1;36m4225\u001b[0m rows x \u001b[1;36m21\u001b[0m columns\u001b[1m]\u001b[0m"
      ]
     },
     "execution_count": 9,
     "metadata": {},
     "output_type": "execute_result"
    }
   ],
   "source": [
    "from sklearn.model_selection import train_test_split\n",
    "\n",
    "df_full_train, df_test = train_test_split(df, test_size=0.2, random_state=1)\n",
    "df_train, df_val = train_test_split(df_full_train, test_size=0.25, random_state=1)\n",
    "df_train"
   ]
  },
  {
   "cell_type": "code",
   "execution_count": 10,
   "id": "92d5eeaf",
   "metadata": {
    "ExecuteTime": {
     "end_time": "2024-10-16T19:58:08.115879Z",
     "start_time": "2024-10-16T19:58:08.100193Z"
    }
   },
   "outputs": [],
   "source": [
    "df_train = df_train.reset_index(drop=True)\n",
    "df_val = df_val.reset_index(drop=True)\n",
    "df_test = df_test.reset_index(drop=True)"
   ]
  },
  {
   "cell_type": "code",
   "execution_count": 11,
   "id": "bf8fe674",
   "metadata": {},
   "outputs": [
    {
     "data": {
      "text/html": [
       "<pre style=\"white-space:pre;overflow-x:auto;line-height:normal;font-family:Menlo,'DejaVu Sans Mono',consolas,'Courier New',monospace\"></pre>\n"
      ],
      "text/plain": []
     },
     "metadata": {},
     "output_type": "display_data"
    },
    {
     "data": {
      "text/html": [
       "<div>\n",
       "<style scoped>\n",
       "    .dataframe tbody tr th:only-of-type {\n",
       "        vertical-align: middle;\n",
       "    }\n",
       "\n",
       "    .dataframe tbody tr th {\n",
       "        vertical-align: top;\n",
       "    }\n",
       "\n",
       "    .dataframe thead th {\n",
       "        text-align: right;\n",
       "    }\n",
       "</style>\n",
       "<table border=\"1\" class=\"dataframe\">\n",
       "  <thead>\n",
       "    <tr style=\"text-align: right;\">\n",
       "      <th></th>\n",
       "      <th>customerid</th>\n",
       "      <th>gender</th>\n",
       "      <th>seniorcitizen</th>\n",
       "      <th>partner</th>\n",
       "      <th>dependents</th>\n",
       "      <th>tenure</th>\n",
       "      <th>phoneservice</th>\n",
       "      <th>multiplelines</th>\n",
       "      <th>internetservice</th>\n",
       "      <th>onlinesecurity</th>\n",
       "      <th>...</th>\n",
       "      <th>deviceprotection</th>\n",
       "      <th>techsupport</th>\n",
       "      <th>streamingtv</th>\n",
       "      <th>streamingmovies</th>\n",
       "      <th>contract</th>\n",
       "      <th>paperlessbilling</th>\n",
       "      <th>paymentmethod</th>\n",
       "      <th>monthlycharges</th>\n",
       "      <th>totalcharges</th>\n",
       "      <th>churn</th>\n",
       "    </tr>\n",
       "  </thead>\n",
       "  <tbody>\n",
       "    <tr>\n",
       "      <th>0</th>\n",
       "      <td>8015-ihcgw</td>\n",
       "      <td>female</td>\n",
       "      <td>0</td>\n",
       "      <td>yes</td>\n",
       "      <td>yes</td>\n",
       "      <td>72</td>\n",
       "      <td>yes</td>\n",
       "      <td>yes</td>\n",
       "      <td>fiber_optic</td>\n",
       "      <td>yes</td>\n",
       "      <td>...</td>\n",
       "      <td>yes</td>\n",
       "      <td>yes</td>\n",
       "      <td>yes</td>\n",
       "      <td>yes</td>\n",
       "      <td>two_year</td>\n",
       "      <td>yes</td>\n",
       "      <td>electronic_check</td>\n",
       "      <td>115.50</td>\n",
       "      <td>8425.15</td>\n",
       "      <td>0</td>\n",
       "    </tr>\n",
       "    <tr>\n",
       "      <th>1</th>\n",
       "      <td>1960-uycnn</td>\n",
       "      <td>male</td>\n",
       "      <td>0</td>\n",
       "      <td>no</td>\n",
       "      <td>no</td>\n",
       "      <td>10</td>\n",
       "      <td>yes</td>\n",
       "      <td>yes</td>\n",
       "      <td>fiber_optic</td>\n",
       "      <td>no</td>\n",
       "      <td>...</td>\n",
       "      <td>yes</td>\n",
       "      <td>no</td>\n",
       "      <td>no</td>\n",
       "      <td>yes</td>\n",
       "      <td>month-to-month</td>\n",
       "      <td>yes</td>\n",
       "      <td>electronic_check</td>\n",
       "      <td>95.25</td>\n",
       "      <td>1021.55</td>\n",
       "      <td>0</td>\n",
       "    </tr>\n",
       "    <tr>\n",
       "      <th>2</th>\n",
       "      <td>9250-wypll</td>\n",
       "      <td>female</td>\n",
       "      <td>0</td>\n",
       "      <td>no</td>\n",
       "      <td>no</td>\n",
       "      <td>5</td>\n",
       "      <td>yes</td>\n",
       "      <td>yes</td>\n",
       "      <td>fiber_optic</td>\n",
       "      <td>no</td>\n",
       "      <td>...</td>\n",
       "      <td>no</td>\n",
       "      <td>no</td>\n",
       "      <td>no</td>\n",
       "      <td>no</td>\n",
       "      <td>month-to-month</td>\n",
       "      <td>no</td>\n",
       "      <td>electronic_check</td>\n",
       "      <td>75.55</td>\n",
       "      <td>413.65</td>\n",
       "      <td>1</td>\n",
       "    </tr>\n",
       "    <tr>\n",
       "      <th>3</th>\n",
       "      <td>6786-obwqr</td>\n",
       "      <td>female</td>\n",
       "      <td>0</td>\n",
       "      <td>yes</td>\n",
       "      <td>yes</td>\n",
       "      <td>5</td>\n",
       "      <td>yes</td>\n",
       "      <td>no</td>\n",
       "      <td>fiber_optic</td>\n",
       "      <td>no</td>\n",
       "      <td>...</td>\n",
       "      <td>no</td>\n",
       "      <td>no</td>\n",
       "      <td>yes</td>\n",
       "      <td>no</td>\n",
       "      <td>month-to-month</td>\n",
       "      <td>yes</td>\n",
       "      <td>electronic_check</td>\n",
       "      <td>80.85</td>\n",
       "      <td>356.10</td>\n",
       "      <td>0</td>\n",
       "    </tr>\n",
       "    <tr>\n",
       "      <th>4</th>\n",
       "      <td>1328-euzhc</td>\n",
       "      <td>female</td>\n",
       "      <td>0</td>\n",
       "      <td>yes</td>\n",
       "      <td>no</td>\n",
       "      <td>18</td>\n",
       "      <td>yes</td>\n",
       "      <td>no</td>\n",
       "      <td>no</td>\n",
       "      <td>no_internet_service</td>\n",
       "      <td>...</td>\n",
       "      <td>no_internet_service</td>\n",
       "      <td>no_internet_service</td>\n",
       "      <td>no_internet_service</td>\n",
       "      <td>no_internet_service</td>\n",
       "      <td>two_year</td>\n",
       "      <td>no</td>\n",
       "      <td>mailed_check</td>\n",
       "      <td>20.10</td>\n",
       "      <td>370.50</td>\n",
       "      <td>0</td>\n",
       "    </tr>\n",
       "    <tr>\n",
       "      <th>...</th>\n",
       "      <td>...</td>\n",
       "      <td>...</td>\n",
       "      <td>...</td>\n",
       "      <td>...</td>\n",
       "      <td>...</td>\n",
       "      <td>...</td>\n",
       "      <td>...</td>\n",
       "      <td>...</td>\n",
       "      <td>...</td>\n",
       "      <td>...</td>\n",
       "      <td>...</td>\n",
       "      <td>...</td>\n",
       "      <td>...</td>\n",
       "      <td>...</td>\n",
       "      <td>...</td>\n",
       "      <td>...</td>\n",
       "      <td>...</td>\n",
       "      <td>...</td>\n",
       "      <td>...</td>\n",
       "      <td>...</td>\n",
       "      <td>...</td>\n",
       "    </tr>\n",
       "    <tr>\n",
       "      <th>4220</th>\n",
       "      <td>1309-xgfsn</td>\n",
       "      <td>male</td>\n",
       "      <td>1</td>\n",
       "      <td>yes</td>\n",
       "      <td>yes</td>\n",
       "      <td>52</td>\n",
       "      <td>yes</td>\n",
       "      <td>yes</td>\n",
       "      <td>dsl</td>\n",
       "      <td>no</td>\n",
       "      <td>...</td>\n",
       "      <td>yes</td>\n",
       "      <td>no</td>\n",
       "      <td>yes</td>\n",
       "      <td>yes</td>\n",
       "      <td>one_year</td>\n",
       "      <td>yes</td>\n",
       "      <td>electronic_check</td>\n",
       "      <td>80.85</td>\n",
       "      <td>4079.55</td>\n",
       "      <td>0</td>\n",
       "    </tr>\n",
       "    <tr>\n",
       "      <th>4221</th>\n",
       "      <td>4819-hjpiw</td>\n",
       "      <td>male</td>\n",
       "      <td>0</td>\n",
       "      <td>no</td>\n",
       "      <td>no</td>\n",
       "      <td>18</td>\n",
       "      <td>no</td>\n",
       "      <td>no_phone_service</td>\n",
       "      <td>dsl</td>\n",
       "      <td>no</td>\n",
       "      <td>...</td>\n",
       "      <td>no</td>\n",
       "      <td>no</td>\n",
       "      <td>no</td>\n",
       "      <td>no</td>\n",
       "      <td>month-to-month</td>\n",
       "      <td>no</td>\n",
       "      <td>mailed_check</td>\n",
       "      <td>25.15</td>\n",
       "      <td>476.80</td>\n",
       "      <td>0</td>\n",
       "    </tr>\n",
       "    <tr>\n",
       "      <th>4222</th>\n",
       "      <td>3703-vavcl</td>\n",
       "      <td>male</td>\n",
       "      <td>0</td>\n",
       "      <td>yes</td>\n",
       "      <td>yes</td>\n",
       "      <td>2</td>\n",
       "      <td>yes</td>\n",
       "      <td>no</td>\n",
       "      <td>fiber_optic</td>\n",
       "      <td>no</td>\n",
       "      <td>...</td>\n",
       "      <td>yes</td>\n",
       "      <td>yes</td>\n",
       "      <td>no</td>\n",
       "      <td>yes</td>\n",
       "      <td>month-to-month</td>\n",
       "      <td>no</td>\n",
       "      <td>credit_card_(automatic)</td>\n",
       "      <td>90.00</td>\n",
       "      <td>190.05</td>\n",
       "      <td>1</td>\n",
       "    </tr>\n",
       "    <tr>\n",
       "      <th>4223</th>\n",
       "      <td>3812-lrzir</td>\n",
       "      <td>female</td>\n",
       "      <td>0</td>\n",
       "      <td>yes</td>\n",
       "      <td>yes</td>\n",
       "      <td>27</td>\n",
       "      <td>yes</td>\n",
       "      <td>yes</td>\n",
       "      <td>no</td>\n",
       "      <td>no_internet_service</td>\n",
       "      <td>...</td>\n",
       "      <td>no_internet_service</td>\n",
       "      <td>no_internet_service</td>\n",
       "      <td>no_internet_service</td>\n",
       "      <td>no_internet_service</td>\n",
       "      <td>two_year</td>\n",
       "      <td>no</td>\n",
       "      <td>electronic_check</td>\n",
       "      <td>24.50</td>\n",
       "      <td>761.95</td>\n",
       "      <td>0</td>\n",
       "    </tr>\n",
       "    <tr>\n",
       "      <th>4224</th>\n",
       "      <td>1704-nrwye</td>\n",
       "      <td>female</td>\n",
       "      <td>1</td>\n",
       "      <td>no</td>\n",
       "      <td>no</td>\n",
       "      <td>9</td>\n",
       "      <td>yes</td>\n",
       "      <td>no</td>\n",
       "      <td>fiber_optic</td>\n",
       "      <td>no</td>\n",
       "      <td>...</td>\n",
       "      <td>no</td>\n",
       "      <td>no</td>\n",
       "      <td>yes</td>\n",
       "      <td>no</td>\n",
       "      <td>month-to-month</td>\n",
       "      <td>yes</td>\n",
       "      <td>electronic_check</td>\n",
       "      <td>80.85</td>\n",
       "      <td>751.65</td>\n",
       "      <td>1</td>\n",
       "    </tr>\n",
       "  </tbody>\n",
       "</table>\n",
       "<p>4225 rows × 21 columns</p>\n",
       "</div>"
      ],
      "text/plain": [
       "\n",
       "      customerid  gender  seniorcitizen partner dependents  tenure  \\\n",
       "\u001b[1;36m0\u001b[0m     \u001b[1;36m8015\u001b[0m-ihcgw  female              \u001b[1;36m0\u001b[0m     yes        yes      \u001b[1;36m72\u001b[0m   \n",
       "\u001b[1;36m1\u001b[0m     \u001b[1;36m1960\u001b[0m-uycnn    male              \u001b[1;36m0\u001b[0m      no         no      \u001b[1;36m10\u001b[0m   \n",
       "\u001b[1;36m2\u001b[0m     \u001b[1;36m9250\u001b[0m-wypll  female              \u001b[1;36m0\u001b[0m      no         no       \u001b[1;36m5\u001b[0m   \n",
       "\u001b[1;36m3\u001b[0m     \u001b[1;36m6786\u001b[0m-obwqr  female              \u001b[1;36m0\u001b[0m     yes        yes       \u001b[1;36m5\u001b[0m   \n",
       "\u001b[1;36m4\u001b[0m     \u001b[1;36m1328\u001b[0m-euzhc  female              \u001b[1;36m0\u001b[0m     yes         no      \u001b[1;36m18\u001b[0m   \n",
       "\u001b[33m...\u001b[0m          \u001b[33m...\u001b[0m     \u001b[33m...\u001b[0m            \u001b[33m...\u001b[0m     \u001b[33m...\u001b[0m        \u001b[33m...\u001b[0m     \u001b[33m...\u001b[0m   \n",
       "\u001b[1;36m4220\u001b[0m  \u001b[1;36m1309\u001b[0m-xgfsn    male              \u001b[1;36m1\u001b[0m     yes        yes      \u001b[1;36m52\u001b[0m   \n",
       "\u001b[1;36m4221\u001b[0m  \u001b[1;36m4819\u001b[0m-hjpiw    male              \u001b[1;36m0\u001b[0m      no         no      \u001b[1;36m18\u001b[0m   \n",
       "\u001b[1;36m4222\u001b[0m  \u001b[1;36m3703\u001b[0m-vavcl    male              \u001b[1;36m0\u001b[0m     yes        yes       \u001b[1;36m2\u001b[0m   \n",
       "\u001b[1;36m4223\u001b[0m  \u001b[1;36m3812\u001b[0m-lrzir  female              \u001b[1;36m0\u001b[0m     yes        yes      \u001b[1;36m27\u001b[0m   \n",
       "\u001b[1;36m4224\u001b[0m  \u001b[1;36m1704\u001b[0m-nrwye  female              \u001b[1;36m1\u001b[0m      no         no       \u001b[1;36m9\u001b[0m   \n",
       "\n",
       "     phoneservice     multiplelines internetservice       onlinesecurity  \u001b[33m...\u001b[0m  \\\n",
       "\u001b[1;36m0\u001b[0m             yes               yes     fiber_optic                  yes  \u001b[33m...\u001b[0m   \n",
       "\u001b[1;36m1\u001b[0m             yes               yes     fiber_optic                   no  \u001b[33m...\u001b[0m   \n",
       "\u001b[1;36m2\u001b[0m             yes               yes     fiber_optic                   no  \u001b[33m...\u001b[0m   \n",
       "\u001b[1;36m3\u001b[0m             yes                no     fiber_optic                   no  \u001b[33m...\u001b[0m   \n",
       "\u001b[1;36m4\u001b[0m             yes                no              no  no_internet_service  \u001b[33m...\u001b[0m   \n",
       "\u001b[33m...\u001b[0m           \u001b[33m...\u001b[0m               \u001b[33m...\u001b[0m             \u001b[33m...\u001b[0m                  \u001b[33m...\u001b[0m  \u001b[33m...\u001b[0m   \n",
       "\u001b[1;36m4220\u001b[0m          yes               yes             dsl                   no  \u001b[33m...\u001b[0m   \n",
       "\u001b[1;36m4221\u001b[0m           no  no_phone_service             dsl                   no  \u001b[33m...\u001b[0m   \n",
       "\u001b[1;36m4222\u001b[0m          yes                no     fiber_optic                   no  \u001b[33m...\u001b[0m   \n",
       "\u001b[1;36m4223\u001b[0m          yes               yes              no  no_internet_service  \u001b[33m...\u001b[0m   \n",
       "\u001b[1;36m4224\u001b[0m          yes                no     fiber_optic                   no  \u001b[33m...\u001b[0m   \n",
       "\n",
       "         deviceprotection          techsupport          streamingtv  \\\n",
       "\u001b[1;36m0\u001b[0m                     yes                  yes                  yes   \n",
       "\u001b[1;36m1\u001b[0m                     yes                   no                   no   \n",
       "\u001b[1;36m2\u001b[0m                      no                   no                   no   \n",
       "\u001b[1;36m3\u001b[0m                      no                   no                  yes   \n",
       "\u001b[1;36m4\u001b[0m     no_internet_service  no_internet_service  no_internet_service   \n",
       "\u001b[33m...\u001b[0m                   \u001b[33m...\u001b[0m                  \u001b[33m...\u001b[0m                  \u001b[33m...\u001b[0m   \n",
       "\u001b[1;36m4220\u001b[0m                  yes                   no                  yes   \n",
       "\u001b[1;36m4221\u001b[0m                   no                   no                   no   \n",
       "\u001b[1;36m4222\u001b[0m                  yes                  yes                   no   \n",
       "\u001b[1;36m4223\u001b[0m  no_internet_service  no_internet_service  no_internet_service   \n",
       "\u001b[1;36m4224\u001b[0m                   no                   no                  yes   \n",
       "\n",
       "          streamingmovies        contract paperlessbilling  \\\n",
       "\u001b[1;36m0\u001b[0m                     yes        two_year              yes   \n",
       "\u001b[1;36m1\u001b[0m                     yes  month-to-month              yes   \n",
       "\u001b[1;36m2\u001b[0m                      no  month-to-month               no   \n",
       "\u001b[1;36m3\u001b[0m                      no  month-to-month              yes   \n",
       "\u001b[1;36m4\u001b[0m     no_internet_service        two_year               no   \n",
       "\u001b[33m...\u001b[0m                   \u001b[33m...\u001b[0m             \u001b[33m...\u001b[0m              \u001b[33m...\u001b[0m   \n",
       "\u001b[1;36m4220\u001b[0m                  yes        one_year              yes   \n",
       "\u001b[1;36m4221\u001b[0m                   no  month-to-month               no   \n",
       "\u001b[1;36m4222\u001b[0m                  yes  month-to-month               no   \n",
       "\u001b[1;36m4223\u001b[0m  no_internet_service        two_year               no   \n",
       "\u001b[1;36m4224\u001b[0m                   no  month-to-month              yes   \n",
       "\n",
       "                paymentmethod monthlycharges  totalcharges  churn  \n",
       "\u001b[1;36m0\u001b[0m            electronic_check         \u001b[1;36m115.50\u001b[0m       \u001b[1;36m8425.15\u001b[0m      \u001b[1;36m0\u001b[0m  \n",
       "\u001b[1;36m1\u001b[0m            electronic_check          \u001b[1;36m95.25\u001b[0m       \u001b[1;36m1021.55\u001b[0m      \u001b[1;36m0\u001b[0m  \n",
       "\u001b[1;36m2\u001b[0m            electronic_check          \u001b[1;36m75.55\u001b[0m        \u001b[1;36m413.65\u001b[0m      \u001b[1;36m1\u001b[0m  \n",
       "\u001b[1;36m3\u001b[0m            electronic_check          \u001b[1;36m80.85\u001b[0m        \u001b[1;36m356.10\u001b[0m      \u001b[1;36m0\u001b[0m  \n",
       "\u001b[1;36m4\u001b[0m                mailed_check          \u001b[1;36m20.10\u001b[0m        \u001b[1;36m370.50\u001b[0m      \u001b[1;36m0\u001b[0m  \n",
       "\u001b[33m...\u001b[0m                       \u001b[33m...\u001b[0m            \u001b[33m...\u001b[0m           \u001b[33m...\u001b[0m    \u001b[33m...\u001b[0m  \n",
       "\u001b[1;36m4220\u001b[0m         electronic_check          \u001b[1;36m80.85\u001b[0m       \u001b[1;36m4079.55\u001b[0m      \u001b[1;36m0\u001b[0m  \n",
       "\u001b[1;36m4221\u001b[0m             mailed_check          \u001b[1;36m25.15\u001b[0m        \u001b[1;36m476.80\u001b[0m      \u001b[1;36m0\u001b[0m  \n",
       "\u001b[1;36m4222\u001b[0m  \u001b[1;35mcredit_card_\u001b[0m\u001b[1m(\u001b[0mautomatic\u001b[1m)\u001b[0m          \u001b[1;36m90.00\u001b[0m        \u001b[1;36m190.05\u001b[0m      \u001b[1;36m1\u001b[0m  \n",
       "\u001b[1;36m4223\u001b[0m         electronic_check          \u001b[1;36m24.50\u001b[0m        \u001b[1;36m761.95\u001b[0m      \u001b[1;36m0\u001b[0m  \n",
       "\u001b[1;36m4224\u001b[0m         electronic_check          \u001b[1;36m80.85\u001b[0m        \u001b[1;36m751.65\u001b[0m      \u001b[1;36m1\u001b[0m  \n",
       "\n",
       "\u001b[1m[\u001b[0m\u001b[1;36m4225\u001b[0m rows x \u001b[1;36m21\u001b[0m columns\u001b[1m]\u001b[0m"
      ]
     },
     "execution_count": 11,
     "metadata": {},
     "output_type": "execute_result"
    }
   ],
   "source": [
    "df_train"
   ]
  },
  {
   "cell_type": "code",
   "execution_count": 12,
   "id": "d0d5711d",
   "metadata": {
    "ExecuteTime": {
     "end_time": "2024-10-16T19:58:08.167942Z",
     "start_time": "2024-10-16T19:58:08.164970Z"
    }
   },
   "outputs": [],
   "source": [
    "y_train = df_train.churn.values\n",
    "y_val = df_val.churn.values\n",
    "y_test = df_test.churn.values"
   ]
  },
  {
   "cell_type": "code",
   "execution_count": 13,
   "id": "5da7c51a",
   "metadata": {
    "ExecuteTime": {
     "end_time": "2024-10-16T19:58:08.231186Z",
     "start_time": "2024-10-16T19:58:08.227943Z"
    }
   },
   "outputs": [],
   "source": [
    "del df_train[\"churn\"]\n",
    "del df_val[\"churn\"]\n",
    "del df_test[\"churn\"]"
   ]
  },
  {
   "cell_type": "markdown",
   "id": "fd8379dc",
   "metadata": {},
   "source": [
    "# 3.4 Exploratory Data Analysis (EDA)\n",
    "- Check missing values\n",
    "- Look at the target variable (churn)\n",
    "- Look at numerical and categorical variables"
   ]
  },
  {
   "cell_type": "code",
   "execution_count": 14,
   "id": "7d8fc4af",
   "metadata": {
    "ExecuteTime": {
     "end_time": "2024-10-16T19:58:08.335900Z",
     "start_time": "2024-10-16T19:58:08.292550Z"
    }
   },
   "outputs": [
    {
     "data": {
      "text/html": [
       "<pre style=\"white-space:pre;overflow-x:auto;line-height:normal;font-family:Menlo,'DejaVu Sans Mono',consolas,'Courier New',monospace\"></pre>\n"
      ],
      "text/plain": []
     },
     "metadata": {},
     "output_type": "display_data"
    },
    {
     "data": {
      "text/html": [
       "<div>\n",
       "<style scoped>\n",
       "    .dataframe tbody tr th:only-of-type {\n",
       "        vertical-align: middle;\n",
       "    }\n",
       "\n",
       "    .dataframe tbody tr th {\n",
       "        vertical-align: top;\n",
       "    }\n",
       "\n",
       "    .dataframe thead th {\n",
       "        text-align: right;\n",
       "    }\n",
       "</style>\n",
       "<table border=\"1\" class=\"dataframe\">\n",
       "  <thead>\n",
       "    <tr style=\"text-align: right;\">\n",
       "      <th></th>\n",
       "      <th>customerid</th>\n",
       "      <th>gender</th>\n",
       "      <th>seniorcitizen</th>\n",
       "      <th>partner</th>\n",
       "      <th>dependents</th>\n",
       "      <th>tenure</th>\n",
       "      <th>phoneservice</th>\n",
       "      <th>multiplelines</th>\n",
       "      <th>internetservice</th>\n",
       "      <th>onlinesecurity</th>\n",
       "      <th>...</th>\n",
       "      <th>deviceprotection</th>\n",
       "      <th>techsupport</th>\n",
       "      <th>streamingtv</th>\n",
       "      <th>streamingmovies</th>\n",
       "      <th>contract</th>\n",
       "      <th>paperlessbilling</th>\n",
       "      <th>paymentmethod</th>\n",
       "      <th>monthlycharges</th>\n",
       "      <th>totalcharges</th>\n",
       "      <th>churn</th>\n",
       "    </tr>\n",
       "  </thead>\n",
       "  <tbody>\n",
       "    <tr>\n",
       "      <th>0</th>\n",
       "      <td>5442-pptjy</td>\n",
       "      <td>male</td>\n",
       "      <td>0</td>\n",
       "      <td>yes</td>\n",
       "      <td>yes</td>\n",
       "      <td>12</td>\n",
       "      <td>yes</td>\n",
       "      <td>no</td>\n",
       "      <td>no</td>\n",
       "      <td>no_internet_service</td>\n",
       "      <td>...</td>\n",
       "      <td>no_internet_service</td>\n",
       "      <td>no_internet_service</td>\n",
       "      <td>no_internet_service</td>\n",
       "      <td>no_internet_service</td>\n",
       "      <td>two_year</td>\n",
       "      <td>no</td>\n",
       "      <td>mailed_check</td>\n",
       "      <td>19.70</td>\n",
       "      <td>258.35</td>\n",
       "      <td>0</td>\n",
       "    </tr>\n",
       "    <tr>\n",
       "      <th>1</th>\n",
       "      <td>6261-rcvns</td>\n",
       "      <td>female</td>\n",
       "      <td>0</td>\n",
       "      <td>no</td>\n",
       "      <td>no</td>\n",
       "      <td>42</td>\n",
       "      <td>yes</td>\n",
       "      <td>no</td>\n",
       "      <td>dsl</td>\n",
       "      <td>yes</td>\n",
       "      <td>...</td>\n",
       "      <td>yes</td>\n",
       "      <td>yes</td>\n",
       "      <td>no</td>\n",
       "      <td>yes</td>\n",
       "      <td>one_year</td>\n",
       "      <td>no</td>\n",
       "      <td>credit_card_(automatic)</td>\n",
       "      <td>73.90</td>\n",
       "      <td>3160.55</td>\n",
       "      <td>1</td>\n",
       "    </tr>\n",
       "    <tr>\n",
       "      <th>2</th>\n",
       "      <td>2176-osjuv</td>\n",
       "      <td>male</td>\n",
       "      <td>0</td>\n",
       "      <td>yes</td>\n",
       "      <td>no</td>\n",
       "      <td>71</td>\n",
       "      <td>yes</td>\n",
       "      <td>yes</td>\n",
       "      <td>dsl</td>\n",
       "      <td>yes</td>\n",
       "      <td>...</td>\n",
       "      <td>no</td>\n",
       "      <td>yes</td>\n",
       "      <td>no</td>\n",
       "      <td>no</td>\n",
       "      <td>two_year</td>\n",
       "      <td>no</td>\n",
       "      <td>bank_transfer_(automatic)</td>\n",
       "      <td>65.15</td>\n",
       "      <td>4681.75</td>\n",
       "      <td>0</td>\n",
       "    </tr>\n",
       "    <tr>\n",
       "      <th>3</th>\n",
       "      <td>6161-erdgd</td>\n",
       "      <td>male</td>\n",
       "      <td>0</td>\n",
       "      <td>yes</td>\n",
       "      <td>yes</td>\n",
       "      <td>71</td>\n",
       "      <td>yes</td>\n",
       "      <td>yes</td>\n",
       "      <td>dsl</td>\n",
       "      <td>yes</td>\n",
       "      <td>...</td>\n",
       "      <td>yes</td>\n",
       "      <td>yes</td>\n",
       "      <td>yes</td>\n",
       "      <td>yes</td>\n",
       "      <td>one_year</td>\n",
       "      <td>no</td>\n",
       "      <td>electronic_check</td>\n",
       "      <td>85.45</td>\n",
       "      <td>6300.85</td>\n",
       "      <td>0</td>\n",
       "    </tr>\n",
       "    <tr>\n",
       "      <th>4</th>\n",
       "      <td>2364-ufrom</td>\n",
       "      <td>male</td>\n",
       "      <td>0</td>\n",
       "      <td>no</td>\n",
       "      <td>no</td>\n",
       "      <td>30</td>\n",
       "      <td>yes</td>\n",
       "      <td>no</td>\n",
       "      <td>dsl</td>\n",
       "      <td>yes</td>\n",
       "      <td>...</td>\n",
       "      <td>no</td>\n",
       "      <td>yes</td>\n",
       "      <td>yes</td>\n",
       "      <td>no</td>\n",
       "      <td>one_year</td>\n",
       "      <td>no</td>\n",
       "      <td>electronic_check</td>\n",
       "      <td>70.40</td>\n",
       "      <td>2044.75</td>\n",
       "      <td>0</td>\n",
       "    </tr>\n",
       "    <tr>\n",
       "      <th>...</th>\n",
       "      <td>...</td>\n",
       "      <td>...</td>\n",
       "      <td>...</td>\n",
       "      <td>...</td>\n",
       "      <td>...</td>\n",
       "      <td>...</td>\n",
       "      <td>...</td>\n",
       "      <td>...</td>\n",
       "      <td>...</td>\n",
       "      <td>...</td>\n",
       "      <td>...</td>\n",
       "      <td>...</td>\n",
       "      <td>...</td>\n",
       "      <td>...</td>\n",
       "      <td>...</td>\n",
       "      <td>...</td>\n",
       "      <td>...</td>\n",
       "      <td>...</td>\n",
       "      <td>...</td>\n",
       "      <td>...</td>\n",
       "      <td>...</td>\n",
       "    </tr>\n",
       "    <tr>\n",
       "      <th>5629</th>\n",
       "      <td>0781-lkxbr</td>\n",
       "      <td>male</td>\n",
       "      <td>1</td>\n",
       "      <td>no</td>\n",
       "      <td>no</td>\n",
       "      <td>9</td>\n",
       "      <td>yes</td>\n",
       "      <td>yes</td>\n",
       "      <td>fiber_optic</td>\n",
       "      <td>no</td>\n",
       "      <td>...</td>\n",
       "      <td>yes</td>\n",
       "      <td>no</td>\n",
       "      <td>yes</td>\n",
       "      <td>yes</td>\n",
       "      <td>month-to-month</td>\n",
       "      <td>yes</td>\n",
       "      <td>electronic_check</td>\n",
       "      <td>100.50</td>\n",
       "      <td>918.60</td>\n",
       "      <td>1</td>\n",
       "    </tr>\n",
       "    <tr>\n",
       "      <th>5630</th>\n",
       "      <td>3507-gasnp</td>\n",
       "      <td>male</td>\n",
       "      <td>0</td>\n",
       "      <td>no</td>\n",
       "      <td>yes</td>\n",
       "      <td>60</td>\n",
       "      <td>yes</td>\n",
       "      <td>no</td>\n",
       "      <td>no</td>\n",
       "      <td>no_internet_service</td>\n",
       "      <td>...</td>\n",
       "      <td>no_internet_service</td>\n",
       "      <td>no_internet_service</td>\n",
       "      <td>no_internet_service</td>\n",
       "      <td>no_internet_service</td>\n",
       "      <td>two_year</td>\n",
       "      <td>no</td>\n",
       "      <td>mailed_check</td>\n",
       "      <td>19.95</td>\n",
       "      <td>1189.90</td>\n",
       "      <td>0</td>\n",
       "    </tr>\n",
       "    <tr>\n",
       "      <th>5631</th>\n",
       "      <td>8868-wozgu</td>\n",
       "      <td>male</td>\n",
       "      <td>0</td>\n",
       "      <td>no</td>\n",
       "      <td>no</td>\n",
       "      <td>28</td>\n",
       "      <td>yes</td>\n",
       "      <td>yes</td>\n",
       "      <td>fiber_optic</td>\n",
       "      <td>no</td>\n",
       "      <td>...</td>\n",
       "      <td>yes</td>\n",
       "      <td>no</td>\n",
       "      <td>yes</td>\n",
       "      <td>yes</td>\n",
       "      <td>month-to-month</td>\n",
       "      <td>yes</td>\n",
       "      <td>electronic_check</td>\n",
       "      <td>105.70</td>\n",
       "      <td>2979.50</td>\n",
       "      <td>1</td>\n",
       "    </tr>\n",
       "    <tr>\n",
       "      <th>5632</th>\n",
       "      <td>1251-krreg</td>\n",
       "      <td>male</td>\n",
       "      <td>0</td>\n",
       "      <td>no</td>\n",
       "      <td>no</td>\n",
       "      <td>2</td>\n",
       "      <td>yes</td>\n",
       "      <td>yes</td>\n",
       "      <td>dsl</td>\n",
       "      <td>no</td>\n",
       "      <td>...</td>\n",
       "      <td>no</td>\n",
       "      <td>no</td>\n",
       "      <td>no</td>\n",
       "      <td>no</td>\n",
       "      <td>month-to-month</td>\n",
       "      <td>yes</td>\n",
       "      <td>mailed_check</td>\n",
       "      <td>54.40</td>\n",
       "      <td>114.10</td>\n",
       "      <td>1</td>\n",
       "    </tr>\n",
       "    <tr>\n",
       "      <th>5633</th>\n",
       "      <td>5840-nvdcg</td>\n",
       "      <td>female</td>\n",
       "      <td>0</td>\n",
       "      <td>yes</td>\n",
       "      <td>yes</td>\n",
       "      <td>16</td>\n",
       "      <td>yes</td>\n",
       "      <td>no</td>\n",
       "      <td>dsl</td>\n",
       "      <td>yes</td>\n",
       "      <td>...</td>\n",
       "      <td>no</td>\n",
       "      <td>yes</td>\n",
       "      <td>no</td>\n",
       "      <td>yes</td>\n",
       "      <td>two_year</td>\n",
       "      <td>no</td>\n",
       "      <td>bank_transfer_(automatic)</td>\n",
       "      <td>68.25</td>\n",
       "      <td>1114.85</td>\n",
       "      <td>0</td>\n",
       "    </tr>\n",
       "  </tbody>\n",
       "</table>\n",
       "<p>5634 rows × 21 columns</p>\n",
       "</div>"
      ],
      "text/plain": [
       "\n",
       "      customerid  gender  seniorcitizen partner dependents  tenure  \\\n",
       "\u001b[1;36m0\u001b[0m     \u001b[1;36m5442\u001b[0m-pptjy    male              \u001b[1;36m0\u001b[0m     yes        yes      \u001b[1;36m12\u001b[0m   \n",
       "\u001b[1;36m1\u001b[0m     \u001b[1;36m6261\u001b[0m-rcvns  female              \u001b[1;36m0\u001b[0m      no         no      \u001b[1;36m42\u001b[0m   \n",
       "\u001b[1;36m2\u001b[0m     \u001b[1;36m2176\u001b[0m-osjuv    male              \u001b[1;36m0\u001b[0m     yes         no      \u001b[1;36m71\u001b[0m   \n",
       "\u001b[1;36m3\u001b[0m     \u001b[1;36m6161\u001b[0m-erdgd    male              \u001b[1;36m0\u001b[0m     yes        yes      \u001b[1;36m71\u001b[0m   \n",
       "\u001b[1;36m4\u001b[0m     \u001b[1;36m2364\u001b[0m-ufrom    male              \u001b[1;36m0\u001b[0m      no         no      \u001b[1;36m30\u001b[0m   \n",
       "\u001b[33m...\u001b[0m          \u001b[33m...\u001b[0m     \u001b[33m...\u001b[0m            \u001b[33m...\u001b[0m     \u001b[33m...\u001b[0m        \u001b[33m...\u001b[0m     \u001b[33m...\u001b[0m   \n",
       "\u001b[1;36m5629\u001b[0m  \u001b[1;36m0781\u001b[0m-lkxbr    male              \u001b[1;36m1\u001b[0m      no         no       \u001b[1;36m9\u001b[0m   \n",
       "\u001b[1;36m5630\u001b[0m  \u001b[1;36m3507\u001b[0m-gasnp    male              \u001b[1;36m0\u001b[0m      no        yes      \u001b[1;36m60\u001b[0m   \n",
       "\u001b[1;36m5631\u001b[0m  \u001b[1;36m8868\u001b[0m-wozgu    male              \u001b[1;36m0\u001b[0m      no         no      \u001b[1;36m28\u001b[0m   \n",
       "\u001b[1;36m5632\u001b[0m  \u001b[1;36m1251\u001b[0m-krreg    male              \u001b[1;36m0\u001b[0m      no         no       \u001b[1;36m2\u001b[0m   \n",
       "\u001b[1;36m5633\u001b[0m  \u001b[1;36m5840\u001b[0m-nvdcg  female              \u001b[1;36m0\u001b[0m     yes        yes      \u001b[1;36m16\u001b[0m   \n",
       "\n",
       "     phoneservice multiplelines internetservice       onlinesecurity  \u001b[33m...\u001b[0m  \\\n",
       "\u001b[1;36m0\u001b[0m             yes            no              no  no_internet_service  \u001b[33m...\u001b[0m   \n",
       "\u001b[1;36m1\u001b[0m             yes            no             dsl                  yes  \u001b[33m...\u001b[0m   \n",
       "\u001b[1;36m2\u001b[0m             yes           yes             dsl                  yes  \u001b[33m...\u001b[0m   \n",
       "\u001b[1;36m3\u001b[0m             yes           yes             dsl                  yes  \u001b[33m...\u001b[0m   \n",
       "\u001b[1;36m4\u001b[0m             yes            no             dsl                  yes  \u001b[33m...\u001b[0m   \n",
       "\u001b[33m...\u001b[0m           \u001b[33m...\u001b[0m           \u001b[33m...\u001b[0m             \u001b[33m...\u001b[0m                  \u001b[33m...\u001b[0m  \u001b[33m...\u001b[0m   \n",
       "\u001b[1;36m5629\u001b[0m          yes           yes     fiber_optic                   no  \u001b[33m...\u001b[0m   \n",
       "\u001b[1;36m5630\u001b[0m          yes            no              no  no_internet_service  \u001b[33m...\u001b[0m   \n",
       "\u001b[1;36m5631\u001b[0m          yes           yes     fiber_optic                   no  \u001b[33m...\u001b[0m   \n",
       "\u001b[1;36m5632\u001b[0m          yes           yes             dsl                   no  \u001b[33m...\u001b[0m   \n",
       "\u001b[1;36m5633\u001b[0m          yes            no             dsl                  yes  \u001b[33m...\u001b[0m   \n",
       "\n",
       "         deviceprotection          techsupport          streamingtv  \\\n",
       "\u001b[1;36m0\u001b[0m     no_internet_service  no_internet_service  no_internet_service   \n",
       "\u001b[1;36m1\u001b[0m                     yes                  yes                   no   \n",
       "\u001b[1;36m2\u001b[0m                      no                  yes                   no   \n",
       "\u001b[1;36m3\u001b[0m                     yes                  yes                  yes   \n",
       "\u001b[1;36m4\u001b[0m                      no                  yes                  yes   \n",
       "\u001b[33m...\u001b[0m                   \u001b[33m...\u001b[0m                  \u001b[33m...\u001b[0m                  \u001b[33m...\u001b[0m   \n",
       "\u001b[1;36m5629\u001b[0m                  yes                   no                  yes   \n",
       "\u001b[1;36m5630\u001b[0m  no_internet_service  no_internet_service  no_internet_service   \n",
       "\u001b[1;36m5631\u001b[0m                  yes                   no                  yes   \n",
       "\u001b[1;36m5632\u001b[0m                   no                   no                   no   \n",
       "\u001b[1;36m5633\u001b[0m                   no                  yes                   no   \n",
       "\n",
       "          streamingmovies        contract paperlessbilling  \\\n",
       "\u001b[1;36m0\u001b[0m     no_internet_service        two_year               no   \n",
       "\u001b[1;36m1\u001b[0m                     yes        one_year               no   \n",
       "\u001b[1;36m2\u001b[0m                      no        two_year               no   \n",
       "\u001b[1;36m3\u001b[0m                     yes        one_year               no   \n",
       "\u001b[1;36m4\u001b[0m                      no        one_year               no   \n",
       "\u001b[33m...\u001b[0m                   \u001b[33m...\u001b[0m             \u001b[33m...\u001b[0m              \u001b[33m...\u001b[0m   \n",
       "\u001b[1;36m5629\u001b[0m                  yes  month-to-month              yes   \n",
       "\u001b[1;36m5630\u001b[0m  no_internet_service        two_year               no   \n",
       "\u001b[1;36m5631\u001b[0m                  yes  month-to-month              yes   \n",
       "\u001b[1;36m5632\u001b[0m                   no  month-to-month              yes   \n",
       "\u001b[1;36m5633\u001b[0m                  yes        two_year               no   \n",
       "\n",
       "                  paymentmethod monthlycharges  totalcharges  churn  \n",
       "\u001b[1;36m0\u001b[0m                  mailed_check          \u001b[1;36m19.70\u001b[0m        \u001b[1;36m258.35\u001b[0m      \u001b[1;36m0\u001b[0m  \n",
       "\u001b[1;36m1\u001b[0m       \u001b[1;35mcredit_card_\u001b[0m\u001b[1m(\u001b[0mautomatic\u001b[1m)\u001b[0m          \u001b[1;36m73.90\u001b[0m       \u001b[1;36m3160.55\u001b[0m      \u001b[1;36m1\u001b[0m  \n",
       "\u001b[1;36m2\u001b[0m     \u001b[1;35mbank_transfer_\u001b[0m\u001b[1m(\u001b[0mautomatic\u001b[1m)\u001b[0m          \u001b[1;36m65.15\u001b[0m       \u001b[1;36m4681.75\u001b[0m      \u001b[1;36m0\u001b[0m  \n",
       "\u001b[1;36m3\u001b[0m              electronic_check          \u001b[1;36m85.45\u001b[0m       \u001b[1;36m6300.85\u001b[0m      \u001b[1;36m0\u001b[0m  \n",
       "\u001b[1;36m4\u001b[0m              electronic_check          \u001b[1;36m70.40\u001b[0m       \u001b[1;36m2044.75\u001b[0m      \u001b[1;36m0\u001b[0m  \n",
       "\u001b[33m...\u001b[0m                         \u001b[33m...\u001b[0m            \u001b[33m...\u001b[0m           \u001b[33m...\u001b[0m    \u001b[33m...\u001b[0m  \n",
       "\u001b[1;36m5629\u001b[0m           electronic_check         \u001b[1;36m100.50\u001b[0m        \u001b[1;36m918.60\u001b[0m      \u001b[1;36m1\u001b[0m  \n",
       "\u001b[1;36m5630\u001b[0m               mailed_check          \u001b[1;36m19.95\u001b[0m       \u001b[1;36m1189.90\u001b[0m      \u001b[1;36m0\u001b[0m  \n",
       "\u001b[1;36m5631\u001b[0m           electronic_check         \u001b[1;36m105.70\u001b[0m       \u001b[1;36m2979.50\u001b[0m      \u001b[1;36m1\u001b[0m  \n",
       "\u001b[1;36m5632\u001b[0m               mailed_check          \u001b[1;36m54.40\u001b[0m        \u001b[1;36m114.10\u001b[0m      \u001b[1;36m1\u001b[0m  \n",
       "\u001b[1;36m5633\u001b[0m  \u001b[1;35mbank_transfer_\u001b[0m\u001b[1m(\u001b[0mautomatic\u001b[1m)\u001b[0m          \u001b[1;36m68.25\u001b[0m       \u001b[1;36m1114.85\u001b[0m      \u001b[1;36m0\u001b[0m  \n",
       "\n",
       "\u001b[1m[\u001b[0m\u001b[1;36m5634\u001b[0m rows x \u001b[1;36m21\u001b[0m columns\u001b[1m]\u001b[0m"
      ]
     },
     "execution_count": 14,
     "metadata": {},
     "output_type": "execute_result"
    }
   ],
   "source": [
    "df_full_train = df_full_train.reset_index(drop=True)\n",
    "df_full_train"
   ]
  },
  {
   "cell_type": "code",
   "execution_count": 15,
   "id": "45137613",
   "metadata": {
    "ExecuteTime": {
     "end_time": "2024-10-16T19:58:08.464988Z",
     "start_time": "2024-10-16T19:58:08.450597Z"
    }
   },
   "outputs": [
    {
     "data": {
      "text/html": [
       "<pre style=\"white-space:pre;overflow-x:auto;line-height:normal;font-family:Menlo,'DejaVu Sans Mono',consolas,'Courier New',monospace\"></pre>\n"
      ],
      "text/plain": []
     },
     "metadata": {},
     "output_type": "display_data"
    },
    {
     "data": {
      "text/plain": [
       "\n",
       "customerid          \u001b[1;36m0\u001b[0m\n",
       "gender              \u001b[1;36m0\u001b[0m\n",
       "seniorcitizen       \u001b[1;36m0\u001b[0m\n",
       "partner             \u001b[1;36m0\u001b[0m\n",
       "dependents          \u001b[1;36m0\u001b[0m\n",
       "tenure              \u001b[1;36m0\u001b[0m\n",
       "phoneservice        \u001b[1;36m0\u001b[0m\n",
       "multiplelines       \u001b[1;36m0\u001b[0m\n",
       "internetservice     \u001b[1;36m0\u001b[0m\n",
       "onlinesecurity      \u001b[1;36m0\u001b[0m\n",
       "onlinebackup        \u001b[1;36m0\u001b[0m\n",
       "deviceprotection    \u001b[1;36m0\u001b[0m\n",
       "techsupport         \u001b[1;36m0\u001b[0m\n",
       "streamingtv         \u001b[1;36m0\u001b[0m\n",
       "streamingmovies     \u001b[1;36m0\u001b[0m\n",
       "contract            \u001b[1;36m0\u001b[0m\n",
       "paperlessbilling    \u001b[1;36m0\u001b[0m\n",
       "paymentmethod       \u001b[1;36m0\u001b[0m\n",
       "monthlycharges      \u001b[1;36m0\u001b[0m\n",
       "totalcharges        \u001b[1;36m0\u001b[0m\n",
       "churn               \u001b[1;36m0\u001b[0m\n",
       "dtype: int64"
      ]
     },
     "execution_count": 15,
     "metadata": {},
     "output_type": "execute_result"
    }
   ],
   "source": [
    "df_full_train.isnull().sum()\n",
    "# so we have no missing data, only `totalcharges` had missing data and we have already eliminated it by fillna(0)"
   ]
  },
  {
   "cell_type": "code",
   "execution_count": 16,
   "id": "8b7549e4",
   "metadata": {
    "ExecuteTime": {
     "end_time": "2024-10-16T19:58:08.554604Z",
     "start_time": "2024-10-16T19:58:08.543493Z"
    }
   },
   "outputs": [
    {
     "data": {
      "text/html": [
       "<pre style=\"white-space:pre;overflow-x:auto;line-height:normal;font-family:Menlo,'DejaVu Sans Mono',consolas,'Courier New',monospace\"></pre>\n"
      ],
      "text/plain": []
     },
     "metadata": {},
     "output_type": "display_data"
    },
    {
     "data": {
      "text/plain": [
       "\n",
       "churn\n",
       "\u001b[1;36m0\u001b[0m    \u001b[1;36m4113\u001b[0m\n",
       "\u001b[1;36m1\u001b[0m    \u001b[1;36m1521\u001b[0m\n",
       "Name: count, dtype: int64"
      ]
     },
     "execution_count": 16,
     "metadata": {},
     "output_type": "execute_result"
    }
   ],
   "source": [
    "df_full_train.churn.value_counts()"
   ]
  },
  {
   "cell_type": "code",
   "execution_count": 17,
   "id": "9d9adadb",
   "metadata": {
    "ExecuteTime": {
     "end_time": "2024-10-16T19:58:08.727357Z",
     "start_time": "2024-10-16T19:58:08.718223Z"
    }
   },
   "outputs": [
    {
     "data": {
      "text/html": [
       "<pre style=\"white-space:pre;overflow-x:auto;line-height:normal;font-family:Menlo,'DejaVu Sans Mono',consolas,'Courier New',monospace\"></pre>\n"
      ],
      "text/plain": []
     },
     "metadata": {},
     "output_type": "display_data"
    },
    {
     "data": {
      "text/plain": [
       "\u001b[1;35mnp.float64\u001b[0m\u001b[1m(\u001b[0m\u001b[1;36m0.27\u001b[0m\u001b[1m)\u001b[0m"
      ]
     },
     "execution_count": 17,
     "metadata": {},
     "output_type": "execute_result"
    }
   ],
   "source": [
    "global_churn_rate = df_full_train.churn.mean()\n",
    "round(global_churn_rate, 2)"
   ]
  },
  {
   "cell_type": "code",
   "execution_count": 18,
   "id": "b4900264",
   "metadata": {
    "ExecuteTime": {
     "end_time": "2024-10-16T19:58:08.779013Z",
     "start_time": "2024-10-16T19:58:08.768112Z"
    }
   },
   "outputs": [
    {
     "data": {
      "text/html": [
       "<pre style=\"white-space:pre;overflow-x:auto;line-height:normal;font-family:Menlo,'DejaVu Sans Mono',consolas,'Courier New',monospace\"></pre>\n"
      ],
      "text/plain": []
     },
     "metadata": {},
     "output_type": "display_data"
    },
    {
     "data": {
      "text/plain": [
       "\n",
       "customerid           object\n",
       "gender               object\n",
       "seniorcitizen         int64\n",
       "partner              object\n",
       "dependents           object\n",
       "tenure                int64\n",
       "phoneservice         object\n",
       "multiplelines        object\n",
       "internetservice      object\n",
       "onlinesecurity       object\n",
       "onlinebackup         object\n",
       "deviceprotection     object\n",
       "techsupport          object\n",
       "streamingtv          object\n",
       "streamingmovies      object\n",
       "contract             object\n",
       "paperlessbilling     object\n",
       "paymentmethod        object\n",
       "monthlycharges      float64\n",
       "totalcharges        float64\n",
       "churn                 int64\n",
       "dtype: object"
      ]
     },
     "execution_count": 18,
     "metadata": {},
     "output_type": "execute_result"
    }
   ],
   "source": [
    "df_full_train.dtypes"
   ]
  },
  {
   "cell_type": "code",
   "execution_count": 19,
   "id": "cb8f30ef",
   "metadata": {
    "ExecuteTime": {
     "end_time": "2024-10-16T19:58:08.982987Z",
     "start_time": "2024-10-16T19:58:08.971958Z"
    }
   },
   "outputs": [],
   "source": [
    "categorical = [\n",
    "    \"gender\",\n",
    "    \"seniorcitizen\",\n",
    "    \"partner\",\n",
    "    \"dependents\",\n",
    "    \"phoneservice\",\n",
    "    \"multiplelines\",\n",
    "    \"internetservice\",\n",
    "    \"onlinesecurity\",\n",
    "    \"onlinebackup\",\n",
    "    \"deviceprotection\",\n",
    "    \"techsupport\",\n",
    "    \"streamingtv\",\n",
    "    \"streamingmovies\",\n",
    "    \"contract\",\n",
    "    \"paperlessbilling\",\n",
    "    \"paymentmethod\",\n",
    "]\n",
    "numerical = [\"tenure\", \"monthlycharges\", \"totalcharges\"]"
   ]
  },
  {
   "cell_type": "code",
   "execution_count": 20,
   "id": "63c2585a",
   "metadata": {
    "ExecuteTime": {
     "end_time": "2024-10-16T19:58:09.121571Z",
     "start_time": "2024-10-16T19:58:09.098693Z"
    }
   },
   "outputs": [
    {
     "data": {
      "text/html": [
       "<pre style=\"white-space:pre;overflow-x:auto;line-height:normal;font-family:Menlo,'DejaVu Sans Mono',consolas,'Courier New',monospace\"></pre>\n"
      ],
      "text/plain": []
     },
     "metadata": {},
     "output_type": "display_data"
    },
    {
     "data": {
      "text/plain": [
       "\n",
       "gender              \u001b[1;36m2\u001b[0m\n",
       "seniorcitizen       \u001b[1;36m2\u001b[0m\n",
       "partner             \u001b[1;36m2\u001b[0m\n",
       "dependents          \u001b[1;36m2\u001b[0m\n",
       "phoneservice        \u001b[1;36m2\u001b[0m\n",
       "multiplelines       \u001b[1;36m3\u001b[0m\n",
       "internetservice     \u001b[1;36m3\u001b[0m\n",
       "onlinesecurity      \u001b[1;36m3\u001b[0m\n",
       "onlinebackup        \u001b[1;36m3\u001b[0m\n",
       "deviceprotection    \u001b[1;36m3\u001b[0m\n",
       "techsupport         \u001b[1;36m3\u001b[0m\n",
       "streamingtv         \u001b[1;36m3\u001b[0m\n",
       "streamingmovies     \u001b[1;36m3\u001b[0m\n",
       "contract            \u001b[1;36m3\u001b[0m\n",
       "paperlessbilling    \u001b[1;36m2\u001b[0m\n",
       "paymentmethod       \u001b[1;36m4\u001b[0m\n",
       "dtype: int64"
      ]
     },
     "execution_count": 20,
     "metadata": {},
     "output_type": "execute_result"
    }
   ],
   "source": [
    "df_full_train[categorical].nunique()"
   ]
  },
  {
   "cell_type": "markdown",
   "id": "fec49de7",
   "metadata": {},
   "source": [
    "# 3.5 Feature importance: Churn rate and risk ratio\n",
    "Feature important analysis (part od EDA) - identifying which features affect our target variable\n",
    "- Churn rate\n",
    "- Risk ratio\n",
    "- Mutual information - later\n",
    "  "
   ]
  },
  {
   "cell_type": "code",
   "execution_count": 21,
   "id": "1df7ad71",
   "metadata": {
    "ExecuteTime": {
     "end_time": "2024-10-16T19:58:09.263108Z",
     "start_time": "2024-10-16T19:58:09.237891Z"
    }
   },
   "outputs": [
    {
     "data": {
      "text/html": [
       "<pre style=\"white-space:pre;overflow-x:auto;line-height:normal;font-family:Menlo,'DejaVu Sans Mono',consolas,'Courier New',monospace\"></pre>\n"
      ],
      "text/plain": []
     },
     "metadata": {},
     "output_type": "display_data"
    },
    {
     "data": {
      "text/html": [
       "<div>\n",
       "<style scoped>\n",
       "    .dataframe tbody tr th:only-of-type {\n",
       "        vertical-align: middle;\n",
       "    }\n",
       "\n",
       "    .dataframe tbody tr th {\n",
       "        vertical-align: top;\n",
       "    }\n",
       "\n",
       "    .dataframe thead th {\n",
       "        text-align: right;\n",
       "    }\n",
       "</style>\n",
       "<table border=\"1\" class=\"dataframe\">\n",
       "  <thead>\n",
       "    <tr style=\"text-align: right;\">\n",
       "      <th></th>\n",
       "      <th>customerid</th>\n",
       "      <th>gender</th>\n",
       "      <th>seniorcitizen</th>\n",
       "      <th>partner</th>\n",
       "      <th>dependents</th>\n",
       "      <th>tenure</th>\n",
       "      <th>phoneservice</th>\n",
       "      <th>multiplelines</th>\n",
       "      <th>internetservice</th>\n",
       "      <th>onlinesecurity</th>\n",
       "      <th>...</th>\n",
       "      <th>deviceprotection</th>\n",
       "      <th>techsupport</th>\n",
       "      <th>streamingtv</th>\n",
       "      <th>streamingmovies</th>\n",
       "      <th>contract</th>\n",
       "      <th>paperlessbilling</th>\n",
       "      <th>paymentmethod</th>\n",
       "      <th>monthlycharges</th>\n",
       "      <th>totalcharges</th>\n",
       "      <th>churn</th>\n",
       "    </tr>\n",
       "  </thead>\n",
       "  <tbody>\n",
       "    <tr>\n",
       "      <th>0</th>\n",
       "      <td>5442-pptjy</td>\n",
       "      <td>male</td>\n",
       "      <td>0</td>\n",
       "      <td>yes</td>\n",
       "      <td>yes</td>\n",
       "      <td>12</td>\n",
       "      <td>yes</td>\n",
       "      <td>no</td>\n",
       "      <td>no</td>\n",
       "      <td>no_internet_service</td>\n",
       "      <td>...</td>\n",
       "      <td>no_internet_service</td>\n",
       "      <td>no_internet_service</td>\n",
       "      <td>no_internet_service</td>\n",
       "      <td>no_internet_service</td>\n",
       "      <td>two_year</td>\n",
       "      <td>no</td>\n",
       "      <td>mailed_check</td>\n",
       "      <td>19.70</td>\n",
       "      <td>258.35</td>\n",
       "      <td>0</td>\n",
       "    </tr>\n",
       "    <tr>\n",
       "      <th>1</th>\n",
       "      <td>6261-rcvns</td>\n",
       "      <td>female</td>\n",
       "      <td>0</td>\n",
       "      <td>no</td>\n",
       "      <td>no</td>\n",
       "      <td>42</td>\n",
       "      <td>yes</td>\n",
       "      <td>no</td>\n",
       "      <td>dsl</td>\n",
       "      <td>yes</td>\n",
       "      <td>...</td>\n",
       "      <td>yes</td>\n",
       "      <td>yes</td>\n",
       "      <td>no</td>\n",
       "      <td>yes</td>\n",
       "      <td>one_year</td>\n",
       "      <td>no</td>\n",
       "      <td>credit_card_(automatic)</td>\n",
       "      <td>73.90</td>\n",
       "      <td>3160.55</td>\n",
       "      <td>1</td>\n",
       "    </tr>\n",
       "    <tr>\n",
       "      <th>2</th>\n",
       "      <td>2176-osjuv</td>\n",
       "      <td>male</td>\n",
       "      <td>0</td>\n",
       "      <td>yes</td>\n",
       "      <td>no</td>\n",
       "      <td>71</td>\n",
       "      <td>yes</td>\n",
       "      <td>yes</td>\n",
       "      <td>dsl</td>\n",
       "      <td>yes</td>\n",
       "      <td>...</td>\n",
       "      <td>no</td>\n",
       "      <td>yes</td>\n",
       "      <td>no</td>\n",
       "      <td>no</td>\n",
       "      <td>two_year</td>\n",
       "      <td>no</td>\n",
       "      <td>bank_transfer_(automatic)</td>\n",
       "      <td>65.15</td>\n",
       "      <td>4681.75</td>\n",
       "      <td>0</td>\n",
       "    </tr>\n",
       "    <tr>\n",
       "      <th>3</th>\n",
       "      <td>6161-erdgd</td>\n",
       "      <td>male</td>\n",
       "      <td>0</td>\n",
       "      <td>yes</td>\n",
       "      <td>yes</td>\n",
       "      <td>71</td>\n",
       "      <td>yes</td>\n",
       "      <td>yes</td>\n",
       "      <td>dsl</td>\n",
       "      <td>yes</td>\n",
       "      <td>...</td>\n",
       "      <td>yes</td>\n",
       "      <td>yes</td>\n",
       "      <td>yes</td>\n",
       "      <td>yes</td>\n",
       "      <td>one_year</td>\n",
       "      <td>no</td>\n",
       "      <td>electronic_check</td>\n",
       "      <td>85.45</td>\n",
       "      <td>6300.85</td>\n",
       "      <td>0</td>\n",
       "    </tr>\n",
       "    <tr>\n",
       "      <th>4</th>\n",
       "      <td>2364-ufrom</td>\n",
       "      <td>male</td>\n",
       "      <td>0</td>\n",
       "      <td>no</td>\n",
       "      <td>no</td>\n",
       "      <td>30</td>\n",
       "      <td>yes</td>\n",
       "      <td>no</td>\n",
       "      <td>dsl</td>\n",
       "      <td>yes</td>\n",
       "      <td>...</td>\n",
       "      <td>no</td>\n",
       "      <td>yes</td>\n",
       "      <td>yes</td>\n",
       "      <td>no</td>\n",
       "      <td>one_year</td>\n",
       "      <td>no</td>\n",
       "      <td>electronic_check</td>\n",
       "      <td>70.40</td>\n",
       "      <td>2044.75</td>\n",
       "      <td>0</td>\n",
       "    </tr>\n",
       "  </tbody>\n",
       "</table>\n",
       "<p>5 rows × 21 columns</p>\n",
       "</div>"
      ],
      "text/plain": [
       "\n",
       "   customerid  gender  seniorcitizen partner dependents  tenure phoneservice  \\\n",
       "\u001b[1;36m0\u001b[0m  \u001b[1;36m5442\u001b[0m-pptjy    male              \u001b[1;36m0\u001b[0m     yes        yes      \u001b[1;36m12\u001b[0m          yes   \n",
       "\u001b[1;36m1\u001b[0m  \u001b[1;36m6261\u001b[0m-rcvns  female              \u001b[1;36m0\u001b[0m      no         no      \u001b[1;36m42\u001b[0m          yes   \n",
       "\u001b[1;36m2\u001b[0m  \u001b[1;36m2176\u001b[0m-osjuv    male              \u001b[1;36m0\u001b[0m     yes         no      \u001b[1;36m71\u001b[0m          yes   \n",
       "\u001b[1;36m3\u001b[0m  \u001b[1;36m6161\u001b[0m-erdgd    male              \u001b[1;36m0\u001b[0m     yes        yes      \u001b[1;36m71\u001b[0m          yes   \n",
       "\u001b[1;36m4\u001b[0m  \u001b[1;36m2364\u001b[0m-ufrom    male              \u001b[1;36m0\u001b[0m      no         no      \u001b[1;36m30\u001b[0m          yes   \n",
       "\n",
       "  multiplelines internetservice       onlinesecurity  \u001b[33m...\u001b[0m  \\\n",
       "\u001b[1;36m0\u001b[0m            no              no  no_internet_service  \u001b[33m...\u001b[0m   \n",
       "\u001b[1;36m1\u001b[0m            no             dsl                  yes  \u001b[33m...\u001b[0m   \n",
       "\u001b[1;36m2\u001b[0m           yes             dsl                  yes  \u001b[33m...\u001b[0m   \n",
       "\u001b[1;36m3\u001b[0m           yes             dsl                  yes  \u001b[33m...\u001b[0m   \n",
       "\u001b[1;36m4\u001b[0m            no             dsl                  yes  \u001b[33m...\u001b[0m   \n",
       "\n",
       "      deviceprotection          techsupport          streamingtv  \\\n",
       "\u001b[1;36m0\u001b[0m  no_internet_service  no_internet_service  no_internet_service   \n",
       "\u001b[1;36m1\u001b[0m                  yes                  yes                   no   \n",
       "\u001b[1;36m2\u001b[0m                   no                  yes                   no   \n",
       "\u001b[1;36m3\u001b[0m                  yes                  yes                  yes   \n",
       "\u001b[1;36m4\u001b[0m                   no                  yes                  yes   \n",
       "\n",
       "       streamingmovies  contract paperlessbilling              paymentmethod  \\\n",
       "\u001b[1;36m0\u001b[0m  no_internet_service  two_year               no               mailed_check   \n",
       "\u001b[1;36m1\u001b[0m                  yes  one_year               no    \u001b[1;35mcredit_card_\u001b[0m\u001b[1m(\u001b[0mautomatic\u001b[1m)\u001b[0m   \n",
       "\u001b[1;36m2\u001b[0m                   no  two_year               no  \u001b[1;35mbank_transfer_\u001b[0m\u001b[1m(\u001b[0mautomatic\u001b[1m)\u001b[0m   \n",
       "\u001b[1;36m3\u001b[0m                  yes  one_year               no           electronic_check   \n",
       "\u001b[1;36m4\u001b[0m                   no  one_year               no           electronic_check   \n",
       "\n",
       "  monthlycharges  totalcharges  churn  \n",
       "\u001b[1;36m0\u001b[0m          \u001b[1;36m19.70\u001b[0m        \u001b[1;36m258.35\u001b[0m      \u001b[1;36m0\u001b[0m  \n",
       "\u001b[1;36m1\u001b[0m          \u001b[1;36m73.90\u001b[0m       \u001b[1;36m3160.55\u001b[0m      \u001b[1;36m1\u001b[0m  \n",
       "\u001b[1;36m2\u001b[0m          \u001b[1;36m65.15\u001b[0m       \u001b[1;36m4681.75\u001b[0m      \u001b[1;36m0\u001b[0m  \n",
       "\u001b[1;36m3\u001b[0m          \u001b[1;36m85.45\u001b[0m       \u001b[1;36m6300.85\u001b[0m      \u001b[1;36m0\u001b[0m  \n",
       "\u001b[1;36m4\u001b[0m          \u001b[1;36m70.40\u001b[0m       \u001b[1;36m2044.75\u001b[0m      \u001b[1;36m0\u001b[0m  \n",
       "\n",
       "\u001b[1m[\u001b[0m\u001b[1;36m5\u001b[0m rows x \u001b[1;36m21\u001b[0m columns\u001b[1m]\u001b[0m"
      ]
     },
     "execution_count": 21,
     "metadata": {},
     "output_type": "execute_result"
    }
   ],
   "source": [
    "df_full_train.head()"
   ]
  },
  {
   "cell_type": "code",
   "execution_count": 22,
   "id": "49bdc251",
   "metadata": {
    "ExecuteTime": {
     "end_time": "2024-10-16T19:58:09.388052Z",
     "start_time": "2024-10-16T19:58:09.378846Z"
    }
   },
   "outputs": [
    {
     "data": {
      "text/html": [
       "<pre style=\"white-space:pre;overflow-x:auto;line-height:normal;font-family:Menlo,'DejaVu Sans Mono',consolas,'Courier New',monospace\"></pre>\n"
      ],
      "text/plain": []
     },
     "metadata": {},
     "output_type": "display_data"
    },
    {
     "data": {
      "text/plain": [
       "\u001b[1;35mnp.float64\u001b[0m\u001b[1m(\u001b[0m\u001b[1;36m0.27682403433476394\u001b[0m\u001b[1m)\u001b[0m"
      ]
     },
     "execution_count": 22,
     "metadata": {},
     "output_type": "execute_result"
    }
   ],
   "source": [
    "churn_female = df_full_train[df_full_train.gender == \"female\"].churn.mean()\n",
    "churn_female"
   ]
  },
  {
   "cell_type": "code",
   "execution_count": 23,
   "id": "392cfac2",
   "metadata": {
    "ExecuteTime": {
     "end_time": "2024-10-16T19:58:09.475423Z",
     "start_time": "2024-10-16T19:58:09.466927Z"
    }
   },
   "outputs": [
    {
     "data": {
      "text/html": [
       "<pre style=\"white-space:pre;overflow-x:auto;line-height:normal;font-family:Menlo,'DejaVu Sans Mono',consolas,'Courier New',monospace\"></pre>\n"
      ],
      "text/plain": []
     },
     "metadata": {},
     "output_type": "display_data"
    },
    {
     "data": {
      "text/plain": [
       "\u001b[1;35mnp.float64\u001b[0m\u001b[1m(\u001b[0m\u001b[1;36m0.2632135306553911\u001b[0m\u001b[1m)\u001b[0m"
      ]
     },
     "execution_count": 23,
     "metadata": {},
     "output_type": "execute_result"
    }
   ],
   "source": [
    "churn_male = df_full_train[df_full_train.gender == \"male\"].churn.mean()\n",
    "churn_male"
   ]
  },
  {
   "cell_type": "code",
   "execution_count": 24,
   "id": "f715d929",
   "metadata": {
    "ExecuteTime": {
     "end_time": "2024-10-16T19:58:09.622261Z",
     "start_time": "2024-10-16T19:58:09.616519Z"
    }
   },
   "outputs": [
    {
     "data": {
      "text/html": [
       "<pre style=\"white-space:pre;overflow-x:auto;line-height:normal;font-family:Menlo,'DejaVu Sans Mono',consolas,'Courier New',monospace\"></pre>\n"
      ],
      "text/plain": []
     },
     "metadata": {},
     "output_type": "display_data"
    },
    {
     "data": {
      "text/plain": [
       "\u001b[1;35mnp.float64\u001b[0m\u001b[1m(\u001b[0m\u001b[1;36m0.26996805111821087\u001b[0m\u001b[1m)\u001b[0m"
      ]
     },
     "execution_count": 24,
     "metadata": {},
     "output_type": "execute_result"
    }
   ],
   "source": [
    "global_churn = df_full_train.churn.mean()\n",
    "global_churn"
   ]
  },
  {
   "cell_type": "code",
   "execution_count": 25,
   "id": "67334b0d",
   "metadata": {
    "ExecuteTime": {
     "end_time": "2024-10-16T19:58:09.669394Z",
     "start_time": "2024-10-16T19:58:09.660067Z"
    }
   },
   "outputs": [
    {
     "data": {
      "text/html": [
       "<pre style=\"white-space:pre;overflow-x:auto;line-height:normal;font-family:Menlo,'DejaVu Sans Mono',consolas,'Courier New',monospace\"></pre>\n"
      ],
      "text/plain": []
     },
     "metadata": {},
     "output_type": "display_data"
    },
    {
     "data": {
      "text/plain": [
       "\u001b[1;35mnp.float64\u001b[0m\u001b[1m(\u001b[0m\u001b[1;36m0.20503330866025166\u001b[0m\u001b[1m)\u001b[0m"
      ]
     },
     "execution_count": 25,
     "metadata": {},
     "output_type": "execute_result"
    }
   ],
   "source": [
    "churn_partner = df_full_train[df_full_train.partner == \"yes\"].churn.mean()\n",
    "churn_partner"
   ]
  },
  {
   "cell_type": "code",
   "execution_count": 26,
   "id": "b6f6daf1",
   "metadata": {
    "ExecuteTime": {
     "end_time": "2024-10-16T19:58:09.752793Z",
     "start_time": "2024-10-16T19:58:09.745196Z"
    }
   },
   "outputs": [
    {
     "data": {
      "text/html": [
       "<pre style=\"white-space:pre;overflow-x:auto;line-height:normal;font-family:Menlo,'DejaVu Sans Mono',consolas,'Courier New',monospace\"></pre>\n"
      ],
      "text/plain": []
     },
     "metadata": {},
     "output_type": "display_data"
    },
    {
     "data": {
      "text/plain": [
       "\u001b[1;35mnp.float64\u001b[0m\u001b[1m(\u001b[0m\u001b[1;36m0.7594724924338315\u001b[0m\u001b[1m)\u001b[0m"
      ]
     },
     "execution_count": 26,
     "metadata": {},
     "output_type": "execute_result"
    }
   ],
   "source": [
    "churn_partner / global_churn"
   ]
  },
  {
   "cell_type": "code",
   "execution_count": 27,
   "id": "26b98a2e",
   "metadata": {
    "ExecuteTime": {
     "end_time": "2024-10-16T19:58:09.896294Z",
     "start_time": "2024-10-16T19:58:09.886477Z"
    }
   },
   "outputs": [
    {
     "data": {
      "text/html": [
       "<pre style=\"white-space:pre;overflow-x:auto;line-height:normal;font-family:Menlo,'DejaVu Sans Mono',consolas,'Courier New',monospace\"></pre>\n"
      ],
      "text/plain": []
     },
     "metadata": {},
     "output_type": "display_data"
    },
    {
     "data": {
      "text/plain": [
       "\u001b[1;35mnp.float64\u001b[0m\u001b[1m(\u001b[0m\u001b[1;36m0.3298090040927694\u001b[0m\u001b[1m)\u001b[0m"
      ]
     },
     "execution_count": 27,
     "metadata": {},
     "output_type": "execute_result"
    }
   ],
   "source": [
    "churn_no_partner = df_full_train[df_full_train.partner == \"no\"].churn.mean()\n",
    "churn_no_partner"
   ]
  },
  {
   "cell_type": "code",
   "execution_count": 28,
   "id": "0e483d8b",
   "metadata": {
    "ExecuteTime": {
     "end_time": "2024-10-16T19:58:09.940685Z",
     "start_time": "2024-10-16T19:58:09.934535Z"
    }
   },
   "outputs": [
    {
     "data": {
      "text/html": [
       "<pre style=\"white-space:pre;overflow-x:auto;line-height:normal;font-family:Menlo,'DejaVu Sans Mono',consolas,'Courier New',monospace\"></pre>\n"
      ],
      "text/plain": []
     },
     "metadata": {},
     "output_type": "display_data"
    },
    {
     "data": {
      "text/plain": [
       "\u001b[1;35mnp.float64\u001b[0m\u001b[1m(\u001b[0m\u001b[1;36m1.2216593879412643\u001b[0m\u001b[1m)\u001b[0m"
      ]
     },
     "execution_count": 28,
     "metadata": {},
     "output_type": "execute_result"
    }
   ],
   "source": [
    "churn_no_partner / global_churn"
   ]
  },
  {
   "cell_type": "markdown",
   "id": "72b4405e",
   "metadata": {},
   "source": [
    "### Risk ratio, > 1 , more likely to churn, < 1 less likely to churn"
   ]
  },
  {
   "cell_type": "markdown",
   "id": "3dd704ab",
   "metadata": {},
   "source": [
    "```mysql\n",
    "SELECT\n",
    "    gender,\n",
    "    AVG(churn),\n",
    "    AVG(churn) - global_churn AS diff,\n",
    "    AVG(churn) / global_churn AS risk\n",
    "FROM\n",
    "    data\n",
    "GROUP BY\n",
    "    gender;\n",
    "```\n",
    "\n",
    "NB: there is no direct way to do this in pandas, we have to do it manually\n"
   ]
  },
  {
   "cell_type": "code",
   "execution_count": 29,
   "id": "616601f1",
   "metadata": {
    "ExecuteTime": {
     "end_time": "2024-10-16T19:58:10.258992Z",
     "start_time": "2024-10-16T19:58:10.061845Z"
    }
   },
   "outputs": [
    {
     "data": {
      "text/html": [
       "<pre style=\"white-space:pre;overflow-x:auto;line-height:normal;font-family:Menlo,'DejaVu Sans Mono',consolas,'Courier New',monospace\">gender\n",
       "</pre>\n"
      ],
      "text/plain": [
       "gender\n"
      ]
     },
     "metadata": {},
     "output_type": "display_data"
    },
    {
     "data": {
      "text/html": [
       "<pre style=\"white-space:pre;overflow-x:auto;line-height:normal;font-family:Menlo,'DejaVu Sans Mono',consolas,'Courier New',monospace\"></pre>\n"
      ],
      "text/plain": []
     },
     "metadata": {},
     "output_type": "display_data"
    },
    {
     "data": {
      "text/html": [
       "<div>\n",
       "<style scoped>\n",
       "    .dataframe tbody tr th:only-of-type {\n",
       "        vertical-align: middle;\n",
       "    }\n",
       "\n",
       "    .dataframe tbody tr th {\n",
       "        vertical-align: top;\n",
       "    }\n",
       "\n",
       "    .dataframe thead th {\n",
       "        text-align: right;\n",
       "    }\n",
       "</style>\n",
       "<table border=\"1\" class=\"dataframe\">\n",
       "  <thead>\n",
       "    <tr style=\"text-align: right;\">\n",
       "      <th></th>\n",
       "      <th>mean</th>\n",
       "      <th>count</th>\n",
       "      <th>diff</th>\n",
       "      <th>risk</th>\n",
       "    </tr>\n",
       "    <tr>\n",
       "      <th>gender</th>\n",
       "      <th></th>\n",
       "      <th></th>\n",
       "      <th></th>\n",
       "      <th></th>\n",
       "    </tr>\n",
       "  </thead>\n",
       "  <tbody>\n",
       "    <tr>\n",
       "      <th>female</th>\n",
       "      <td>0.276824</td>\n",
       "      <td>2796</td>\n",
       "      <td>0.006856</td>\n",
       "      <td>1.025396</td>\n",
       "    </tr>\n",
       "    <tr>\n",
       "      <th>male</th>\n",
       "      <td>0.263214</td>\n",
       "      <td>2838</td>\n",
       "      <td>-0.006755</td>\n",
       "      <td>0.974980</td>\n",
       "    </tr>\n",
       "  </tbody>\n",
       "</table>\n",
       "</div>"
      ],
      "text/plain": [
       "\n",
       "            mean  count      diff      risk\n",
       "gender                                     \n",
       "female  \u001b[1;36m0.276824\u001b[0m   \u001b[1;36m2796\u001b[0m  \u001b[1;36m0.006856\u001b[0m  \u001b[1;36m1.025396\u001b[0m\n",
       "male    \u001b[1;36m0.263214\u001b[0m   \u001b[1;36m2838\u001b[0m \u001b[1;36m-0.006755\u001b[0m  \u001b[1;36m0.974980\u001b[0m"
      ]
     },
     "metadata": {},
     "output_type": "display_data"
    },
    {
     "data": {
      "text/html": [
       "<pre style=\"white-space:pre;overflow-x:auto;line-height:normal;font-family:Menlo,'DejaVu Sans Mono',consolas,'Courier New',monospace\">seniorcitizen\n",
       "</pre>\n"
      ],
      "text/plain": [
       "seniorcitizen\n"
      ]
     },
     "metadata": {},
     "output_type": "display_data"
    },
    {
     "data": {
      "text/html": [
       "<pre style=\"white-space:pre;overflow-x:auto;line-height:normal;font-family:Menlo,'DejaVu Sans Mono',consolas,'Courier New',monospace\"></pre>\n"
      ],
      "text/plain": []
     },
     "metadata": {},
     "output_type": "display_data"
    },
    {
     "data": {
      "text/html": [
       "<div>\n",
       "<style scoped>\n",
       "    .dataframe tbody tr th:only-of-type {\n",
       "        vertical-align: middle;\n",
       "    }\n",
       "\n",
       "    .dataframe tbody tr th {\n",
       "        vertical-align: top;\n",
       "    }\n",
       "\n",
       "    .dataframe thead th {\n",
       "        text-align: right;\n",
       "    }\n",
       "</style>\n",
       "<table border=\"1\" class=\"dataframe\">\n",
       "  <thead>\n",
       "    <tr style=\"text-align: right;\">\n",
       "      <th></th>\n",
       "      <th>mean</th>\n",
       "      <th>count</th>\n",
       "      <th>diff</th>\n",
       "      <th>risk</th>\n",
       "    </tr>\n",
       "    <tr>\n",
       "      <th>seniorcitizen</th>\n",
       "      <th></th>\n",
       "      <th></th>\n",
       "      <th></th>\n",
       "      <th></th>\n",
       "    </tr>\n",
       "  </thead>\n",
       "  <tbody>\n",
       "    <tr>\n",
       "      <th>0</th>\n",
       "      <td>0.242270</td>\n",
       "      <td>4722</td>\n",
       "      <td>-0.027698</td>\n",
       "      <td>0.897403</td>\n",
       "    </tr>\n",
       "    <tr>\n",
       "      <th>1</th>\n",
       "      <td>0.413377</td>\n",
       "      <td>912</td>\n",
       "      <td>0.143409</td>\n",
       "      <td>1.531208</td>\n",
       "    </tr>\n",
       "  </tbody>\n",
       "</table>\n",
       "</div>"
      ],
      "text/plain": [
       "\n",
       "                   mean  count      diff      risk\n",
       "seniorcitizen                                     \n",
       "\u001b[1;36m0\u001b[0m              \u001b[1;36m0.242270\u001b[0m   \u001b[1;36m4722\u001b[0m \u001b[1;36m-0.027698\u001b[0m  \u001b[1;36m0.897403\u001b[0m\n",
       "\u001b[1;36m1\u001b[0m              \u001b[1;36m0.413377\u001b[0m    \u001b[1;36m912\u001b[0m  \u001b[1;36m0.143409\u001b[0m  \u001b[1;36m1.531208\u001b[0m"
      ]
     },
     "metadata": {},
     "output_type": "display_data"
    },
    {
     "data": {
      "text/html": [
       "<pre style=\"white-space:pre;overflow-x:auto;line-height:normal;font-family:Menlo,'DejaVu Sans Mono',consolas,'Courier New',monospace\">partner\n",
       "</pre>\n"
      ],
      "text/plain": [
       "partner\n"
      ]
     },
     "metadata": {},
     "output_type": "display_data"
    },
    {
     "data": {
      "text/html": [
       "<pre style=\"white-space:pre;overflow-x:auto;line-height:normal;font-family:Menlo,'DejaVu Sans Mono',consolas,'Courier New',monospace\"></pre>\n"
      ],
      "text/plain": []
     },
     "metadata": {},
     "output_type": "display_data"
    },
    {
     "data": {
      "text/html": [
       "<div>\n",
       "<style scoped>\n",
       "    .dataframe tbody tr th:only-of-type {\n",
       "        vertical-align: middle;\n",
       "    }\n",
       "\n",
       "    .dataframe tbody tr th {\n",
       "        vertical-align: top;\n",
       "    }\n",
       "\n",
       "    .dataframe thead th {\n",
       "        text-align: right;\n",
       "    }\n",
       "</style>\n",
       "<table border=\"1\" class=\"dataframe\">\n",
       "  <thead>\n",
       "    <tr style=\"text-align: right;\">\n",
       "      <th></th>\n",
       "      <th>mean</th>\n",
       "      <th>count</th>\n",
       "      <th>diff</th>\n",
       "      <th>risk</th>\n",
       "    </tr>\n",
       "    <tr>\n",
       "      <th>partner</th>\n",
       "      <th></th>\n",
       "      <th></th>\n",
       "      <th></th>\n",
       "      <th></th>\n",
       "    </tr>\n",
       "  </thead>\n",
       "  <tbody>\n",
       "    <tr>\n",
       "      <th>no</th>\n",
       "      <td>0.329809</td>\n",
       "      <td>2932</td>\n",
       "      <td>0.059841</td>\n",
       "      <td>1.221659</td>\n",
       "    </tr>\n",
       "    <tr>\n",
       "      <th>yes</th>\n",
       "      <td>0.205033</td>\n",
       "      <td>2702</td>\n",
       "      <td>-0.064935</td>\n",
       "      <td>0.759472</td>\n",
       "    </tr>\n",
       "  </tbody>\n",
       "</table>\n",
       "</div>"
      ],
      "text/plain": [
       "\n",
       "             mean  count      diff      risk\n",
       "partner                                     \n",
       "no       \u001b[1;36m0.329809\u001b[0m   \u001b[1;36m2932\u001b[0m  \u001b[1;36m0.059841\u001b[0m  \u001b[1;36m1.221659\u001b[0m\n",
       "yes      \u001b[1;36m0.205033\u001b[0m   \u001b[1;36m2702\u001b[0m \u001b[1;36m-0.064935\u001b[0m  \u001b[1;36m0.759472\u001b[0m"
      ]
     },
     "metadata": {},
     "output_type": "display_data"
    },
    {
     "data": {
      "text/html": [
       "<pre style=\"white-space:pre;overflow-x:auto;line-height:normal;font-family:Menlo,'DejaVu Sans Mono',consolas,'Courier New',monospace\">dependents\n",
       "</pre>\n"
      ],
      "text/plain": [
       "dependents\n"
      ]
     },
     "metadata": {},
     "output_type": "display_data"
    },
    {
     "data": {
      "text/html": [
       "<pre style=\"white-space:pre;overflow-x:auto;line-height:normal;font-family:Menlo,'DejaVu Sans Mono',consolas,'Courier New',monospace\"></pre>\n"
      ],
      "text/plain": []
     },
     "metadata": {},
     "output_type": "display_data"
    },
    {
     "data": {
      "text/html": [
       "<div>\n",
       "<style scoped>\n",
       "    .dataframe tbody tr th:only-of-type {\n",
       "        vertical-align: middle;\n",
       "    }\n",
       "\n",
       "    .dataframe tbody tr th {\n",
       "        vertical-align: top;\n",
       "    }\n",
       "\n",
       "    .dataframe thead th {\n",
       "        text-align: right;\n",
       "    }\n",
       "</style>\n",
       "<table border=\"1\" class=\"dataframe\">\n",
       "  <thead>\n",
       "    <tr style=\"text-align: right;\">\n",
       "      <th></th>\n",
       "      <th>mean</th>\n",
       "      <th>count</th>\n",
       "      <th>diff</th>\n",
       "      <th>risk</th>\n",
       "    </tr>\n",
       "    <tr>\n",
       "      <th>dependents</th>\n",
       "      <th></th>\n",
       "      <th></th>\n",
       "      <th></th>\n",
       "      <th></th>\n",
       "    </tr>\n",
       "  </thead>\n",
       "  <tbody>\n",
       "    <tr>\n",
       "      <th>no</th>\n",
       "      <td>0.313760</td>\n",
       "      <td>3968</td>\n",
       "      <td>0.043792</td>\n",
       "      <td>1.162212</td>\n",
       "    </tr>\n",
       "    <tr>\n",
       "      <th>yes</th>\n",
       "      <td>0.165666</td>\n",
       "      <td>1666</td>\n",
       "      <td>-0.104302</td>\n",
       "      <td>0.613651</td>\n",
       "    </tr>\n",
       "  </tbody>\n",
       "</table>\n",
       "</div>"
      ],
      "text/plain": [
       "\n",
       "                mean  count      diff      risk\n",
       "dependents                                     \n",
       "no          \u001b[1;36m0.313760\u001b[0m   \u001b[1;36m3968\u001b[0m  \u001b[1;36m0.043792\u001b[0m  \u001b[1;36m1.162212\u001b[0m\n",
       "yes         \u001b[1;36m0.165666\u001b[0m   \u001b[1;36m1666\u001b[0m \u001b[1;36m-0.104302\u001b[0m  \u001b[1;36m0.613651\u001b[0m"
      ]
     },
     "metadata": {},
     "output_type": "display_data"
    },
    {
     "data": {
      "text/html": [
       "<pre style=\"white-space:pre;overflow-x:auto;line-height:normal;font-family:Menlo,'DejaVu Sans Mono',consolas,'Courier New',monospace\">phoneservice\n",
       "</pre>\n"
      ],
      "text/plain": [
       "phoneservice\n"
      ]
     },
     "metadata": {},
     "output_type": "display_data"
    },
    {
     "data": {
      "text/html": [
       "<pre style=\"white-space:pre;overflow-x:auto;line-height:normal;font-family:Menlo,'DejaVu Sans Mono',consolas,'Courier New',monospace\"></pre>\n"
      ],
      "text/plain": []
     },
     "metadata": {},
     "output_type": "display_data"
    },
    {
     "data": {
      "text/html": [
       "<div>\n",
       "<style scoped>\n",
       "    .dataframe tbody tr th:only-of-type {\n",
       "        vertical-align: middle;\n",
       "    }\n",
       "\n",
       "    .dataframe tbody tr th {\n",
       "        vertical-align: top;\n",
       "    }\n",
       "\n",
       "    .dataframe thead th {\n",
       "        text-align: right;\n",
       "    }\n",
       "</style>\n",
       "<table border=\"1\" class=\"dataframe\">\n",
       "  <thead>\n",
       "    <tr style=\"text-align: right;\">\n",
       "      <th></th>\n",
       "      <th>mean</th>\n",
       "      <th>count</th>\n",
       "      <th>diff</th>\n",
       "      <th>risk</th>\n",
       "    </tr>\n",
       "    <tr>\n",
       "      <th>phoneservice</th>\n",
       "      <th></th>\n",
       "      <th></th>\n",
       "      <th></th>\n",
       "      <th></th>\n",
       "    </tr>\n",
       "  </thead>\n",
       "  <tbody>\n",
       "    <tr>\n",
       "      <th>no</th>\n",
       "      <td>0.241316</td>\n",
       "      <td>547</td>\n",
       "      <td>-0.028652</td>\n",
       "      <td>0.893870</td>\n",
       "    </tr>\n",
       "    <tr>\n",
       "      <th>yes</th>\n",
       "      <td>0.273049</td>\n",
       "      <td>5087</td>\n",
       "      <td>0.003081</td>\n",
       "      <td>1.011412</td>\n",
       "    </tr>\n",
       "  </tbody>\n",
       "</table>\n",
       "</div>"
      ],
      "text/plain": [
       "\n",
       "                  mean  count      diff      risk\n",
       "phoneservice                                     \n",
       "no            \u001b[1;36m0.241316\u001b[0m    \u001b[1;36m547\u001b[0m \u001b[1;36m-0.028652\u001b[0m  \u001b[1;36m0.893870\u001b[0m\n",
       "yes           \u001b[1;36m0.273049\u001b[0m   \u001b[1;36m5087\u001b[0m  \u001b[1;36m0.003081\u001b[0m  \u001b[1;36m1.011412\u001b[0m"
      ]
     },
     "metadata": {},
     "output_type": "display_data"
    },
    {
     "data": {
      "text/html": [
       "<pre style=\"white-space:pre;overflow-x:auto;line-height:normal;font-family:Menlo,'DejaVu Sans Mono',consolas,'Courier New',monospace\">multiplelines\n",
       "</pre>\n"
      ],
      "text/plain": [
       "multiplelines\n"
      ]
     },
     "metadata": {},
     "output_type": "display_data"
    },
    {
     "data": {
      "text/html": [
       "<pre style=\"white-space:pre;overflow-x:auto;line-height:normal;font-family:Menlo,'DejaVu Sans Mono',consolas,'Courier New',monospace\"></pre>\n"
      ],
      "text/plain": []
     },
     "metadata": {},
     "output_type": "display_data"
    },
    {
     "data": {
      "text/html": [
       "<div>\n",
       "<style scoped>\n",
       "    .dataframe tbody tr th:only-of-type {\n",
       "        vertical-align: middle;\n",
       "    }\n",
       "\n",
       "    .dataframe tbody tr th {\n",
       "        vertical-align: top;\n",
       "    }\n",
       "\n",
       "    .dataframe thead th {\n",
       "        text-align: right;\n",
       "    }\n",
       "</style>\n",
       "<table border=\"1\" class=\"dataframe\">\n",
       "  <thead>\n",
       "    <tr style=\"text-align: right;\">\n",
       "      <th></th>\n",
       "      <th>mean</th>\n",
       "      <th>count</th>\n",
       "      <th>diff</th>\n",
       "      <th>risk</th>\n",
       "    </tr>\n",
       "    <tr>\n",
       "      <th>multiplelines</th>\n",
       "      <th></th>\n",
       "      <th></th>\n",
       "      <th></th>\n",
       "      <th></th>\n",
       "    </tr>\n",
       "  </thead>\n",
       "  <tbody>\n",
       "    <tr>\n",
       "      <th>no</th>\n",
       "      <td>0.257407</td>\n",
       "      <td>2700</td>\n",
       "      <td>-0.012561</td>\n",
       "      <td>0.953474</td>\n",
       "    </tr>\n",
       "    <tr>\n",
       "      <th>no_phone_service</th>\n",
       "      <td>0.241316</td>\n",
       "      <td>547</td>\n",
       "      <td>-0.028652</td>\n",
       "      <td>0.893870</td>\n",
       "    </tr>\n",
       "    <tr>\n",
       "      <th>yes</th>\n",
       "      <td>0.290742</td>\n",
       "      <td>2387</td>\n",
       "      <td>0.020773</td>\n",
       "      <td>1.076948</td>\n",
       "    </tr>\n",
       "  </tbody>\n",
       "</table>\n",
       "</div>"
      ],
      "text/plain": [
       "\n",
       "                      mean  count      diff      risk\n",
       "multiplelines                                        \n",
       "no                \u001b[1;36m0.257407\u001b[0m   \u001b[1;36m2700\u001b[0m \u001b[1;36m-0.012561\u001b[0m  \u001b[1;36m0.953474\u001b[0m\n",
       "no_phone_service  \u001b[1;36m0.241316\u001b[0m    \u001b[1;36m547\u001b[0m \u001b[1;36m-0.028652\u001b[0m  \u001b[1;36m0.893870\u001b[0m\n",
       "yes               \u001b[1;36m0.290742\u001b[0m   \u001b[1;36m2387\u001b[0m  \u001b[1;36m0.020773\u001b[0m  \u001b[1;36m1.076948\u001b[0m"
      ]
     },
     "metadata": {},
     "output_type": "display_data"
    },
    {
     "data": {
      "text/html": [
       "<pre style=\"white-space:pre;overflow-x:auto;line-height:normal;font-family:Menlo,'DejaVu Sans Mono',consolas,'Courier New',monospace\">internetservice\n",
       "</pre>\n"
      ],
      "text/plain": [
       "internetservice\n"
      ]
     },
     "metadata": {},
     "output_type": "display_data"
    },
    {
     "data": {
      "text/html": [
       "<pre style=\"white-space:pre;overflow-x:auto;line-height:normal;font-family:Menlo,'DejaVu Sans Mono',consolas,'Courier New',monospace\"></pre>\n"
      ],
      "text/plain": []
     },
     "metadata": {},
     "output_type": "display_data"
    },
    {
     "data": {
      "text/html": [
       "<div>\n",
       "<style scoped>\n",
       "    .dataframe tbody tr th:only-of-type {\n",
       "        vertical-align: middle;\n",
       "    }\n",
       "\n",
       "    .dataframe tbody tr th {\n",
       "        vertical-align: top;\n",
       "    }\n",
       "\n",
       "    .dataframe thead th {\n",
       "        text-align: right;\n",
       "    }\n",
       "</style>\n",
       "<table border=\"1\" class=\"dataframe\">\n",
       "  <thead>\n",
       "    <tr style=\"text-align: right;\">\n",
       "      <th></th>\n",
       "      <th>mean</th>\n",
       "      <th>count</th>\n",
       "      <th>diff</th>\n",
       "      <th>risk</th>\n",
       "    </tr>\n",
       "    <tr>\n",
       "      <th>internetservice</th>\n",
       "      <th></th>\n",
       "      <th></th>\n",
       "      <th></th>\n",
       "      <th></th>\n",
       "    </tr>\n",
       "  </thead>\n",
       "  <tbody>\n",
       "    <tr>\n",
       "      <th>dsl</th>\n",
       "      <td>0.192347</td>\n",
       "      <td>1934</td>\n",
       "      <td>-0.077621</td>\n",
       "      <td>0.712482</td>\n",
       "    </tr>\n",
       "    <tr>\n",
       "      <th>fiber_optic</th>\n",
       "      <td>0.425171</td>\n",
       "      <td>2479</td>\n",
       "      <td>0.155203</td>\n",
       "      <td>1.574895</td>\n",
       "    </tr>\n",
       "    <tr>\n",
       "      <th>no</th>\n",
       "      <td>0.077805</td>\n",
       "      <td>1221</td>\n",
       "      <td>-0.192163</td>\n",
       "      <td>0.288201</td>\n",
       "    </tr>\n",
       "  </tbody>\n",
       "</table>\n",
       "</div>"
      ],
      "text/plain": [
       "\n",
       "                     mean  count      diff      risk\n",
       "internetservice                                     \n",
       "dsl              \u001b[1;36m0.192347\u001b[0m   \u001b[1;36m1934\u001b[0m \u001b[1;36m-0.077621\u001b[0m  \u001b[1;36m0.712482\u001b[0m\n",
       "fiber_optic      \u001b[1;36m0.425171\u001b[0m   \u001b[1;36m2479\u001b[0m  \u001b[1;36m0.155203\u001b[0m  \u001b[1;36m1.574895\u001b[0m\n",
       "no               \u001b[1;36m0.077805\u001b[0m   \u001b[1;36m1221\u001b[0m \u001b[1;36m-0.192163\u001b[0m  \u001b[1;36m0.288201\u001b[0m"
      ]
     },
     "metadata": {},
     "output_type": "display_data"
    },
    {
     "data": {
      "text/html": [
       "<pre style=\"white-space:pre;overflow-x:auto;line-height:normal;font-family:Menlo,'DejaVu Sans Mono',consolas,'Courier New',monospace\">onlinesecurity\n",
       "</pre>\n"
      ],
      "text/plain": [
       "onlinesecurity\n"
      ]
     },
     "metadata": {},
     "output_type": "display_data"
    },
    {
     "data": {
      "text/html": [
       "<pre style=\"white-space:pre;overflow-x:auto;line-height:normal;font-family:Menlo,'DejaVu Sans Mono',consolas,'Courier New',monospace\"></pre>\n"
      ],
      "text/plain": []
     },
     "metadata": {},
     "output_type": "display_data"
    },
    {
     "data": {
      "text/html": [
       "<div>\n",
       "<style scoped>\n",
       "    .dataframe tbody tr th:only-of-type {\n",
       "        vertical-align: middle;\n",
       "    }\n",
       "\n",
       "    .dataframe tbody tr th {\n",
       "        vertical-align: top;\n",
       "    }\n",
       "\n",
       "    .dataframe thead th {\n",
       "        text-align: right;\n",
       "    }\n",
       "</style>\n",
       "<table border=\"1\" class=\"dataframe\">\n",
       "  <thead>\n",
       "    <tr style=\"text-align: right;\">\n",
       "      <th></th>\n",
       "      <th>mean</th>\n",
       "      <th>count</th>\n",
       "      <th>diff</th>\n",
       "      <th>risk</th>\n",
       "    </tr>\n",
       "    <tr>\n",
       "      <th>onlinesecurity</th>\n",
       "      <th></th>\n",
       "      <th></th>\n",
       "      <th></th>\n",
       "      <th></th>\n",
       "    </tr>\n",
       "  </thead>\n",
       "  <tbody>\n",
       "    <tr>\n",
       "      <th>no</th>\n",
       "      <td>0.420921</td>\n",
       "      <td>2801</td>\n",
       "      <td>0.150953</td>\n",
       "      <td>1.559152</td>\n",
       "    </tr>\n",
       "    <tr>\n",
       "      <th>no_internet_service</th>\n",
       "      <td>0.077805</td>\n",
       "      <td>1221</td>\n",
       "      <td>-0.192163</td>\n",
       "      <td>0.288201</td>\n",
       "    </tr>\n",
       "    <tr>\n",
       "      <th>yes</th>\n",
       "      <td>0.153226</td>\n",
       "      <td>1612</td>\n",
       "      <td>-0.116742</td>\n",
       "      <td>0.567570</td>\n",
       "    </tr>\n",
       "  </tbody>\n",
       "</table>\n",
       "</div>"
      ],
      "text/plain": [
       "\n",
       "                         mean  count      diff      risk\n",
       "onlinesecurity                                          \n",
       "no                   \u001b[1;36m0.420921\u001b[0m   \u001b[1;36m2801\u001b[0m  \u001b[1;36m0.150953\u001b[0m  \u001b[1;36m1.559152\u001b[0m\n",
       "no_internet_service  \u001b[1;36m0.077805\u001b[0m   \u001b[1;36m1221\u001b[0m \u001b[1;36m-0.192163\u001b[0m  \u001b[1;36m0.288201\u001b[0m\n",
       "yes                  \u001b[1;36m0.153226\u001b[0m   \u001b[1;36m1612\u001b[0m \u001b[1;36m-0.116742\u001b[0m  \u001b[1;36m0.567570\u001b[0m"
      ]
     },
     "metadata": {},
     "output_type": "display_data"
    },
    {
     "data": {
      "text/html": [
       "<pre style=\"white-space:pre;overflow-x:auto;line-height:normal;font-family:Menlo,'DejaVu Sans Mono',consolas,'Courier New',monospace\">onlinebackup\n",
       "</pre>\n"
      ],
      "text/plain": [
       "onlinebackup\n"
      ]
     },
     "metadata": {},
     "output_type": "display_data"
    },
    {
     "data": {
      "text/html": [
       "<pre style=\"white-space:pre;overflow-x:auto;line-height:normal;font-family:Menlo,'DejaVu Sans Mono',consolas,'Courier New',monospace\"></pre>\n"
      ],
      "text/plain": []
     },
     "metadata": {},
     "output_type": "display_data"
    },
    {
     "data": {
      "text/html": [
       "<div>\n",
       "<style scoped>\n",
       "    .dataframe tbody tr th:only-of-type {\n",
       "        vertical-align: middle;\n",
       "    }\n",
       "\n",
       "    .dataframe tbody tr th {\n",
       "        vertical-align: top;\n",
       "    }\n",
       "\n",
       "    .dataframe thead th {\n",
       "        text-align: right;\n",
       "    }\n",
       "</style>\n",
       "<table border=\"1\" class=\"dataframe\">\n",
       "  <thead>\n",
       "    <tr style=\"text-align: right;\">\n",
       "      <th></th>\n",
       "      <th>mean</th>\n",
       "      <th>count</th>\n",
       "      <th>diff</th>\n",
       "      <th>risk</th>\n",
       "    </tr>\n",
       "    <tr>\n",
       "      <th>onlinebackup</th>\n",
       "      <th></th>\n",
       "      <th></th>\n",
       "      <th></th>\n",
       "      <th></th>\n",
       "    </tr>\n",
       "  </thead>\n",
       "  <tbody>\n",
       "    <tr>\n",
       "      <th>no</th>\n",
       "      <td>0.404323</td>\n",
       "      <td>2498</td>\n",
       "      <td>0.134355</td>\n",
       "      <td>1.497672</td>\n",
       "    </tr>\n",
       "    <tr>\n",
       "      <th>no_internet_service</th>\n",
       "      <td>0.077805</td>\n",
       "      <td>1221</td>\n",
       "      <td>-0.192163</td>\n",
       "      <td>0.288201</td>\n",
       "    </tr>\n",
       "    <tr>\n",
       "      <th>yes</th>\n",
       "      <td>0.217232</td>\n",
       "      <td>1915</td>\n",
       "      <td>-0.052736</td>\n",
       "      <td>0.804660</td>\n",
       "    </tr>\n",
       "  </tbody>\n",
       "</table>\n",
       "</div>"
      ],
      "text/plain": [
       "\n",
       "                         mean  count      diff      risk\n",
       "onlinebackup                                            \n",
       "no                   \u001b[1;36m0.404323\u001b[0m   \u001b[1;36m2498\u001b[0m  \u001b[1;36m0.134355\u001b[0m  \u001b[1;36m1.497672\u001b[0m\n",
       "no_internet_service  \u001b[1;36m0.077805\u001b[0m   \u001b[1;36m1221\u001b[0m \u001b[1;36m-0.192163\u001b[0m  \u001b[1;36m0.288201\u001b[0m\n",
       "yes                  \u001b[1;36m0.217232\u001b[0m   \u001b[1;36m1915\u001b[0m \u001b[1;36m-0.052736\u001b[0m  \u001b[1;36m0.804660\u001b[0m"
      ]
     },
     "metadata": {},
     "output_type": "display_data"
    },
    {
     "data": {
      "text/html": [
       "<pre style=\"white-space:pre;overflow-x:auto;line-height:normal;font-family:Menlo,'DejaVu Sans Mono',consolas,'Courier New',monospace\">deviceprotection\n",
       "</pre>\n"
      ],
      "text/plain": [
       "deviceprotection\n"
      ]
     },
     "metadata": {},
     "output_type": "display_data"
    },
    {
     "data": {
      "text/html": [
       "<pre style=\"white-space:pre;overflow-x:auto;line-height:normal;font-family:Menlo,'DejaVu Sans Mono',consolas,'Courier New',monospace\"></pre>\n"
      ],
      "text/plain": []
     },
     "metadata": {},
     "output_type": "display_data"
    },
    {
     "data": {
      "text/html": [
       "<div>\n",
       "<style scoped>\n",
       "    .dataframe tbody tr th:only-of-type {\n",
       "        vertical-align: middle;\n",
       "    }\n",
       "\n",
       "    .dataframe tbody tr th {\n",
       "        vertical-align: top;\n",
       "    }\n",
       "\n",
       "    .dataframe thead th {\n",
       "        text-align: right;\n",
       "    }\n",
       "</style>\n",
       "<table border=\"1\" class=\"dataframe\">\n",
       "  <thead>\n",
       "    <tr style=\"text-align: right;\">\n",
       "      <th></th>\n",
       "      <th>mean</th>\n",
       "      <th>count</th>\n",
       "      <th>diff</th>\n",
       "      <th>risk</th>\n",
       "    </tr>\n",
       "    <tr>\n",
       "      <th>deviceprotection</th>\n",
       "      <th></th>\n",
       "      <th></th>\n",
       "      <th></th>\n",
       "      <th></th>\n",
       "    </tr>\n",
       "  </thead>\n",
       "  <tbody>\n",
       "    <tr>\n",
       "      <th>no</th>\n",
       "      <td>0.395875</td>\n",
       "      <td>2473</td>\n",
       "      <td>0.125907</td>\n",
       "      <td>1.466379</td>\n",
       "    </tr>\n",
       "    <tr>\n",
       "      <th>no_internet_service</th>\n",
       "      <td>0.077805</td>\n",
       "      <td>1221</td>\n",
       "      <td>-0.192163</td>\n",
       "      <td>0.288201</td>\n",
       "    </tr>\n",
       "    <tr>\n",
       "      <th>yes</th>\n",
       "      <td>0.230412</td>\n",
       "      <td>1940</td>\n",
       "      <td>-0.039556</td>\n",
       "      <td>0.853480</td>\n",
       "    </tr>\n",
       "  </tbody>\n",
       "</table>\n",
       "</div>"
      ],
      "text/plain": [
       "\n",
       "                         mean  count      diff      risk\n",
       "deviceprotection                                        \n",
       "no                   \u001b[1;36m0.395875\u001b[0m   \u001b[1;36m2473\u001b[0m  \u001b[1;36m0.125907\u001b[0m  \u001b[1;36m1.466379\u001b[0m\n",
       "no_internet_service  \u001b[1;36m0.077805\u001b[0m   \u001b[1;36m1221\u001b[0m \u001b[1;36m-0.192163\u001b[0m  \u001b[1;36m0.288201\u001b[0m\n",
       "yes                  \u001b[1;36m0.230412\u001b[0m   \u001b[1;36m1940\u001b[0m \u001b[1;36m-0.039556\u001b[0m  \u001b[1;36m0.853480\u001b[0m"
      ]
     },
     "metadata": {},
     "output_type": "display_data"
    },
    {
     "data": {
      "text/html": [
       "<pre style=\"white-space:pre;overflow-x:auto;line-height:normal;font-family:Menlo,'DejaVu Sans Mono',consolas,'Courier New',monospace\">techsupport\n",
       "</pre>\n"
      ],
      "text/plain": [
       "techsupport\n"
      ]
     },
     "metadata": {},
     "output_type": "display_data"
    },
    {
     "data": {
      "text/html": [
       "<pre style=\"white-space:pre;overflow-x:auto;line-height:normal;font-family:Menlo,'DejaVu Sans Mono',consolas,'Courier New',monospace\"></pre>\n"
      ],
      "text/plain": []
     },
     "metadata": {},
     "output_type": "display_data"
    },
    {
     "data": {
      "text/html": [
       "<div>\n",
       "<style scoped>\n",
       "    .dataframe tbody tr th:only-of-type {\n",
       "        vertical-align: middle;\n",
       "    }\n",
       "\n",
       "    .dataframe tbody tr th {\n",
       "        vertical-align: top;\n",
       "    }\n",
       "\n",
       "    .dataframe thead th {\n",
       "        text-align: right;\n",
       "    }\n",
       "</style>\n",
       "<table border=\"1\" class=\"dataframe\">\n",
       "  <thead>\n",
       "    <tr style=\"text-align: right;\">\n",
       "      <th></th>\n",
       "      <th>mean</th>\n",
       "      <th>count</th>\n",
       "      <th>diff</th>\n",
       "      <th>risk</th>\n",
       "    </tr>\n",
       "    <tr>\n",
       "      <th>techsupport</th>\n",
       "      <th></th>\n",
       "      <th></th>\n",
       "      <th></th>\n",
       "      <th></th>\n",
       "    </tr>\n",
       "  </thead>\n",
       "  <tbody>\n",
       "    <tr>\n",
       "      <th>no</th>\n",
       "      <td>0.418914</td>\n",
       "      <td>2781</td>\n",
       "      <td>0.148946</td>\n",
       "      <td>1.551717</td>\n",
       "    </tr>\n",
       "    <tr>\n",
       "      <th>no_internet_service</th>\n",
       "      <td>0.077805</td>\n",
       "      <td>1221</td>\n",
       "      <td>-0.192163</td>\n",
       "      <td>0.288201</td>\n",
       "    </tr>\n",
       "    <tr>\n",
       "      <th>yes</th>\n",
       "      <td>0.159926</td>\n",
       "      <td>1632</td>\n",
       "      <td>-0.110042</td>\n",
       "      <td>0.592390</td>\n",
       "    </tr>\n",
       "  </tbody>\n",
       "</table>\n",
       "</div>"
      ],
      "text/plain": [
       "\n",
       "                         mean  count      diff      risk\n",
       "techsupport                                             \n",
       "no                   \u001b[1;36m0.418914\u001b[0m   \u001b[1;36m2781\u001b[0m  \u001b[1;36m0.148946\u001b[0m  \u001b[1;36m1.551717\u001b[0m\n",
       "no_internet_service  \u001b[1;36m0.077805\u001b[0m   \u001b[1;36m1221\u001b[0m \u001b[1;36m-0.192163\u001b[0m  \u001b[1;36m0.288201\u001b[0m\n",
       "yes                  \u001b[1;36m0.159926\u001b[0m   \u001b[1;36m1632\u001b[0m \u001b[1;36m-0.110042\u001b[0m  \u001b[1;36m0.592390\u001b[0m"
      ]
     },
     "metadata": {},
     "output_type": "display_data"
    },
    {
     "data": {
      "text/html": [
       "<pre style=\"white-space:pre;overflow-x:auto;line-height:normal;font-family:Menlo,'DejaVu Sans Mono',consolas,'Courier New',monospace\">streamingtv\n",
       "</pre>\n"
      ],
      "text/plain": [
       "streamingtv\n"
      ]
     },
     "metadata": {},
     "output_type": "display_data"
    },
    {
     "data": {
      "text/html": [
       "<pre style=\"white-space:pre;overflow-x:auto;line-height:normal;font-family:Menlo,'DejaVu Sans Mono',consolas,'Courier New',monospace\"></pre>\n"
      ],
      "text/plain": []
     },
     "metadata": {},
     "output_type": "display_data"
    },
    {
     "data": {
      "text/html": [
       "<div>\n",
       "<style scoped>\n",
       "    .dataframe tbody tr th:only-of-type {\n",
       "        vertical-align: middle;\n",
       "    }\n",
       "\n",
       "    .dataframe tbody tr th {\n",
       "        vertical-align: top;\n",
       "    }\n",
       "\n",
       "    .dataframe thead th {\n",
       "        text-align: right;\n",
       "    }\n",
       "</style>\n",
       "<table border=\"1\" class=\"dataframe\">\n",
       "  <thead>\n",
       "    <tr style=\"text-align: right;\">\n",
       "      <th></th>\n",
       "      <th>mean</th>\n",
       "      <th>count</th>\n",
       "      <th>diff</th>\n",
       "      <th>risk</th>\n",
       "    </tr>\n",
       "    <tr>\n",
       "      <th>streamingtv</th>\n",
       "      <th></th>\n",
       "      <th></th>\n",
       "      <th></th>\n",
       "      <th></th>\n",
       "    </tr>\n",
       "  </thead>\n",
       "  <tbody>\n",
       "    <tr>\n",
       "      <th>no</th>\n",
       "      <td>0.342832</td>\n",
       "      <td>2246</td>\n",
       "      <td>0.072864</td>\n",
       "      <td>1.269897</td>\n",
       "    </tr>\n",
       "    <tr>\n",
       "      <th>no_internet_service</th>\n",
       "      <td>0.077805</td>\n",
       "      <td>1221</td>\n",
       "      <td>-0.192163</td>\n",
       "      <td>0.288201</td>\n",
       "    </tr>\n",
       "    <tr>\n",
       "      <th>yes</th>\n",
       "      <td>0.302723</td>\n",
       "      <td>2167</td>\n",
       "      <td>0.032755</td>\n",
       "      <td>1.121328</td>\n",
       "    </tr>\n",
       "  </tbody>\n",
       "</table>\n",
       "</div>"
      ],
      "text/plain": [
       "\n",
       "                         mean  count      diff      risk\n",
       "streamingtv                                             \n",
       "no                   \u001b[1;36m0.342832\u001b[0m   \u001b[1;36m2246\u001b[0m  \u001b[1;36m0.072864\u001b[0m  \u001b[1;36m1.269897\u001b[0m\n",
       "no_internet_service  \u001b[1;36m0.077805\u001b[0m   \u001b[1;36m1221\u001b[0m \u001b[1;36m-0.192163\u001b[0m  \u001b[1;36m0.288201\u001b[0m\n",
       "yes                  \u001b[1;36m0.302723\u001b[0m   \u001b[1;36m2167\u001b[0m  \u001b[1;36m0.032755\u001b[0m  \u001b[1;36m1.121328\u001b[0m"
      ]
     },
     "metadata": {},
     "output_type": "display_data"
    },
    {
     "data": {
      "text/html": [
       "<pre style=\"white-space:pre;overflow-x:auto;line-height:normal;font-family:Menlo,'DejaVu Sans Mono',consolas,'Courier New',monospace\">streamingmovies\n",
       "</pre>\n"
      ],
      "text/plain": [
       "streamingmovies\n"
      ]
     },
     "metadata": {},
     "output_type": "display_data"
    },
    {
     "data": {
      "text/html": [
       "<pre style=\"white-space:pre;overflow-x:auto;line-height:normal;font-family:Menlo,'DejaVu Sans Mono',consolas,'Courier New',monospace\"></pre>\n"
      ],
      "text/plain": []
     },
     "metadata": {},
     "output_type": "display_data"
    },
    {
     "data": {
      "text/html": [
       "<div>\n",
       "<style scoped>\n",
       "    .dataframe tbody tr th:only-of-type {\n",
       "        vertical-align: middle;\n",
       "    }\n",
       "\n",
       "    .dataframe tbody tr th {\n",
       "        vertical-align: top;\n",
       "    }\n",
       "\n",
       "    .dataframe thead th {\n",
       "        text-align: right;\n",
       "    }\n",
       "</style>\n",
       "<table border=\"1\" class=\"dataframe\">\n",
       "  <thead>\n",
       "    <tr style=\"text-align: right;\">\n",
       "      <th></th>\n",
       "      <th>mean</th>\n",
       "      <th>count</th>\n",
       "      <th>diff</th>\n",
       "      <th>risk</th>\n",
       "    </tr>\n",
       "    <tr>\n",
       "      <th>streamingmovies</th>\n",
       "      <th></th>\n",
       "      <th></th>\n",
       "      <th></th>\n",
       "      <th></th>\n",
       "    </tr>\n",
       "  </thead>\n",
       "  <tbody>\n",
       "    <tr>\n",
       "      <th>no</th>\n",
       "      <td>0.338906</td>\n",
       "      <td>2213</td>\n",
       "      <td>0.068938</td>\n",
       "      <td>1.255358</td>\n",
       "    </tr>\n",
       "    <tr>\n",
       "      <th>no_internet_service</th>\n",
       "      <td>0.077805</td>\n",
       "      <td>1221</td>\n",
       "      <td>-0.192163</td>\n",
       "      <td>0.288201</td>\n",
       "    </tr>\n",
       "    <tr>\n",
       "      <th>yes</th>\n",
       "      <td>0.307273</td>\n",
       "      <td>2200</td>\n",
       "      <td>0.037305</td>\n",
       "      <td>1.138182</td>\n",
       "    </tr>\n",
       "  </tbody>\n",
       "</table>\n",
       "</div>"
      ],
      "text/plain": [
       "\n",
       "                         mean  count      diff      risk\n",
       "streamingmovies                                         \n",
       "no                   \u001b[1;36m0.338906\u001b[0m   \u001b[1;36m2213\u001b[0m  \u001b[1;36m0.068938\u001b[0m  \u001b[1;36m1.255358\u001b[0m\n",
       "no_internet_service  \u001b[1;36m0.077805\u001b[0m   \u001b[1;36m1221\u001b[0m \u001b[1;36m-0.192163\u001b[0m  \u001b[1;36m0.288201\u001b[0m\n",
       "yes                  \u001b[1;36m0.307273\u001b[0m   \u001b[1;36m2200\u001b[0m  \u001b[1;36m0.037305\u001b[0m  \u001b[1;36m1.138182\u001b[0m"
      ]
     },
     "metadata": {},
     "output_type": "display_data"
    },
    {
     "data": {
      "text/html": [
       "<pre style=\"white-space:pre;overflow-x:auto;line-height:normal;font-family:Menlo,'DejaVu Sans Mono',consolas,'Courier New',monospace\">contract\n",
       "</pre>\n"
      ],
      "text/plain": [
       "contract\n"
      ]
     },
     "metadata": {},
     "output_type": "display_data"
    },
    {
     "data": {
      "text/html": [
       "<pre style=\"white-space:pre;overflow-x:auto;line-height:normal;font-family:Menlo,'DejaVu Sans Mono',consolas,'Courier New',monospace\"></pre>\n"
      ],
      "text/plain": []
     },
     "metadata": {},
     "output_type": "display_data"
    },
    {
     "data": {
      "text/html": [
       "<div>\n",
       "<style scoped>\n",
       "    .dataframe tbody tr th:only-of-type {\n",
       "        vertical-align: middle;\n",
       "    }\n",
       "\n",
       "    .dataframe tbody tr th {\n",
       "        vertical-align: top;\n",
       "    }\n",
       "\n",
       "    .dataframe thead th {\n",
       "        text-align: right;\n",
       "    }\n",
       "</style>\n",
       "<table border=\"1\" class=\"dataframe\">\n",
       "  <thead>\n",
       "    <tr style=\"text-align: right;\">\n",
       "      <th></th>\n",
       "      <th>mean</th>\n",
       "      <th>count</th>\n",
       "      <th>diff</th>\n",
       "      <th>risk</th>\n",
       "    </tr>\n",
       "    <tr>\n",
       "      <th>contract</th>\n",
       "      <th></th>\n",
       "      <th></th>\n",
       "      <th></th>\n",
       "      <th></th>\n",
       "    </tr>\n",
       "  </thead>\n",
       "  <tbody>\n",
       "    <tr>\n",
       "      <th>month-to-month</th>\n",
       "      <td>0.431701</td>\n",
       "      <td>3104</td>\n",
       "      <td>0.161733</td>\n",
       "      <td>1.599082</td>\n",
       "    </tr>\n",
       "    <tr>\n",
       "      <th>one_year</th>\n",
       "      <td>0.120573</td>\n",
       "      <td>1186</td>\n",
       "      <td>-0.149395</td>\n",
       "      <td>0.446621</td>\n",
       "    </tr>\n",
       "    <tr>\n",
       "      <th>two_year</th>\n",
       "      <td>0.028274</td>\n",
       "      <td>1344</td>\n",
       "      <td>-0.241694</td>\n",
       "      <td>0.104730</td>\n",
       "    </tr>\n",
       "  </tbody>\n",
       "</table>\n",
       "</div>"
      ],
      "text/plain": [
       "\n",
       "                    mean  count      diff      risk\n",
       "contract                                           \n",
       "month-to-month  \u001b[1;36m0.431701\u001b[0m   \u001b[1;36m3104\u001b[0m  \u001b[1;36m0.161733\u001b[0m  \u001b[1;36m1.599082\u001b[0m\n",
       "one_year        \u001b[1;36m0.120573\u001b[0m   \u001b[1;36m1186\u001b[0m \u001b[1;36m-0.149395\u001b[0m  \u001b[1;36m0.446621\u001b[0m\n",
       "two_year        \u001b[1;36m0.028274\u001b[0m   \u001b[1;36m1344\u001b[0m \u001b[1;36m-0.241694\u001b[0m  \u001b[1;36m0.104730\u001b[0m"
      ]
     },
     "metadata": {},
     "output_type": "display_data"
    },
    {
     "data": {
      "text/html": [
       "<pre style=\"white-space:pre;overflow-x:auto;line-height:normal;font-family:Menlo,'DejaVu Sans Mono',consolas,'Courier New',monospace\">paperlessbilling\n",
       "</pre>\n"
      ],
      "text/plain": [
       "paperlessbilling\n"
      ]
     },
     "metadata": {},
     "output_type": "display_data"
    },
    {
     "data": {
      "text/html": [
       "<pre style=\"white-space:pre;overflow-x:auto;line-height:normal;font-family:Menlo,'DejaVu Sans Mono',consolas,'Courier New',monospace\"></pre>\n"
      ],
      "text/plain": []
     },
     "metadata": {},
     "output_type": "display_data"
    },
    {
     "data": {
      "text/html": [
       "<div>\n",
       "<style scoped>\n",
       "    .dataframe tbody tr th:only-of-type {\n",
       "        vertical-align: middle;\n",
       "    }\n",
       "\n",
       "    .dataframe tbody tr th {\n",
       "        vertical-align: top;\n",
       "    }\n",
       "\n",
       "    .dataframe thead th {\n",
       "        text-align: right;\n",
       "    }\n",
       "</style>\n",
       "<table border=\"1\" class=\"dataframe\">\n",
       "  <thead>\n",
       "    <tr style=\"text-align: right;\">\n",
       "      <th></th>\n",
       "      <th>mean</th>\n",
       "      <th>count</th>\n",
       "      <th>diff</th>\n",
       "      <th>risk</th>\n",
       "    </tr>\n",
       "    <tr>\n",
       "      <th>paperlessbilling</th>\n",
       "      <th></th>\n",
       "      <th></th>\n",
       "      <th></th>\n",
       "      <th></th>\n",
       "    </tr>\n",
       "  </thead>\n",
       "  <tbody>\n",
       "    <tr>\n",
       "      <th>no</th>\n",
       "      <td>0.172071</td>\n",
       "      <td>2313</td>\n",
       "      <td>-0.097897</td>\n",
       "      <td>0.637375</td>\n",
       "    </tr>\n",
       "    <tr>\n",
       "      <th>yes</th>\n",
       "      <td>0.338151</td>\n",
       "      <td>3321</td>\n",
       "      <td>0.068183</td>\n",
       "      <td>1.252560</td>\n",
       "    </tr>\n",
       "  </tbody>\n",
       "</table>\n",
       "</div>"
      ],
      "text/plain": [
       "\n",
       "                      mean  count      diff      risk\n",
       "paperlessbilling                                     \n",
       "no                \u001b[1;36m0.172071\u001b[0m   \u001b[1;36m2313\u001b[0m \u001b[1;36m-0.097897\u001b[0m  \u001b[1;36m0.637375\u001b[0m\n",
       "yes               \u001b[1;36m0.338151\u001b[0m   \u001b[1;36m3321\u001b[0m  \u001b[1;36m0.068183\u001b[0m  \u001b[1;36m1.252560\u001b[0m"
      ]
     },
     "metadata": {},
     "output_type": "display_data"
    },
    {
     "data": {
      "text/html": [
       "<pre style=\"white-space:pre;overflow-x:auto;line-height:normal;font-family:Menlo,'DejaVu Sans Mono',consolas,'Courier New',monospace\">paymentmethod\n",
       "</pre>\n"
      ],
      "text/plain": [
       "paymentmethod\n"
      ]
     },
     "metadata": {},
     "output_type": "display_data"
    },
    {
     "data": {
      "text/html": [
       "<pre style=\"white-space:pre;overflow-x:auto;line-height:normal;font-family:Menlo,'DejaVu Sans Mono',consolas,'Courier New',monospace\"></pre>\n"
      ],
      "text/plain": []
     },
     "metadata": {},
     "output_type": "display_data"
    },
    {
     "data": {
      "text/html": [
       "<div>\n",
       "<style scoped>\n",
       "    .dataframe tbody tr th:only-of-type {\n",
       "        vertical-align: middle;\n",
       "    }\n",
       "\n",
       "    .dataframe tbody tr th {\n",
       "        vertical-align: top;\n",
       "    }\n",
       "\n",
       "    .dataframe thead th {\n",
       "        text-align: right;\n",
       "    }\n",
       "</style>\n",
       "<table border=\"1\" class=\"dataframe\">\n",
       "  <thead>\n",
       "    <tr style=\"text-align: right;\">\n",
       "      <th></th>\n",
       "      <th>mean</th>\n",
       "      <th>count</th>\n",
       "      <th>diff</th>\n",
       "      <th>risk</th>\n",
       "    </tr>\n",
       "    <tr>\n",
       "      <th>paymentmethod</th>\n",
       "      <th></th>\n",
       "      <th></th>\n",
       "      <th></th>\n",
       "      <th></th>\n",
       "    </tr>\n",
       "  </thead>\n",
       "  <tbody>\n",
       "    <tr>\n",
       "      <th>bank_transfer_(automatic)</th>\n",
       "      <td>0.168171</td>\n",
       "      <td>1219</td>\n",
       "      <td>-0.101797</td>\n",
       "      <td>0.622928</td>\n",
       "    </tr>\n",
       "    <tr>\n",
       "      <th>credit_card_(automatic)</th>\n",
       "      <td>0.164339</td>\n",
       "      <td>1217</td>\n",
       "      <td>-0.105630</td>\n",
       "      <td>0.608733</td>\n",
       "    </tr>\n",
       "    <tr>\n",
       "      <th>electronic_check</th>\n",
       "      <td>0.455890</td>\n",
       "      <td>1893</td>\n",
       "      <td>0.185922</td>\n",
       "      <td>1.688682</td>\n",
       "    </tr>\n",
       "    <tr>\n",
       "      <th>mailed_check</th>\n",
       "      <td>0.193870</td>\n",
       "      <td>1305</td>\n",
       "      <td>-0.076098</td>\n",
       "      <td>0.718121</td>\n",
       "    </tr>\n",
       "  </tbody>\n",
       "</table>\n",
       "</div>"
      ],
      "text/plain": [
       "\n",
       "                               mean  count      diff      risk\n",
       "paymentmethod                                                 \n",
       "\u001b[1;35mbank_transfer_\u001b[0m\u001b[1m(\u001b[0mautomatic\u001b[1m)\u001b[0m  \u001b[1;36m0.168171\u001b[0m   \u001b[1;36m1219\u001b[0m \u001b[1;36m-0.101797\u001b[0m  \u001b[1;36m0.622928\u001b[0m\n",
       "\u001b[1;35mcredit_card_\u001b[0m\u001b[1m(\u001b[0mautomatic\u001b[1m)\u001b[0m    \u001b[1;36m0.164339\u001b[0m   \u001b[1;36m1217\u001b[0m \u001b[1;36m-0.105630\u001b[0m  \u001b[1;36m0.608733\u001b[0m\n",
       "electronic_check           \u001b[1;36m0.455890\u001b[0m   \u001b[1;36m1893\u001b[0m  \u001b[1;36m0.185922\u001b[0m  \u001b[1;36m1.688682\u001b[0m\n",
       "mailed_check               \u001b[1;36m0.193870\u001b[0m   \u001b[1;36m1305\u001b[0m \u001b[1;36m-0.076098\u001b[0m  \u001b[1;36m0.718121\u001b[0m"
      ]
     },
     "metadata": {},
     "output_type": "display_data"
    }
   ],
   "source": [
    "for c in categorical:\n",
    "    print(c)\n",
    "    df_group = df_full_train.groupby(c).churn.agg([\"mean\", \"count\"])\n",
    "    df_group[\"diff\"] = df_group[\"mean\"] - global_churn\n",
    "    df_group[\"risk\"] = df_group[\"mean\"] / global_churn\n",
    "    display(df_group)"
   ]
  },
  {
   "cell_type": "markdown",
   "id": "19c91e6c",
   "metadata": {},
   "source": [
    "# 3.6 Feature importance: Mutual information\n",
    "Mutual information - concept from information theory , it tells is how much we can learn about one variable if we know the value of another.\n",
    "\n",
    "- [A Deep Conceptual Guide to Mutual Information](https://medium.com/swlh/a-deep-conceptual-guide-to-mutual-information-a5021031fad0)\n"
   ]
  },
  {
   "cell_type": "code",
   "execution_count": 30,
   "id": "40cf613f",
   "metadata": {},
   "outputs": [],
   "source": [
    "from sklearn.metrics import mutual_info_score"
   ]
  },
  {
   "cell_type": "code",
   "execution_count": 31,
   "id": "a3488447",
   "metadata": {},
   "outputs": [
    {
     "data": {
      "text/html": [
       "<pre style=\"white-space:pre;overflow-x:auto;line-height:normal;font-family:Menlo,'DejaVu Sans Mono',consolas,'Courier New',monospace\"></pre>\n"
      ],
      "text/plain": []
     },
     "metadata": {},
     "output_type": "display_data"
    },
    {
     "data": {
      "text/plain": [
       "\u001b[1;35mnp.float64\u001b[0m\u001b[1m(\u001b[0m\u001b[1;36m0.0983203874041556\u001b[0m\u001b[1m)\u001b[0m"
      ]
     },
     "execution_count": 31,
     "metadata": {},
     "output_type": "execute_result"
    }
   ],
   "source": [
    "mutual_info_score(labels_true=df_full_train.contract, labels_pred=df_full_train.churn)"
   ]
  },
  {
   "cell_type": "code",
   "execution_count": 32,
   "id": "787f57ce",
   "metadata": {},
   "outputs": [
    {
     "data": {
      "text/html": [
       "<pre style=\"white-space:pre;overflow-x:auto;line-height:normal;font-family:Menlo,'DejaVu Sans Mono',consolas,'Courier New',monospace\"></pre>\n"
      ],
      "text/plain": []
     },
     "metadata": {},
     "output_type": "display_data"
    },
    {
     "data": {
      "text/plain": [
       "\u001b[1;35mnp.float64\u001b[0m\u001b[1m(\u001b[0m\u001b[1;36m0.0001174846211139946\u001b[0m\u001b[1m)\u001b[0m"
      ]
     },
     "execution_count": 32,
     "metadata": {},
     "output_type": "execute_result"
    }
   ],
   "source": [
    "mutual_info_score(labels_true=df_full_train.gender, labels_pred=df_full_train.churn)"
   ]
  },
  {
   "cell_type": "code",
   "execution_count": 33,
   "id": "75002f74",
   "metadata": {},
   "outputs": [],
   "source": [
    "def mutual_info_churn_score(series):\n",
    "    return mutual_info_score(labels_true=series, labels_pred=df_full_train.churn)"
   ]
  },
  {
   "cell_type": "code",
   "execution_count": 34,
   "id": "7a221d11",
   "metadata": {},
   "outputs": [
    {
     "data": {
      "text/html": [
       "<pre style=\"white-space:pre;overflow-x:auto;line-height:normal;font-family:Menlo,'DejaVu Sans Mono',consolas,'Courier New',monospace\"></pre>\n"
      ],
      "text/plain": []
     },
     "metadata": {},
     "output_type": "display_data"
    },
    {
     "data": {
      "text/plain": [
       "\n",
       "contract            \u001b[1;36m0.098320\u001b[0m\n",
       "onlinesecurity      \u001b[1;36m0.063085\u001b[0m\n",
       "techsupport         \u001b[1;36m0.061032\u001b[0m\n",
       "internetservice     \u001b[1;36m0.055868\u001b[0m\n",
       "onlinebackup        \u001b[1;36m0.046923\u001b[0m\n",
       "deviceprotection    \u001b[1;36m0.043453\u001b[0m\n",
       "paymentmethod       \u001b[1;36m0.043210\u001b[0m\n",
       "streamingtv         \u001b[1;36m0.031853\u001b[0m\n",
       "streamingmovies     \u001b[1;36m0.031581\u001b[0m\n",
       "paperlessbilling    \u001b[1;36m0.017589\u001b[0m\n",
       "dependents          \u001b[1;36m0.012346\u001b[0m\n",
       "partner             \u001b[1;36m0.009968\u001b[0m\n",
       "seniorcitizen       \u001b[1;36m0.009410\u001b[0m\n",
       "multiplelines       \u001b[1;36m0.000857\u001b[0m\n",
       "phoneservice        \u001b[1;36m0.000229\u001b[0m\n",
       "gender              \u001b[1;36m0.000117\u001b[0m\n",
       "dtype: float64"
      ]
     },
     "execution_count": 34,
     "metadata": {},
     "output_type": "execute_result"
    }
   ],
   "source": [
    "mi = df_full_train[categorical].apply(mutual_info_churn_score)\n",
    "mi.sort_values(ascending=False)"
   ]
  },
  {
   "cell_type": "markdown",
   "id": "f0731903",
   "metadata": {},
   "source": [
    "# 3.7 Feature importance :Correlation\n",
    "How about numerical columns?\n",
    "- Correlation coefficient\n",
    "- [Pearson correlation coefficient](https://en.wikipedia.org/wiki/Pearson_correlation_coefficient)\n",
    "- -1 <r < 1, r>0 is negative correlation while r>0 is positive correlation\n"
   ]
  },
  {
   "cell_type": "code",
   "execution_count": 35,
   "id": "d1ad32dc",
   "metadata": {},
   "outputs": [
    {
     "data": {
      "text/html": [
       "<pre style=\"white-space:pre;overflow-x:auto;line-height:normal;font-family:Menlo,'DejaVu Sans Mono',consolas,'Courier New',monospace\"></pre>\n"
      ],
      "text/plain": []
     },
     "metadata": {},
     "output_type": "display_data"
    },
    {
     "data": {
      "text/html": [
       "<div>\n",
       "<style scoped>\n",
       "    .dataframe tbody tr th:only-of-type {\n",
       "        vertical-align: middle;\n",
       "    }\n",
       "\n",
       "    .dataframe tbody tr th {\n",
       "        vertical-align: top;\n",
       "    }\n",
       "\n",
       "    .dataframe thead th {\n",
       "        text-align: right;\n",
       "    }\n",
       "</style>\n",
       "<table border=\"1\" class=\"dataframe\">\n",
       "  <thead>\n",
       "    <tr style=\"text-align: right;\">\n",
       "      <th></th>\n",
       "      <th>correlation</th>\n",
       "    </tr>\n",
       "  </thead>\n",
       "  <tbody>\n",
       "    <tr>\n",
       "      <th>tenure</th>\n",
       "      <td>-0.351885</td>\n",
       "    </tr>\n",
       "    <tr>\n",
       "      <th>monthlycharges</th>\n",
       "      <td>0.196805</td>\n",
       "    </tr>\n",
       "    <tr>\n",
       "      <th>totalcharges</th>\n",
       "      <td>-0.196353</td>\n",
       "    </tr>\n",
       "  </tbody>\n",
       "</table>\n",
       "</div>"
      ],
      "text/plain": [
       "\n",
       "                correlation\n",
       "tenure            \u001b[1;36m-0.351885\u001b[0m\n",
       "monthlycharges     \u001b[1;36m0.196805\u001b[0m\n",
       "totalcharges      \u001b[1;36m-0.196353\u001b[0m"
      ]
     },
     "execution_count": 35,
     "metadata": {},
     "output_type": "execute_result"
    }
   ],
   "source": [
    "df_full_train[numerical].corrwith(df_full_train.churn).to_frame(\"correlation\")"
   ]
  },
  {
   "cell_type": "code",
   "execution_count": 36,
   "id": "a67cc6cd",
   "metadata": {},
   "outputs": [
    {
     "data": {
      "text/html": [
       "<pre style=\"white-space:pre;overflow-x:auto;line-height:normal;font-family:Menlo,'DejaVu Sans Mono',consolas,'Courier New',monospace\"></pre>\n"
      ],
      "text/plain": []
     },
     "metadata": {},
     "output_type": "display_data"
    },
    {
     "data": {
      "text/html": [
       "<div>\n",
       "<style scoped>\n",
       "    .dataframe tbody tr th:only-of-type {\n",
       "        vertical-align: middle;\n",
       "    }\n",
       "\n",
       "    .dataframe tbody tr th {\n",
       "        vertical-align: top;\n",
       "    }\n",
       "\n",
       "    .dataframe thead th {\n",
       "        text-align: right;\n",
       "    }\n",
       "</style>\n",
       "<table border=\"1\" class=\"dataframe\">\n",
       "  <thead>\n",
       "    <tr style=\"text-align: right;\">\n",
       "      <th></th>\n",
       "      <th>tenure</th>\n",
       "      <th>monthlycharges</th>\n",
       "      <th>totalcharges</th>\n",
       "    </tr>\n",
       "    <tr>\n",
       "      <th>churn</th>\n",
       "      <th></th>\n",
       "      <th></th>\n",
       "      <th></th>\n",
       "    </tr>\n",
       "  </thead>\n",
       "  <tbody>\n",
       "    <tr>\n",
       "      <th>0</th>\n",
       "      <td>37.531972</td>\n",
       "      <td>61.176477</td>\n",
       "      <td>2548.021627</td>\n",
       "    </tr>\n",
       "    <tr>\n",
       "      <th>1</th>\n",
       "      <td>18.070348</td>\n",
       "      <td>74.521203</td>\n",
       "      <td>1545.689415</td>\n",
       "    </tr>\n",
       "  </tbody>\n",
       "</table>\n",
       "</div>"
      ],
      "text/plain": [
       "\n",
       "          tenure  monthlycharges  totalcharges\n",
       "churn                                         \n",
       "\u001b[1;36m0\u001b[0m      \u001b[1;36m37.531972\u001b[0m       \u001b[1;36m61.176477\u001b[0m   \u001b[1;36m2548.021627\u001b[0m\n",
       "\u001b[1;36m1\u001b[0m      \u001b[1;36m18.070348\u001b[0m       \u001b[1;36m74.521203\u001b[0m   \u001b[1;36m1545.689415\u001b[0m"
      ]
     },
     "execution_count": 36,
     "metadata": {},
     "output_type": "execute_result"
    }
   ],
   "source": [
    "df_full_train.groupby(by=\"churn\")[numerical].mean()"
   ]
  },
  {
   "cell_type": "markdown",
   "id": "6ca64fe3",
   "metadata": {},
   "source": [
    "# 3.8 One-hot encoding\n",
    "- Use Scikit-Learn to encode categorical features\n",
    "- [What Is One Hot Encoding and How to Implement It in Python](https://www.datacamp.com/tutorial/one-hot-encoding-python-tutorial)\n",
    "- [DictVectorizer](https://scikit-learn.org/stable/modules/generated/sklearn.feature_extraction.DictVectorizer.html) , [OneHotEncoder](https://scikit-learn.org/dev/modules/generated/sklearn.preprocessing.OneHotEncoder.html)"
   ]
  },
  {
   "cell_type": "code",
   "execution_count": 37,
   "id": "a5032102",
   "metadata": {},
   "outputs": [],
   "source": [
    "from sklearn.feature_extraction import DictVectorizer"
   ]
  },
  {
   "cell_type": "code",
   "execution_count": 38,
   "id": "7bb73fce",
   "metadata": {},
   "outputs": [
    {
     "data": {
      "text/html": [
       "<pre style=\"white-space:pre;overflow-x:auto;line-height:normal;font-family:Menlo,'DejaVu Sans Mono',consolas,'Courier New',monospace\"></pre>\n"
      ],
      "text/plain": []
     },
     "metadata": {},
     "output_type": "display_data"
    },
    {
     "data": {
      "text/html": [
       "<div>\n",
       "<style scoped>\n",
       "    .dataframe tbody tr th:only-of-type {\n",
       "        vertical-align: middle;\n",
       "    }\n",
       "\n",
       "    .dataframe tbody tr th {\n",
       "        vertical-align: top;\n",
       "    }\n",
       "\n",
       "    .dataframe thead th {\n",
       "        text-align: right;\n",
       "    }\n",
       "</style>\n",
       "<table border=\"1\" class=\"dataframe\">\n",
       "  <thead>\n",
       "    <tr style=\"text-align: right;\">\n",
       "      <th></th>\n",
       "      <th>customerid</th>\n",
       "      <th>gender</th>\n",
       "      <th>seniorcitizen</th>\n",
       "      <th>partner</th>\n",
       "      <th>dependents</th>\n",
       "      <th>tenure</th>\n",
       "      <th>phoneservice</th>\n",
       "      <th>multiplelines</th>\n",
       "      <th>internetservice</th>\n",
       "      <th>onlinesecurity</th>\n",
       "      <th>onlinebackup</th>\n",
       "      <th>deviceprotection</th>\n",
       "      <th>techsupport</th>\n",
       "      <th>streamingtv</th>\n",
       "      <th>streamingmovies</th>\n",
       "      <th>contract</th>\n",
       "      <th>paperlessbilling</th>\n",
       "      <th>paymentmethod</th>\n",
       "      <th>monthlycharges</th>\n",
       "      <th>totalcharges</th>\n",
       "    </tr>\n",
       "  </thead>\n",
       "  <tbody>\n",
       "    <tr>\n",
       "      <th>0</th>\n",
       "      <td>8015-ihcgw</td>\n",
       "      <td>female</td>\n",
       "      <td>0</td>\n",
       "      <td>yes</td>\n",
       "      <td>yes</td>\n",
       "      <td>72</td>\n",
       "      <td>yes</td>\n",
       "      <td>yes</td>\n",
       "      <td>fiber_optic</td>\n",
       "      <td>yes</td>\n",
       "      <td>yes</td>\n",
       "      <td>yes</td>\n",
       "      <td>yes</td>\n",
       "      <td>yes</td>\n",
       "      <td>yes</td>\n",
       "      <td>two_year</td>\n",
       "      <td>yes</td>\n",
       "      <td>electronic_check</td>\n",
       "      <td>115.50</td>\n",
       "      <td>8425.15</td>\n",
       "    </tr>\n",
       "    <tr>\n",
       "      <th>1</th>\n",
       "      <td>1960-uycnn</td>\n",
       "      <td>male</td>\n",
       "      <td>0</td>\n",
       "      <td>no</td>\n",
       "      <td>no</td>\n",
       "      <td>10</td>\n",
       "      <td>yes</td>\n",
       "      <td>yes</td>\n",
       "      <td>fiber_optic</td>\n",
       "      <td>no</td>\n",
       "      <td>yes</td>\n",
       "      <td>yes</td>\n",
       "      <td>no</td>\n",
       "      <td>no</td>\n",
       "      <td>yes</td>\n",
       "      <td>month-to-month</td>\n",
       "      <td>yes</td>\n",
       "      <td>electronic_check</td>\n",
       "      <td>95.25</td>\n",
       "      <td>1021.55</td>\n",
       "    </tr>\n",
       "    <tr>\n",
       "      <th>2</th>\n",
       "      <td>9250-wypll</td>\n",
       "      <td>female</td>\n",
       "      <td>0</td>\n",
       "      <td>no</td>\n",
       "      <td>no</td>\n",
       "      <td>5</td>\n",
       "      <td>yes</td>\n",
       "      <td>yes</td>\n",
       "      <td>fiber_optic</td>\n",
       "      <td>no</td>\n",
       "      <td>no</td>\n",
       "      <td>no</td>\n",
       "      <td>no</td>\n",
       "      <td>no</td>\n",
       "      <td>no</td>\n",
       "      <td>month-to-month</td>\n",
       "      <td>no</td>\n",
       "      <td>electronic_check</td>\n",
       "      <td>75.55</td>\n",
       "      <td>413.65</td>\n",
       "    </tr>\n",
       "    <tr>\n",
       "      <th>3</th>\n",
       "      <td>6786-obwqr</td>\n",
       "      <td>female</td>\n",
       "      <td>0</td>\n",
       "      <td>yes</td>\n",
       "      <td>yes</td>\n",
       "      <td>5</td>\n",
       "      <td>yes</td>\n",
       "      <td>no</td>\n",
       "      <td>fiber_optic</td>\n",
       "      <td>no</td>\n",
       "      <td>no</td>\n",
       "      <td>no</td>\n",
       "      <td>no</td>\n",
       "      <td>yes</td>\n",
       "      <td>no</td>\n",
       "      <td>month-to-month</td>\n",
       "      <td>yes</td>\n",
       "      <td>electronic_check</td>\n",
       "      <td>80.85</td>\n",
       "      <td>356.10</td>\n",
       "    </tr>\n",
       "    <tr>\n",
       "      <th>4</th>\n",
       "      <td>1328-euzhc</td>\n",
       "      <td>female</td>\n",
       "      <td>0</td>\n",
       "      <td>yes</td>\n",
       "      <td>no</td>\n",
       "      <td>18</td>\n",
       "      <td>yes</td>\n",
       "      <td>no</td>\n",
       "      <td>no</td>\n",
       "      <td>no_internet_service</td>\n",
       "      <td>no_internet_service</td>\n",
       "      <td>no_internet_service</td>\n",
       "      <td>no_internet_service</td>\n",
       "      <td>no_internet_service</td>\n",
       "      <td>no_internet_service</td>\n",
       "      <td>two_year</td>\n",
       "      <td>no</td>\n",
       "      <td>mailed_check</td>\n",
       "      <td>20.10</td>\n",
       "      <td>370.50</td>\n",
       "    </tr>\n",
       "    <tr>\n",
       "      <th>...</th>\n",
       "      <td>...</td>\n",
       "      <td>...</td>\n",
       "      <td>...</td>\n",
       "      <td>...</td>\n",
       "      <td>...</td>\n",
       "      <td>...</td>\n",
       "      <td>...</td>\n",
       "      <td>...</td>\n",
       "      <td>...</td>\n",
       "      <td>...</td>\n",
       "      <td>...</td>\n",
       "      <td>...</td>\n",
       "      <td>...</td>\n",
       "      <td>...</td>\n",
       "      <td>...</td>\n",
       "      <td>...</td>\n",
       "      <td>...</td>\n",
       "      <td>...</td>\n",
       "      <td>...</td>\n",
       "      <td>...</td>\n",
       "    </tr>\n",
       "    <tr>\n",
       "      <th>4220</th>\n",
       "      <td>1309-xgfsn</td>\n",
       "      <td>male</td>\n",
       "      <td>1</td>\n",
       "      <td>yes</td>\n",
       "      <td>yes</td>\n",
       "      <td>52</td>\n",
       "      <td>yes</td>\n",
       "      <td>yes</td>\n",
       "      <td>dsl</td>\n",
       "      <td>no</td>\n",
       "      <td>yes</td>\n",
       "      <td>yes</td>\n",
       "      <td>no</td>\n",
       "      <td>yes</td>\n",
       "      <td>yes</td>\n",
       "      <td>one_year</td>\n",
       "      <td>yes</td>\n",
       "      <td>electronic_check</td>\n",
       "      <td>80.85</td>\n",
       "      <td>4079.55</td>\n",
       "    </tr>\n",
       "    <tr>\n",
       "      <th>4221</th>\n",
       "      <td>4819-hjpiw</td>\n",
       "      <td>male</td>\n",
       "      <td>0</td>\n",
       "      <td>no</td>\n",
       "      <td>no</td>\n",
       "      <td>18</td>\n",
       "      <td>no</td>\n",
       "      <td>no_phone_service</td>\n",
       "      <td>dsl</td>\n",
       "      <td>no</td>\n",
       "      <td>no</td>\n",
       "      <td>no</td>\n",
       "      <td>no</td>\n",
       "      <td>no</td>\n",
       "      <td>no</td>\n",
       "      <td>month-to-month</td>\n",
       "      <td>no</td>\n",
       "      <td>mailed_check</td>\n",
       "      <td>25.15</td>\n",
       "      <td>476.80</td>\n",
       "    </tr>\n",
       "    <tr>\n",
       "      <th>4222</th>\n",
       "      <td>3703-vavcl</td>\n",
       "      <td>male</td>\n",
       "      <td>0</td>\n",
       "      <td>yes</td>\n",
       "      <td>yes</td>\n",
       "      <td>2</td>\n",
       "      <td>yes</td>\n",
       "      <td>no</td>\n",
       "      <td>fiber_optic</td>\n",
       "      <td>no</td>\n",
       "      <td>no</td>\n",
       "      <td>yes</td>\n",
       "      <td>yes</td>\n",
       "      <td>no</td>\n",
       "      <td>yes</td>\n",
       "      <td>month-to-month</td>\n",
       "      <td>no</td>\n",
       "      <td>credit_card_(automatic)</td>\n",
       "      <td>90.00</td>\n",
       "      <td>190.05</td>\n",
       "    </tr>\n",
       "    <tr>\n",
       "      <th>4223</th>\n",
       "      <td>3812-lrzir</td>\n",
       "      <td>female</td>\n",
       "      <td>0</td>\n",
       "      <td>yes</td>\n",
       "      <td>yes</td>\n",
       "      <td>27</td>\n",
       "      <td>yes</td>\n",
       "      <td>yes</td>\n",
       "      <td>no</td>\n",
       "      <td>no_internet_service</td>\n",
       "      <td>no_internet_service</td>\n",
       "      <td>no_internet_service</td>\n",
       "      <td>no_internet_service</td>\n",
       "      <td>no_internet_service</td>\n",
       "      <td>no_internet_service</td>\n",
       "      <td>two_year</td>\n",
       "      <td>no</td>\n",
       "      <td>electronic_check</td>\n",
       "      <td>24.50</td>\n",
       "      <td>761.95</td>\n",
       "    </tr>\n",
       "    <tr>\n",
       "      <th>4224</th>\n",
       "      <td>1704-nrwye</td>\n",
       "      <td>female</td>\n",
       "      <td>1</td>\n",
       "      <td>no</td>\n",
       "      <td>no</td>\n",
       "      <td>9</td>\n",
       "      <td>yes</td>\n",
       "      <td>no</td>\n",
       "      <td>fiber_optic</td>\n",
       "      <td>no</td>\n",
       "      <td>no</td>\n",
       "      <td>no</td>\n",
       "      <td>no</td>\n",
       "      <td>yes</td>\n",
       "      <td>no</td>\n",
       "      <td>month-to-month</td>\n",
       "      <td>yes</td>\n",
       "      <td>electronic_check</td>\n",
       "      <td>80.85</td>\n",
       "      <td>751.65</td>\n",
       "    </tr>\n",
       "  </tbody>\n",
       "</table>\n",
       "<p>4225 rows × 20 columns</p>\n",
       "</div>"
      ],
      "text/plain": [
       "\n",
       "      customerid  gender  seniorcitizen partner dependents  tenure  \\\n",
       "\u001b[1;36m0\u001b[0m     \u001b[1;36m8015\u001b[0m-ihcgw  female              \u001b[1;36m0\u001b[0m     yes        yes      \u001b[1;36m72\u001b[0m   \n",
       "\u001b[1;36m1\u001b[0m     \u001b[1;36m1960\u001b[0m-uycnn    male              \u001b[1;36m0\u001b[0m      no         no      \u001b[1;36m10\u001b[0m   \n",
       "\u001b[1;36m2\u001b[0m     \u001b[1;36m9250\u001b[0m-wypll  female              \u001b[1;36m0\u001b[0m      no         no       \u001b[1;36m5\u001b[0m   \n",
       "\u001b[1;36m3\u001b[0m     \u001b[1;36m6786\u001b[0m-obwqr  female              \u001b[1;36m0\u001b[0m     yes        yes       \u001b[1;36m5\u001b[0m   \n",
       "\u001b[1;36m4\u001b[0m     \u001b[1;36m1328\u001b[0m-euzhc  female              \u001b[1;36m0\u001b[0m     yes         no      \u001b[1;36m18\u001b[0m   \n",
       "\u001b[33m...\u001b[0m          \u001b[33m...\u001b[0m     \u001b[33m...\u001b[0m            \u001b[33m...\u001b[0m     \u001b[33m...\u001b[0m        \u001b[33m...\u001b[0m     \u001b[33m...\u001b[0m   \n",
       "\u001b[1;36m4220\u001b[0m  \u001b[1;36m1309\u001b[0m-xgfsn    male              \u001b[1;36m1\u001b[0m     yes        yes      \u001b[1;36m52\u001b[0m   \n",
       "\u001b[1;36m4221\u001b[0m  \u001b[1;36m4819\u001b[0m-hjpiw    male              \u001b[1;36m0\u001b[0m      no         no      \u001b[1;36m18\u001b[0m   \n",
       "\u001b[1;36m4222\u001b[0m  \u001b[1;36m3703\u001b[0m-vavcl    male              \u001b[1;36m0\u001b[0m     yes        yes       \u001b[1;36m2\u001b[0m   \n",
       "\u001b[1;36m4223\u001b[0m  \u001b[1;36m3812\u001b[0m-lrzir  female              \u001b[1;36m0\u001b[0m     yes        yes      \u001b[1;36m27\u001b[0m   \n",
       "\u001b[1;36m4224\u001b[0m  \u001b[1;36m1704\u001b[0m-nrwye  female              \u001b[1;36m1\u001b[0m      no         no       \u001b[1;36m9\u001b[0m   \n",
       "\n",
       "     phoneservice     multiplelines internetservice       onlinesecurity  \\\n",
       "\u001b[1;36m0\u001b[0m             yes               yes     fiber_optic                  yes   \n",
       "\u001b[1;36m1\u001b[0m             yes               yes     fiber_optic                   no   \n",
       "\u001b[1;36m2\u001b[0m             yes               yes     fiber_optic                   no   \n",
       "\u001b[1;36m3\u001b[0m             yes                no     fiber_optic                   no   \n",
       "\u001b[1;36m4\u001b[0m             yes                no              no  no_internet_service   \n",
       "\u001b[33m...\u001b[0m           \u001b[33m...\u001b[0m               \u001b[33m...\u001b[0m             \u001b[33m...\u001b[0m                  \u001b[33m...\u001b[0m   \n",
       "\u001b[1;36m4220\u001b[0m          yes               yes             dsl                   no   \n",
       "\u001b[1;36m4221\u001b[0m           no  no_phone_service             dsl                   no   \n",
       "\u001b[1;36m4222\u001b[0m          yes                no     fiber_optic                   no   \n",
       "\u001b[1;36m4223\u001b[0m          yes               yes              no  no_internet_service   \n",
       "\u001b[1;36m4224\u001b[0m          yes                no     fiber_optic                   no   \n",
       "\n",
       "             onlinebackup     deviceprotection          techsupport  \\\n",
       "\u001b[1;36m0\u001b[0m                     yes                  yes                  yes   \n",
       "\u001b[1;36m1\u001b[0m                     yes                  yes                   no   \n",
       "\u001b[1;36m2\u001b[0m                      no                   no                   no   \n",
       "\u001b[1;36m3\u001b[0m                      no                   no                   no   \n",
       "\u001b[1;36m4\u001b[0m     no_internet_service  no_internet_service  no_internet_service   \n",
       "\u001b[33m...\u001b[0m                   \u001b[33m...\u001b[0m                  \u001b[33m...\u001b[0m                  \u001b[33m...\u001b[0m   \n",
       "\u001b[1;36m4220\u001b[0m                  yes                  yes                   no   \n",
       "\u001b[1;36m4221\u001b[0m                   no                   no                   no   \n",
       "\u001b[1;36m4222\u001b[0m                   no                  yes                  yes   \n",
       "\u001b[1;36m4223\u001b[0m  no_internet_service  no_internet_service  no_internet_service   \n",
       "\u001b[1;36m4224\u001b[0m                   no                   no                   no   \n",
       "\n",
       "              streamingtv      streamingmovies        contract  \\\n",
       "\u001b[1;36m0\u001b[0m                     yes                  yes        two_year   \n",
       "\u001b[1;36m1\u001b[0m                      no                  yes  month-to-month   \n",
       "\u001b[1;36m2\u001b[0m                      no                   no  month-to-month   \n",
       "\u001b[1;36m3\u001b[0m                     yes                   no  month-to-month   \n",
       "\u001b[1;36m4\u001b[0m     no_internet_service  no_internet_service        two_year   \n",
       "\u001b[33m...\u001b[0m                   \u001b[33m...\u001b[0m                  \u001b[33m...\u001b[0m             \u001b[33m...\u001b[0m   \n",
       "\u001b[1;36m4220\u001b[0m                  yes                  yes        one_year   \n",
       "\u001b[1;36m4221\u001b[0m                   no                   no  month-to-month   \n",
       "\u001b[1;36m4222\u001b[0m                   no                  yes  month-to-month   \n",
       "\u001b[1;36m4223\u001b[0m  no_internet_service  no_internet_service        two_year   \n",
       "\u001b[1;36m4224\u001b[0m                  yes                   no  month-to-month   \n",
       "\n",
       "     paperlessbilling            paymentmethod  monthlycharges  totalcharges  \n",
       "\u001b[1;36m0\u001b[0m                 yes         electronic_check          \u001b[1;36m115.50\u001b[0m       \u001b[1;36m8425.15\u001b[0m  \n",
       "\u001b[1;36m1\u001b[0m                 yes         electronic_check           \u001b[1;36m95.25\u001b[0m       \u001b[1;36m1021.55\u001b[0m  \n",
       "\u001b[1;36m2\u001b[0m                  no         electronic_check           \u001b[1;36m75.55\u001b[0m        \u001b[1;36m413.65\u001b[0m  \n",
       "\u001b[1;36m3\u001b[0m                 yes         electronic_check           \u001b[1;36m80.85\u001b[0m        \u001b[1;36m356.10\u001b[0m  \n",
       "\u001b[1;36m4\u001b[0m                  no             mailed_check           \u001b[1;36m20.10\u001b[0m        \u001b[1;36m370.50\u001b[0m  \n",
       "\u001b[33m...\u001b[0m               \u001b[33m...\u001b[0m                      \u001b[33m...\u001b[0m             \u001b[33m...\u001b[0m           \u001b[33m...\u001b[0m  \n",
       "\u001b[1;36m4220\u001b[0m              yes         electronic_check           \u001b[1;36m80.85\u001b[0m       \u001b[1;36m4079.55\u001b[0m  \n",
       "\u001b[1;36m4221\u001b[0m               no             mailed_check           \u001b[1;36m25.15\u001b[0m        \u001b[1;36m476.80\u001b[0m  \n",
       "\u001b[1;36m4222\u001b[0m               no  \u001b[1;35mcredit_card_\u001b[0m\u001b[1m(\u001b[0mautomatic\u001b[1m)\u001b[0m           \u001b[1;36m90.00\u001b[0m        \u001b[1;36m190.05\u001b[0m  \n",
       "\u001b[1;36m4223\u001b[0m               no         electronic_check           \u001b[1;36m24.50\u001b[0m        \u001b[1;36m761.95\u001b[0m  \n",
       "\u001b[1;36m4224\u001b[0m              yes         electronic_check           \u001b[1;36m80.85\u001b[0m        \u001b[1;36m751.65\u001b[0m  \n",
       "\n",
       "\u001b[1m[\u001b[0m\u001b[1;36m4225\u001b[0m rows x \u001b[1;36m20\u001b[0m columns\u001b[1m]\u001b[0m"
      ]
     },
     "execution_count": 38,
     "metadata": {},
     "output_type": "execute_result"
    }
   ],
   "source": [
    "df_train"
   ]
  },
  {
   "cell_type": "code",
   "execution_count": 90,
   "id": "6c99c775",
   "metadata": {},
   "outputs": [
    {
     "data": {
      "text/html": [
       "<pre style=\"white-space:pre;overflow-x:auto;line-height:normal;font-family:Menlo,'DejaVu Sans Mono',consolas,'Courier New',monospace\"></pre>\n"
      ],
      "text/plain": []
     },
     "metadata": {},
     "output_type": "display_data"
    },
    {
     "data": {
      "text/html": [
       "<div>\n",
       "<style scoped>\n",
       "    .dataframe tbody tr th:only-of-type {\n",
       "        vertical-align: middle;\n",
       "    }\n",
       "\n",
       "    .dataframe tbody tr th {\n",
       "        vertical-align: top;\n",
       "    }\n",
       "\n",
       "    .dataframe thead th {\n",
       "        text-align: right;\n",
       "    }\n",
       "</style>\n",
       "<table border=\"1\" class=\"dataframe\">\n",
       "  <thead>\n",
       "    <tr style=\"text-align: right;\">\n",
       "      <th></th>\n",
       "      <th>gender</th>\n",
       "      <th>seniorcitizen</th>\n",
       "      <th>partner</th>\n",
       "      <th>dependents</th>\n",
       "      <th>phoneservice</th>\n",
       "      <th>multiplelines</th>\n",
       "      <th>internetservice</th>\n",
       "      <th>onlinesecurity</th>\n",
       "      <th>onlinebackup</th>\n",
       "      <th>deviceprotection</th>\n",
       "      <th>techsupport</th>\n",
       "      <th>streamingtv</th>\n",
       "      <th>streamingmovies</th>\n",
       "      <th>contract</th>\n",
       "      <th>paperlessbilling</th>\n",
       "      <th>paymentmethod</th>\n",
       "      <th>tenure</th>\n",
       "      <th>monthlycharges</th>\n",
       "      <th>totalcharges</th>\n",
       "    </tr>\n",
       "  </thead>\n",
       "  <tbody>\n",
       "    <tr>\n",
       "      <th>0</th>\n",
       "      <td>female</td>\n",
       "      <td>0</td>\n",
       "      <td>yes</td>\n",
       "      <td>yes</td>\n",
       "      <td>yes</td>\n",
       "      <td>yes</td>\n",
       "      <td>fiber_optic</td>\n",
       "      <td>yes</td>\n",
       "      <td>yes</td>\n",
       "      <td>yes</td>\n",
       "      <td>yes</td>\n",
       "      <td>yes</td>\n",
       "      <td>yes</td>\n",
       "      <td>two_year</td>\n",
       "      <td>yes</td>\n",
       "      <td>electronic_check</td>\n",
       "      <td>72</td>\n",
       "      <td>115.50</td>\n",
       "      <td>8425.15</td>\n",
       "    </tr>\n",
       "    <tr>\n",
       "      <th>1</th>\n",
       "      <td>male</td>\n",
       "      <td>0</td>\n",
       "      <td>no</td>\n",
       "      <td>no</td>\n",
       "      <td>yes</td>\n",
       "      <td>yes</td>\n",
       "      <td>fiber_optic</td>\n",
       "      <td>no</td>\n",
       "      <td>yes</td>\n",
       "      <td>yes</td>\n",
       "      <td>no</td>\n",
       "      <td>no</td>\n",
       "      <td>yes</td>\n",
       "      <td>month-to-month</td>\n",
       "      <td>yes</td>\n",
       "      <td>electronic_check</td>\n",
       "      <td>10</td>\n",
       "      <td>95.25</td>\n",
       "      <td>1021.55</td>\n",
       "    </tr>\n",
       "    <tr>\n",
       "      <th>2</th>\n",
       "      <td>female</td>\n",
       "      <td>0</td>\n",
       "      <td>no</td>\n",
       "      <td>no</td>\n",
       "      <td>yes</td>\n",
       "      <td>yes</td>\n",
       "      <td>fiber_optic</td>\n",
       "      <td>no</td>\n",
       "      <td>no</td>\n",
       "      <td>no</td>\n",
       "      <td>no</td>\n",
       "      <td>no</td>\n",
       "      <td>no</td>\n",
       "      <td>month-to-month</td>\n",
       "      <td>no</td>\n",
       "      <td>electronic_check</td>\n",
       "      <td>5</td>\n",
       "      <td>75.55</td>\n",
       "      <td>413.65</td>\n",
       "    </tr>\n",
       "    <tr>\n",
       "      <th>3</th>\n",
       "      <td>female</td>\n",
       "      <td>0</td>\n",
       "      <td>yes</td>\n",
       "      <td>yes</td>\n",
       "      <td>yes</td>\n",
       "      <td>no</td>\n",
       "      <td>fiber_optic</td>\n",
       "      <td>no</td>\n",
       "      <td>no</td>\n",
       "      <td>no</td>\n",
       "      <td>no</td>\n",
       "      <td>yes</td>\n",
       "      <td>no</td>\n",
       "      <td>month-to-month</td>\n",
       "      <td>yes</td>\n",
       "      <td>electronic_check</td>\n",
       "      <td>5</td>\n",
       "      <td>80.85</td>\n",
       "      <td>356.10</td>\n",
       "    </tr>\n",
       "    <tr>\n",
       "      <th>4</th>\n",
       "      <td>female</td>\n",
       "      <td>0</td>\n",
       "      <td>yes</td>\n",
       "      <td>no</td>\n",
       "      <td>yes</td>\n",
       "      <td>no</td>\n",
       "      <td>no</td>\n",
       "      <td>no_internet_service</td>\n",
       "      <td>no_internet_service</td>\n",
       "      <td>no_internet_service</td>\n",
       "      <td>no_internet_service</td>\n",
       "      <td>no_internet_service</td>\n",
       "      <td>no_internet_service</td>\n",
       "      <td>two_year</td>\n",
       "      <td>no</td>\n",
       "      <td>mailed_check</td>\n",
       "      <td>18</td>\n",
       "      <td>20.10</td>\n",
       "      <td>370.50</td>\n",
       "    </tr>\n",
       "    <tr>\n",
       "      <th>...</th>\n",
       "      <td>...</td>\n",
       "      <td>...</td>\n",
       "      <td>...</td>\n",
       "      <td>...</td>\n",
       "      <td>...</td>\n",
       "      <td>...</td>\n",
       "      <td>...</td>\n",
       "      <td>...</td>\n",
       "      <td>...</td>\n",
       "      <td>...</td>\n",
       "      <td>...</td>\n",
       "      <td>...</td>\n",
       "      <td>...</td>\n",
       "      <td>...</td>\n",
       "      <td>...</td>\n",
       "      <td>...</td>\n",
       "      <td>...</td>\n",
       "      <td>...</td>\n",
       "      <td>...</td>\n",
       "    </tr>\n",
       "    <tr>\n",
       "      <th>4220</th>\n",
       "      <td>male</td>\n",
       "      <td>1</td>\n",
       "      <td>yes</td>\n",
       "      <td>yes</td>\n",
       "      <td>yes</td>\n",
       "      <td>yes</td>\n",
       "      <td>dsl</td>\n",
       "      <td>no</td>\n",
       "      <td>yes</td>\n",
       "      <td>yes</td>\n",
       "      <td>no</td>\n",
       "      <td>yes</td>\n",
       "      <td>yes</td>\n",
       "      <td>one_year</td>\n",
       "      <td>yes</td>\n",
       "      <td>electronic_check</td>\n",
       "      <td>52</td>\n",
       "      <td>80.85</td>\n",
       "      <td>4079.55</td>\n",
       "    </tr>\n",
       "    <tr>\n",
       "      <th>4221</th>\n",
       "      <td>male</td>\n",
       "      <td>0</td>\n",
       "      <td>no</td>\n",
       "      <td>no</td>\n",
       "      <td>no</td>\n",
       "      <td>no_phone_service</td>\n",
       "      <td>dsl</td>\n",
       "      <td>no</td>\n",
       "      <td>no</td>\n",
       "      <td>no</td>\n",
       "      <td>no</td>\n",
       "      <td>no</td>\n",
       "      <td>no</td>\n",
       "      <td>month-to-month</td>\n",
       "      <td>no</td>\n",
       "      <td>mailed_check</td>\n",
       "      <td>18</td>\n",
       "      <td>25.15</td>\n",
       "      <td>476.80</td>\n",
       "    </tr>\n",
       "    <tr>\n",
       "      <th>4222</th>\n",
       "      <td>male</td>\n",
       "      <td>0</td>\n",
       "      <td>yes</td>\n",
       "      <td>yes</td>\n",
       "      <td>yes</td>\n",
       "      <td>no</td>\n",
       "      <td>fiber_optic</td>\n",
       "      <td>no</td>\n",
       "      <td>no</td>\n",
       "      <td>yes</td>\n",
       "      <td>yes</td>\n",
       "      <td>no</td>\n",
       "      <td>yes</td>\n",
       "      <td>month-to-month</td>\n",
       "      <td>no</td>\n",
       "      <td>credit_card_(automatic)</td>\n",
       "      <td>2</td>\n",
       "      <td>90.00</td>\n",
       "      <td>190.05</td>\n",
       "    </tr>\n",
       "    <tr>\n",
       "      <th>4223</th>\n",
       "      <td>female</td>\n",
       "      <td>0</td>\n",
       "      <td>yes</td>\n",
       "      <td>yes</td>\n",
       "      <td>yes</td>\n",
       "      <td>yes</td>\n",
       "      <td>no</td>\n",
       "      <td>no_internet_service</td>\n",
       "      <td>no_internet_service</td>\n",
       "      <td>no_internet_service</td>\n",
       "      <td>no_internet_service</td>\n",
       "      <td>no_internet_service</td>\n",
       "      <td>no_internet_service</td>\n",
       "      <td>two_year</td>\n",
       "      <td>no</td>\n",
       "      <td>electronic_check</td>\n",
       "      <td>27</td>\n",
       "      <td>24.50</td>\n",
       "      <td>761.95</td>\n",
       "    </tr>\n",
       "    <tr>\n",
       "      <th>4224</th>\n",
       "      <td>female</td>\n",
       "      <td>1</td>\n",
       "      <td>no</td>\n",
       "      <td>no</td>\n",
       "      <td>yes</td>\n",
       "      <td>no</td>\n",
       "      <td>fiber_optic</td>\n",
       "      <td>no</td>\n",
       "      <td>no</td>\n",
       "      <td>no</td>\n",
       "      <td>no</td>\n",
       "      <td>yes</td>\n",
       "      <td>no</td>\n",
       "      <td>month-to-month</td>\n",
       "      <td>yes</td>\n",
       "      <td>electronic_check</td>\n",
       "      <td>9</td>\n",
       "      <td>80.85</td>\n",
       "      <td>751.65</td>\n",
       "    </tr>\n",
       "  </tbody>\n",
       "</table>\n",
       "<p>4225 rows × 19 columns</p>\n",
       "</div>"
      ],
      "text/plain": [
       "\n",
       "      gender  seniorcitizen partner dependents phoneservice     multiplelines  \\\n",
       "\u001b[1;36m0\u001b[0m     female              \u001b[1;36m0\u001b[0m     yes        yes          yes               yes   \n",
       "\u001b[1;36m1\u001b[0m       male              \u001b[1;36m0\u001b[0m      no         no          yes               yes   \n",
       "\u001b[1;36m2\u001b[0m     female              \u001b[1;36m0\u001b[0m      no         no          yes               yes   \n",
       "\u001b[1;36m3\u001b[0m     female              \u001b[1;36m0\u001b[0m     yes        yes          yes                no   \n",
       "\u001b[1;36m4\u001b[0m     female              \u001b[1;36m0\u001b[0m     yes         no          yes                no   \n",
       "\u001b[33m...\u001b[0m      \u001b[33m...\u001b[0m            \u001b[33m...\u001b[0m     \u001b[33m...\u001b[0m        \u001b[33m...\u001b[0m          \u001b[33m...\u001b[0m               \u001b[33m...\u001b[0m   \n",
       "\u001b[1;36m4220\u001b[0m    male              \u001b[1;36m1\u001b[0m     yes        yes          yes               yes   \n",
       "\u001b[1;36m4221\u001b[0m    male              \u001b[1;36m0\u001b[0m      no         no           no  no_phone_service   \n",
       "\u001b[1;36m4222\u001b[0m    male              \u001b[1;36m0\u001b[0m     yes        yes          yes                no   \n",
       "\u001b[1;36m4223\u001b[0m  female              \u001b[1;36m0\u001b[0m     yes        yes          yes               yes   \n",
       "\u001b[1;36m4224\u001b[0m  female              \u001b[1;36m1\u001b[0m      no         no          yes                no   \n",
       "\n",
       "     internetservice       onlinesecurity         onlinebackup  \\\n",
       "\u001b[1;36m0\u001b[0m        fiber_optic                  yes                  yes   \n",
       "\u001b[1;36m1\u001b[0m        fiber_optic                   no                  yes   \n",
       "\u001b[1;36m2\u001b[0m        fiber_optic                   no                   no   \n",
       "\u001b[1;36m3\u001b[0m        fiber_optic                   no                   no   \n",
       "\u001b[1;36m4\u001b[0m                 no  no_internet_service  no_internet_service   \n",
       "\u001b[33m...\u001b[0m              \u001b[33m...\u001b[0m                  \u001b[33m...\u001b[0m                  \u001b[33m...\u001b[0m   \n",
       "\u001b[1;36m4220\u001b[0m             dsl                   no                  yes   \n",
       "\u001b[1;36m4221\u001b[0m             dsl                   no                   no   \n",
       "\u001b[1;36m4222\u001b[0m     fiber_optic                   no                   no   \n",
       "\u001b[1;36m4223\u001b[0m              no  no_internet_service  no_internet_service   \n",
       "\u001b[1;36m4224\u001b[0m     fiber_optic                   no                   no   \n",
       "\n",
       "         deviceprotection          techsupport          streamingtv  \\\n",
       "\u001b[1;36m0\u001b[0m                     yes                  yes                  yes   \n",
       "\u001b[1;36m1\u001b[0m                     yes                   no                   no   \n",
       "\u001b[1;36m2\u001b[0m                      no                   no                   no   \n",
       "\u001b[1;36m3\u001b[0m                      no                   no                  yes   \n",
       "\u001b[1;36m4\u001b[0m     no_internet_service  no_internet_service  no_internet_service   \n",
       "\u001b[33m...\u001b[0m                   \u001b[33m...\u001b[0m                  \u001b[33m...\u001b[0m                  \u001b[33m...\u001b[0m   \n",
       "\u001b[1;36m4220\u001b[0m                  yes                   no                  yes   \n",
       "\u001b[1;36m4221\u001b[0m                   no                   no                   no   \n",
       "\u001b[1;36m4222\u001b[0m                  yes                  yes                   no   \n",
       "\u001b[1;36m4223\u001b[0m  no_internet_service  no_internet_service  no_internet_service   \n",
       "\u001b[1;36m4224\u001b[0m                   no                   no                  yes   \n",
       "\n",
       "          streamingmovies        contract paperlessbilling  \\\n",
       "\u001b[1;36m0\u001b[0m                     yes        two_year              yes   \n",
       "\u001b[1;36m1\u001b[0m                     yes  month-to-month              yes   \n",
       "\u001b[1;36m2\u001b[0m                      no  month-to-month               no   \n",
       "\u001b[1;36m3\u001b[0m                      no  month-to-month              yes   \n",
       "\u001b[1;36m4\u001b[0m     no_internet_service        two_year               no   \n",
       "\u001b[33m...\u001b[0m                   \u001b[33m...\u001b[0m             \u001b[33m...\u001b[0m              \u001b[33m...\u001b[0m   \n",
       "\u001b[1;36m4220\u001b[0m                  yes        one_year              yes   \n",
       "\u001b[1;36m4221\u001b[0m                   no  month-to-month               no   \n",
       "\u001b[1;36m4222\u001b[0m                  yes  month-to-month               no   \n",
       "\u001b[1;36m4223\u001b[0m  no_internet_service        two_year               no   \n",
       "\u001b[1;36m4224\u001b[0m                   no  month-to-month              yes   \n",
       "\n",
       "                paymentmethod  tenure  monthlycharges  totalcharges  \n",
       "\u001b[1;36m0\u001b[0m            electronic_check      \u001b[1;36m72\u001b[0m          \u001b[1;36m115.50\u001b[0m       \u001b[1;36m8425.15\u001b[0m  \n",
       "\u001b[1;36m1\u001b[0m            electronic_check      \u001b[1;36m10\u001b[0m           \u001b[1;36m95.25\u001b[0m       \u001b[1;36m1021.55\u001b[0m  \n",
       "\u001b[1;36m2\u001b[0m            electronic_check       \u001b[1;36m5\u001b[0m           \u001b[1;36m75.55\u001b[0m        \u001b[1;36m413.65\u001b[0m  \n",
       "\u001b[1;36m3\u001b[0m            electronic_check       \u001b[1;36m5\u001b[0m           \u001b[1;36m80.85\u001b[0m        \u001b[1;36m356.10\u001b[0m  \n",
       "\u001b[1;36m4\u001b[0m                mailed_check      \u001b[1;36m18\u001b[0m           \u001b[1;36m20.10\u001b[0m        \u001b[1;36m370.50\u001b[0m  \n",
       "\u001b[33m...\u001b[0m                       \u001b[33m...\u001b[0m     \u001b[33m...\u001b[0m             \u001b[33m...\u001b[0m           \u001b[33m...\u001b[0m  \n",
       "\u001b[1;36m4220\u001b[0m         electronic_check      \u001b[1;36m52\u001b[0m           \u001b[1;36m80.85\u001b[0m       \u001b[1;36m4079.55\u001b[0m  \n",
       "\u001b[1;36m4221\u001b[0m             mailed_check      \u001b[1;36m18\u001b[0m           \u001b[1;36m25.15\u001b[0m        \u001b[1;36m476.80\u001b[0m  \n",
       "\u001b[1;36m4222\u001b[0m  \u001b[1;35mcredit_card_\u001b[0m\u001b[1m(\u001b[0mautomatic\u001b[1m)\u001b[0m       \u001b[1;36m2\u001b[0m           \u001b[1;36m90.00\u001b[0m        \u001b[1;36m190.05\u001b[0m  \n",
       "\u001b[1;36m4223\u001b[0m         electronic_check      \u001b[1;36m27\u001b[0m           \u001b[1;36m24.50\u001b[0m        \u001b[1;36m761.95\u001b[0m  \n",
       "\u001b[1;36m4224\u001b[0m         electronic_check       \u001b[1;36m9\u001b[0m           \u001b[1;36m80.85\u001b[0m        \u001b[1;36m751.65\u001b[0m  \n",
       "\n",
       "\u001b[1m[\u001b[0m\u001b[1;36m4225\u001b[0m rows x \u001b[1;36m19\u001b[0m columns\u001b[1m]\u001b[0m"
      ]
     },
     "execution_count": 90,
     "metadata": {},
     "output_type": "execute_result"
    }
   ],
   "source": [
    "df_train[categorical + numerical]"
   ]
  },
  {
   "cell_type": "code",
   "execution_count": 39,
   "id": "7a034f54",
   "metadata": {},
   "outputs": [],
   "source": [
    "train_dict = df_train[categorical + numerical].to_dict(orient=\"records\")"
   ]
  },
  {
   "cell_type": "code",
   "execution_count": 40,
   "id": "6e3bba27",
   "metadata": {},
   "outputs": [
    {
     "data": {
      "text/html": [
       "<pre style=\"white-space:pre;overflow-x:auto;line-height:normal;font-family:Menlo,'DejaVu Sans Mono',consolas,'Courier New',monospace\"></pre>\n"
      ],
      "text/plain": []
     },
     "metadata": {},
     "output_type": "display_data"
    },
    {
     "data": {
      "text/plain": [
       "\n",
       "\u001b[1m{\u001b[0m\n",
       "    \u001b[32m'gender'\u001b[0m: \u001b[32m'female'\u001b[0m,\n",
       "    \u001b[32m'seniorcitizen'\u001b[0m: \u001b[1;36m0\u001b[0m,\n",
       "    \u001b[32m'partner'\u001b[0m: \u001b[32m'yes'\u001b[0m,\n",
       "    \u001b[32m'dependents'\u001b[0m: \u001b[32m'yes'\u001b[0m,\n",
       "    \u001b[32m'phoneservice'\u001b[0m: \u001b[32m'yes'\u001b[0m,\n",
       "    \u001b[32m'multiplelines'\u001b[0m: \u001b[32m'yes'\u001b[0m,\n",
       "    \u001b[32m'internetservice'\u001b[0m: \u001b[32m'fiber_optic'\u001b[0m,\n",
       "    \u001b[32m'onlinesecurity'\u001b[0m: \u001b[32m'yes'\u001b[0m,\n",
       "    \u001b[32m'onlinebackup'\u001b[0m: \u001b[32m'yes'\u001b[0m,\n",
       "    \u001b[32m'deviceprotection'\u001b[0m: \u001b[32m'yes'\u001b[0m,\n",
       "    \u001b[32m'techsupport'\u001b[0m: \u001b[32m'yes'\u001b[0m,\n",
       "    \u001b[32m'streamingtv'\u001b[0m: \u001b[32m'yes'\u001b[0m,\n",
       "    \u001b[32m'streamingmovies'\u001b[0m: \u001b[32m'yes'\u001b[0m,\n",
       "    \u001b[32m'contract'\u001b[0m: \u001b[32m'two_year'\u001b[0m,\n",
       "    \u001b[32m'paperlessbilling'\u001b[0m: \u001b[32m'yes'\u001b[0m,\n",
       "    \u001b[32m'paymentmethod'\u001b[0m: \u001b[32m'electronic_check'\u001b[0m,\n",
       "    \u001b[32m'tenure'\u001b[0m: \u001b[1;36m72\u001b[0m,\n",
       "    \u001b[32m'monthlycharges'\u001b[0m: \u001b[1;36m115.5\u001b[0m,\n",
       "    \u001b[32m'totalcharges'\u001b[0m: \u001b[1;36m8425.15\u001b[0m\n",
       "\u001b[1m}\u001b[0m"
      ]
     },
     "execution_count": 40,
     "metadata": {},
     "output_type": "execute_result"
    }
   ],
   "source": [
    "train_dict[0]"
   ]
  },
  {
   "cell_type": "code",
   "execution_count": 41,
   "id": "44d70f49",
   "metadata": {},
   "outputs": [],
   "source": [
    "dv = DictVectorizer(sparse=False)"
   ]
  },
  {
   "cell_type": "code",
   "execution_count": 42,
   "id": "20755d71",
   "metadata": {},
   "outputs": [
    {
     "data": {
      "text/html": [
       "<pre style=\"white-space:pre;overflow-x:auto;line-height:normal;font-family:Menlo,'DejaVu Sans Mono',consolas,'Courier New',monospace\"></pre>\n"
      ],
      "text/plain": []
     },
     "metadata": {},
     "output_type": "display_data"
    },
    {
     "data": {
      "text/plain": [
       "\u001b[1m(\u001b[0m\u001b[1;36m4225\u001b[0m, \u001b[1;36m45\u001b[0m\u001b[1m)\u001b[0m"
      ]
     },
     "execution_count": 42,
     "metadata": {},
     "output_type": "execute_result"
    }
   ],
   "source": [
    "# dv.fit(train_dicts)\n",
    "# X_train = dv.transform(train_dicts)\n",
    "X_train = dv.fit_transform(train_dict)\n",
    "X_train.shape"
   ]
  },
  {
   "cell_type": "code",
   "execution_count": 43,
   "id": "dac85934",
   "metadata": {},
   "outputs": [
    {
     "data": {
      "text/html": [
       "<pre style=\"white-space:pre;overflow-x:auto;line-height:normal;font-family:Menlo,'DejaVu Sans Mono',consolas,'Courier New',monospace\"></pre>\n"
      ],
      "text/plain": []
     },
     "metadata": {},
     "output_type": "display_data"
    },
    {
     "data": {
      "text/plain": [
       "\n",
       "\u001b[1;35marray\u001b[0m\u001b[1m(\u001b[0m\u001b[1m[\u001b[0m\u001b[32m'\u001b[0m\u001b[32mcontract\u001b[0m\u001b[32m=\u001b[0m\u001b[32mmonth\u001b[0m\u001b[32m-to-month'\u001b[0m, \u001b[32m'\u001b[0m\u001b[32mcontract\u001b[0m\u001b[32m=\u001b[0m\u001b[32mone_year\u001b[0m\u001b[32m'\u001b[0m,\n",
       "       \u001b[32m'\u001b[0m\u001b[32mcontract\u001b[0m\u001b[32m=\u001b[0m\u001b[32mtwo_year\u001b[0m\u001b[32m'\u001b[0m, \u001b[32m'\u001b[0m\u001b[32mdependents\u001b[0m\u001b[32m=\u001b[0m\u001b[32mno\u001b[0m\u001b[32m'\u001b[0m, \u001b[32m'\u001b[0m\u001b[32mdependents\u001b[0m\u001b[32m=\u001b[0m\u001b[32myes\u001b[0m\u001b[32m'\u001b[0m,\n",
       "       \u001b[32m'\u001b[0m\u001b[32mdeviceprotection\u001b[0m\u001b[32m=\u001b[0m\u001b[32mno\u001b[0m\u001b[32m'\u001b[0m, \u001b[32m'\u001b[0m\u001b[32mdeviceprotection\u001b[0m\u001b[32m=\u001b[0m\u001b[32mno_internet_service\u001b[0m\u001b[32m'\u001b[0m,\n",
       "       \u001b[32m'\u001b[0m\u001b[32mdeviceprotection\u001b[0m\u001b[32m=\u001b[0m\u001b[32myes\u001b[0m\u001b[32m'\u001b[0m, \u001b[32m'\u001b[0m\u001b[32mgender\u001b[0m\u001b[32m=\u001b[0m\u001b[32mfemale\u001b[0m\u001b[32m'\u001b[0m, \u001b[32m'\u001b[0m\u001b[32mgender\u001b[0m\u001b[32m=\u001b[0m\u001b[32mmale\u001b[0m\u001b[32m'\u001b[0m,\n",
       "       \u001b[32m'\u001b[0m\u001b[32minternetservice\u001b[0m\u001b[32m=\u001b[0m\u001b[32mdsl\u001b[0m\u001b[32m'\u001b[0m, \u001b[32m'\u001b[0m\u001b[32minternetservice\u001b[0m\u001b[32m=\u001b[0m\u001b[32mfiber_optic\u001b[0m\u001b[32m'\u001b[0m,\n",
       "       \u001b[32m'\u001b[0m\u001b[32minternetservice\u001b[0m\u001b[32m=\u001b[0m\u001b[32mno\u001b[0m\u001b[32m'\u001b[0m, \u001b[32m'monthlycharges'\u001b[0m, \u001b[32m'\u001b[0m\u001b[32mmultiplelines\u001b[0m\u001b[32m=\u001b[0m\u001b[32mno\u001b[0m\u001b[32m'\u001b[0m,\n",
       "       \u001b[32m'\u001b[0m\u001b[32mmultiplelines\u001b[0m\u001b[32m=\u001b[0m\u001b[32mno_phone_service\u001b[0m\u001b[32m'\u001b[0m, \u001b[32m'\u001b[0m\u001b[32mmultiplelines\u001b[0m\u001b[32m=\u001b[0m\u001b[32myes\u001b[0m\u001b[32m'\u001b[0m,\n",
       "       \u001b[32m'\u001b[0m\u001b[32monlinebackup\u001b[0m\u001b[32m=\u001b[0m\u001b[32mno\u001b[0m\u001b[32m'\u001b[0m, \u001b[32m'\u001b[0m\u001b[32monlinebackup\u001b[0m\u001b[32m=\u001b[0m\u001b[32mno_internet_service\u001b[0m\u001b[32m'\u001b[0m,\n",
       "       \u001b[32m'\u001b[0m\u001b[32monlinebackup\u001b[0m\u001b[32m=\u001b[0m\u001b[32myes\u001b[0m\u001b[32m'\u001b[0m, \u001b[32m'\u001b[0m\u001b[32monlinesecurity\u001b[0m\u001b[32m=\u001b[0m\u001b[32mno\u001b[0m\u001b[32m'\u001b[0m,\n",
       "       \u001b[32m'\u001b[0m\u001b[32monlinesecurity\u001b[0m\u001b[32m=\u001b[0m\u001b[32mno_internet_service\u001b[0m\u001b[32m'\u001b[0m, \u001b[32m'\u001b[0m\u001b[32monlinesecurity\u001b[0m\u001b[32m=\u001b[0m\u001b[32myes\u001b[0m\u001b[32m'\u001b[0m,\n",
       "       \u001b[32m'\u001b[0m\u001b[32mpaperlessbilling\u001b[0m\u001b[32m=\u001b[0m\u001b[32mno\u001b[0m\u001b[32m'\u001b[0m, \u001b[32m'\u001b[0m\u001b[32mpaperlessbilling\u001b[0m\u001b[32m=\u001b[0m\u001b[32myes\u001b[0m\u001b[32m'\u001b[0m, \u001b[32m'\u001b[0m\u001b[32mpartner\u001b[0m\u001b[32m=\u001b[0m\u001b[32mno\u001b[0m\u001b[32m'\u001b[0m,\n",
       "       \u001b[32m'\u001b[0m\u001b[32mpartner\u001b[0m\u001b[32m=\u001b[0m\u001b[32myes\u001b[0m\u001b[32m'\u001b[0m, \u001b[32m'\u001b[0m\u001b[32mpaymentmethod\u001b[0m\u001b[32m=\u001b[0m\u001b[32mbank_transfer_\u001b[0m\u001b[32m(\u001b[0m\u001b[32mautomatic\u001b[0m\u001b[32m)\u001b[0m\u001b[32m'\u001b[0m,\n",
       "       \u001b[32m'\u001b[0m\u001b[32mpaymentmethod\u001b[0m\u001b[32m=\u001b[0m\u001b[32mcredit_card_\u001b[0m\u001b[32m(\u001b[0m\u001b[32mautomatic\u001b[0m\u001b[32m)\u001b[0m\u001b[32m'\u001b[0m,\n",
       "       \u001b[32m'\u001b[0m\u001b[32mpaymentmethod\u001b[0m\u001b[32m=\u001b[0m\u001b[32melectronic_check\u001b[0m\u001b[32m'\u001b[0m, \u001b[32m'\u001b[0m\u001b[32mpaymentmethod\u001b[0m\u001b[32m=\u001b[0m\u001b[32mmailed_check\u001b[0m\u001b[32m'\u001b[0m,\n",
       "       \u001b[32m'\u001b[0m\u001b[32mphoneservice\u001b[0m\u001b[32m=\u001b[0m\u001b[32mno\u001b[0m\u001b[32m'\u001b[0m, \u001b[32m'\u001b[0m\u001b[32mphoneservice\u001b[0m\u001b[32m=\u001b[0m\u001b[32myes\u001b[0m\u001b[32m'\u001b[0m, \u001b[32m'seniorcitizen'\u001b[0m,\n",
       "       \u001b[32m'\u001b[0m\u001b[32mstreamingmovies\u001b[0m\u001b[32m=\u001b[0m\u001b[32mno\u001b[0m\u001b[32m'\u001b[0m, \u001b[32m'\u001b[0m\u001b[32mstreamingmovies\u001b[0m\u001b[32m=\u001b[0m\u001b[32mno_internet_service\u001b[0m\u001b[32m'\u001b[0m,\n",
       "       \u001b[32m'\u001b[0m\u001b[32mstreamingmovies\u001b[0m\u001b[32m=\u001b[0m\u001b[32myes\u001b[0m\u001b[32m'\u001b[0m, \u001b[32m'\u001b[0m\u001b[32mstreamingtv\u001b[0m\u001b[32m=\u001b[0m\u001b[32mno\u001b[0m\u001b[32m'\u001b[0m,\n",
       "       \u001b[32m'\u001b[0m\u001b[32mstreamingtv\u001b[0m\u001b[32m=\u001b[0m\u001b[32mno_internet_service\u001b[0m\u001b[32m'\u001b[0m, \u001b[32m'\u001b[0m\u001b[32mstreamingtv\u001b[0m\u001b[32m=\u001b[0m\u001b[32myes\u001b[0m\u001b[32m'\u001b[0m,\n",
       "       \u001b[32m'\u001b[0m\u001b[32mtechsupport\u001b[0m\u001b[32m=\u001b[0m\u001b[32mno\u001b[0m\u001b[32m'\u001b[0m, \u001b[32m'\u001b[0m\u001b[32mtechsupport\u001b[0m\u001b[32m=\u001b[0m\u001b[32mno_internet_service\u001b[0m\u001b[32m'\u001b[0m,\n",
       "       \u001b[32m'\u001b[0m\u001b[32mtechsupport\u001b[0m\u001b[32m=\u001b[0m\u001b[32myes\u001b[0m\u001b[32m'\u001b[0m, \u001b[32m'tenure'\u001b[0m, \u001b[32m'totalcharges'\u001b[0m\u001b[1m]\u001b[0m, \u001b[33mdtype\u001b[0m=\u001b[35mobject\u001b[0m\u001b[1m)\u001b[0m"
      ]
     },
     "execution_count": 43,
     "metadata": {},
     "output_type": "execute_result"
    }
   ],
   "source": [
    "dv.get_feature_names_out()"
   ]
  },
  {
   "cell_type": "markdown",
   "id": "e44bb9c6",
   "metadata": {},
   "source": [
    "# 3.9 Logistic regression\n",
    "- Binary classification\n",
    "- Linear vs Logistic regression"
   ]
  },
  {
   "cell_type": "code",
   "execution_count": 44,
   "id": "827ccde8",
   "metadata": {},
   "outputs": [],
   "source": [
    "def sigmoid(z):\n",
    "    return 1 / (1 + np.exp(-z))"
   ]
  },
  {
   "cell_type": "code",
   "execution_count": 45,
   "id": "2e9bbddd",
   "metadata": {},
   "outputs": [],
   "source": [
    "z = np.linspace(-5, 5, 51)"
   ]
  },
  {
   "cell_type": "code",
   "execution_count": 46,
   "id": "390413ab",
   "metadata": {},
   "outputs": [
    {
     "data": {
      "text/html": [
       "<pre style=\"white-space:pre;overflow-x:auto;line-height:normal;font-family:Menlo,'DejaVu Sans Mono',consolas,'Courier New',monospace\"></pre>\n"
      ],
      "text/plain": []
     },
     "metadata": {},
     "output_type": "display_data"
    },
    {
     "data": {
      "text/plain": [
       "\n",
       "\u001b[1;35marray\u001b[0m\u001b[1m(\u001b[0m\u001b[1m[\u001b[0m\u001b[1;36m0.00669285\u001b[0m, \u001b[1;36m0.00816257\u001b[0m, \u001b[1;36m0.0099518\u001b[0m , \u001b[1;36m0.01212843\u001b[0m, \u001b[1;36m0.01477403\u001b[0m,\n",
       "       \u001b[1;36m0.01798621\u001b[0m, \u001b[1;36m0.02188127\u001b[0m, \u001b[1;36m0.02659699\u001b[0m, \u001b[1;36m0.03229546\u001b[0m, \u001b[1;36m0.03916572\u001b[0m,\n",
       "       \u001b[1;36m0.04742587\u001b[0m, \u001b[1;36m0.05732418\u001b[0m, \u001b[1;36m0.06913842\u001b[0m, \u001b[1;36m0.0831727\u001b[0m , \u001b[1;36m0.09975049\u001b[0m,\n",
       "       \u001b[1;36m0.11920292\u001b[0m, \u001b[1;36m0.14185106\u001b[0m, \u001b[1;36m0.16798161\u001b[0m, \u001b[1;36m0.19781611\u001b[0m, \u001b[1;36m0.23147522\u001b[0m,\n",
       "       \u001b[1;36m0.26894142\u001b[0m, \u001b[1;36m0.31002552\u001b[0m, \u001b[1;36m0.35434369\u001b[0m, \u001b[1;36m0.40131234\u001b[0m, \u001b[1;36m0.450166\u001b[0m  ,\n",
       "       \u001b[1;36m0.5\u001b[0m       , \u001b[1;36m0.549834\u001b[0m  , \u001b[1;36m0.59868766\u001b[0m, \u001b[1;36m0.64565631\u001b[0m, \u001b[1;36m0.68997448\u001b[0m,\n",
       "       \u001b[1;36m0.73105858\u001b[0m, \u001b[1;36m0.76852478\u001b[0m, \u001b[1;36m0.80218389\u001b[0m, \u001b[1;36m0.83201839\u001b[0m, \u001b[1;36m0.85814894\u001b[0m,\n",
       "       \u001b[1;36m0.88079708\u001b[0m, \u001b[1;36m0.90024951\u001b[0m, \u001b[1;36m0.9168273\u001b[0m , \u001b[1;36m0.93086158\u001b[0m, \u001b[1;36m0.94267582\u001b[0m,\n",
       "       \u001b[1;36m0.95257413\u001b[0m, \u001b[1;36m0.96083428\u001b[0m, \u001b[1;36m0.96770454\u001b[0m, \u001b[1;36m0.97340301\u001b[0m, \u001b[1;36m0.97811873\u001b[0m,\n",
       "       \u001b[1;36m0.98201379\u001b[0m, \u001b[1;36m0.98522597\u001b[0m, \u001b[1;36m0.98787157\u001b[0m, \u001b[1;36m0.9900482\u001b[0m , \u001b[1;36m0.99183743\u001b[0m,\n",
       "       \u001b[1;36m0.99330715\u001b[0m\u001b[1m]\u001b[0m\u001b[1m)\u001b[0m"
      ]
     },
     "execution_count": 46,
     "metadata": {},
     "output_type": "execute_result"
    }
   ],
   "source": [
    "sigmoid(z)"
   ]
  },
  {
   "cell_type": "code",
   "execution_count": 47,
   "id": "7a3b02f3",
   "metadata": {},
   "outputs": [
    {
     "data": {
      "text/html": [
       "<pre style=\"white-space:pre;overflow-x:auto;line-height:normal;font-family:Menlo,'DejaVu Sans Mono',consolas,'Courier New',monospace\"></pre>\n"
      ],
      "text/plain": []
     },
     "metadata": {},
     "output_type": "display_data"
    },
    {
     "data": {
      "text/plain": [
       "\u001b[1m[\u001b[0m\u001b[1m<\u001b[0m\u001b[1;95mmatplotlib.lines.Line2D\u001b[0m\u001b[39m object at \u001b[0m\u001b[1;36m0x146637320\u001b[0m\u001b[1m>\u001b[0m\u001b[1m]\u001b[0m"
      ]
     },
     "execution_count": 47,
     "metadata": {},
     "output_type": "execute_result"
    },
    {
     "data": {
      "text/html": [
       "<pre style=\"white-space:pre;overflow-x:auto;line-height:normal;font-family:Menlo,'DejaVu Sans Mono',consolas,'Courier New',monospace\"></pre>\n"
      ],
      "text/plain": []
     },
     "metadata": {},
     "output_type": "display_data"
    },
    {
     "data": {
      "image/png": "[encoded data removed]",
      "text/plain": [
       "\u001b[1m<\u001b[0m\u001b[1;95mFigure\u001b[0m\u001b[39m size 64\u001b[0m\u001b[1;36m0x480\u001b[0m\u001b[39m with \u001b[0m\u001b[1;36m1\u001b[0m\u001b[39m Axes\u001b[0m\u001b[1m>\u001b[0m"
      ]
     },
     "metadata": {},
     "output_type": "display_data"
    }
   ],
   "source": [
    "plt.plot(z, sigmoid(z))"
   ]
  },
  {
   "cell_type": "code",
   "execution_count": 48,
   "id": "e4e652f6",
   "metadata": {},
   "outputs": [],
   "source": [
    "def liner_regression(xi):\n",
    "    result = w0\n",
    "    for j in range(len(w)):\n",
    "        result += xi[j] * w[j]\n",
    "    return result"
   ]
  },
  {
   "cell_type": "code",
   "execution_count": 49,
   "id": "5e090b37",
   "metadata": {},
   "outputs": [],
   "source": [
    "def logistic_regression(xi):\n",
    "    score = w0\n",
    "    for j in range(len(w)):\n",
    "        score += xi[j] * w[j]\n",
    "    return sigmoid(score)"
   ]
  },
  {
   "cell_type": "markdown",
   "id": "de81c44a",
   "metadata": {},
   "source": [
    "# 3.10 Training logistic regression with Scikit-Learn\n",
    "- Train a model with Scikit-Learn\n",
    "- Apply it to the validation dataset\n",
    "- Calculate the accuracy"
   ]
  },
  {
   "cell_type": "code",
   "execution_count": 50,
   "id": "c8bf9621",
   "metadata": {},
   "outputs": [],
   "source": [
    "from sklearn.linear_model import LogisticRegression"
   ]
  },
  {
   "cell_type": "code",
   "execution_count": 51,
   "id": "2680fa46",
   "metadata": {},
   "outputs": [
    {
     "data": {
      "text/html": [
       "<style>#sk-container-id-1 {\n",
       "  /* Definition of color scheme common for light and dark mode */\n",
       "  --sklearn-color-text: black;\n",
       "  --sklearn-color-line: gray;\n",
       "  /* Definition of color scheme for unfitted estimators */\n",
       "  --sklearn-color-unfitted-level-0: #fff5e6;\n",
       "  --sklearn-color-unfitted-level-1: #f6e4d2;\n",
       "  --sklearn-color-unfitted-level-2: #ffe0b3;\n",
       "  --sklearn-color-unfitted-level-3: chocolate;\n",
       "  /* Definition of color scheme for fitted estimators */\n",
       "  --sklearn-color-fitted-level-0: #f0f8ff;\n",
       "  --sklearn-color-fitted-level-1: #d4ebff;\n",
       "  --sklearn-color-fitted-level-2: #b3dbfd;\n",
       "  --sklearn-color-fitted-level-3: cornflowerblue;\n",
       "\n",
       "  /* Specific color for light theme */\n",
       "  --sklearn-color-text-on-default-background: var(--sg-text-color, var(--theme-code-foreground, var(--jp-content-font-color1, black)));\n",
       "  --sklearn-color-background: var(--sg-background-color, var(--theme-background, var(--jp-layout-color0, white)));\n",
       "  --sklearn-color-border-box: var(--sg-text-color, var(--theme-code-foreground, var(--jp-content-font-color1, black)));\n",
       "  --sklearn-color-icon: #696969;\n",
       "\n",
       "  @media (prefers-color-scheme: dark) {\n",
       "    /* Redefinition of color scheme for dark theme */\n",
       "    --sklearn-color-text-on-default-background: var(--sg-text-color, var(--theme-code-foreground, var(--jp-content-font-color1, white)));\n",
       "    --sklearn-color-background: var(--sg-background-color, var(--theme-background, var(--jp-layout-color0, #111)));\n",
       "    --sklearn-color-border-box: var(--sg-text-color, var(--theme-code-foreground, var(--jp-content-font-color1, white)));\n",
       "    --sklearn-color-icon: #878787;\n",
       "  }\n",
       "}\n",
       "\n",
       "#sk-container-id-1 {\n",
       "  color: var(--sklearn-color-text);\n",
       "}\n",
       "\n",
       "#sk-container-id-1 pre {\n",
       "  padding: 0;\n",
       "}\n",
       "\n",
       "#sk-container-id-1 input.sk-hidden--visually {\n",
       "  border: 0;\n",
       "  clip: rect(1px 1px 1px 1px);\n",
       "  clip: rect(1px, 1px, 1px, 1px);\n",
       "  height: 1px;\n",
       "  margin: -1px;\n",
       "  overflow: hidden;\n",
       "  padding: 0;\n",
       "  position: absolute;\n",
       "  width: 1px;\n",
       "}\n",
       "\n",
       "#sk-container-id-1 div.sk-dashed-wrapped {\n",
       "  border: 1px dashed var(--sklearn-color-line);\n",
       "  margin: 0 0.4em 0.5em 0.4em;\n",
       "  box-sizing: border-box;\n",
       "  padding-bottom: 0.4em;\n",
       "  background-color: var(--sklearn-color-background);\n",
       "}\n",
       "\n",
       "#sk-container-id-1 div.sk-container {\n",
       "  /* jupyter's `normalize.less` sets `[hidden] { display: none; }`\n",
       "     but bootstrap.min.css set `[hidden] { display: none !important; }`\n",
       "     so we also need the `!important` here to be able to override the\n",
       "     default hidden behavior on the sphinx rendered scikit-learn.org.\n",
       "     See: https://github.com/scikit-learn/scikit-learn/issues/21755 */\n",
       "  display: inline-block !important;\n",
       "  position: relative;\n",
       "}\n",
       "\n",
       "#sk-container-id-1 div.sk-text-repr-fallback {\n",
       "  display: none;\n",
       "}\n",
       "\n",
       "div.sk-parallel-item,\n",
       "div.sk-serial,\n",
       "div.sk-item {\n",
       "  /* draw centered vertical line to link estimators */\n",
       "  background-image: linear-gradient(var(--sklearn-color-text-on-default-background), var(--sklearn-color-text-on-default-background));\n",
       "  background-size: 2px 100%;\n",
       "  background-repeat: no-repeat;\n",
       "  background-position: center center;\n",
       "}\n",
       "\n",
       "/* Parallel-specific style estimator block */\n",
       "\n",
       "#sk-container-id-1 div.sk-parallel-item::after {\n",
       "  content: \"\";\n",
       "  width: 100%;\n",
       "  border-bottom: 2px solid var(--sklearn-color-text-on-default-background);\n",
       "  flex-grow: 1;\n",
       "}\n",
       "\n",
       "#sk-container-id-1 div.sk-parallel {\n",
       "  display: flex;\n",
       "  align-items: stretch;\n",
       "  justify-content: center;\n",
       "  background-color: var(--sklearn-color-background);\n",
       "  position: relative;\n",
       "}\n",
       "\n",
       "#sk-container-id-1 div.sk-parallel-item {\n",
       "  display: flex;\n",
       "  flex-direction: column;\n",
       "}\n",
       "\n",
       "#sk-container-id-1 div.sk-parallel-item:first-child::after {\n",
       "  align-self: flex-end;\n",
       "  width: 50%;\n",
       "}\n",
       "\n",
       "#sk-container-id-1 div.sk-parallel-item:last-child::after {\n",
       "  align-self: flex-start;\n",
       "  width: 50%;\n",
       "}\n",
       "\n",
       "#sk-container-id-1 div.sk-parallel-item:only-child::after {\n",
       "  width: 0;\n",
       "}\n",
       "\n",
       "/* Serial-specific style estimator block */\n",
       "\n",
       "#sk-container-id-1 div.sk-serial {\n",
       "  display: flex;\n",
       "  flex-direction: column;\n",
       "  align-items: center;\n",
       "  background-color: var(--sklearn-color-background);\n",
       "  padding-right: 1em;\n",
       "  padding-left: 1em;\n",
       "}\n",
       "\n",
       "\n",
       "/* Toggleable style: style used for estimator/Pipeline/ColumnTransformer box that is\n",
       "clickable and can be expanded/collapsed.\n",
       "- Pipeline and ColumnTransformer use this feature and define the default style\n",
       "- Estimators will overwrite some part of the style using the `sk-estimator` class\n",
       "*/\n",
       "\n",
       "/* Pipeline and ColumnTransformer style (default) */\n",
       "\n",
       "#sk-container-id-1 div.sk-toggleable {\n",
       "  /* Default theme specific background. It is overwritten whether we have a\n",
       "  specific estimator or a Pipeline/ColumnTransformer */\n",
       "  background-color: var(--sklearn-color-background);\n",
       "}\n",
       "\n",
       "/* Toggleable label */\n",
       "#sk-container-id-1 label.sk-toggleable__label {\n",
       "  cursor: pointer;\n",
       "  display: block;\n",
       "  width: 100%;\n",
       "  margin-bottom: 0;\n",
       "  padding: 0.5em;\n",
       "  box-sizing: border-box;\n",
       "  text-align: center;\n",
       "}\n",
       "\n",
       "#sk-container-id-1 label.sk-toggleable__label-arrow:before {\n",
       "  /* Arrow on the left of the label */\n",
       "  content: \"▸\";\n",
       "  float: left;\n",
       "  margin-right: 0.25em;\n",
       "  color: var(--sklearn-color-icon);\n",
       "}\n",
       "\n",
       "#sk-container-id-1 label.sk-toggleable__label-arrow:hover:before {\n",
       "  color: var(--sklearn-color-text);\n",
       "}\n",
       "\n",
       "/* Toggleable content - dropdown */\n",
       "\n",
       "#sk-container-id-1 div.sk-toggleable__content {\n",
       "  max-height: 0;\n",
       "  max-width: 0;\n",
       "  overflow: hidden;\n",
       "  text-align: left;\n",
       "  /* unfitted */\n",
       "  background-color: var(--sklearn-color-unfitted-level-0);\n",
       "}\n",
       "\n",
       "#sk-container-id-1 div.sk-toggleable__content.fitted {\n",
       "  /* fitted */\n",
       "  background-color: var(--sklearn-color-fitted-level-0);\n",
       "}\n",
       "\n",
       "#sk-container-id-1 div.sk-toggleable__content pre {\n",
       "  margin: 0.2em;\n",
       "  border-radius: 0.25em;\n",
       "  color: var(--sklearn-color-text);\n",
       "  /* unfitted */\n",
       "  background-color: var(--sklearn-color-unfitted-level-0);\n",
       "}\n",
       "\n",
       "#sk-container-id-1 div.sk-toggleable__content.fitted pre {\n",
       "  /* unfitted */\n",
       "  background-color: var(--sklearn-color-fitted-level-0);\n",
       "}\n",
       "\n",
       "#sk-container-id-1 input.sk-toggleable__control:checked~div.sk-toggleable__content {\n",
       "  /* Expand drop-down */\n",
       "  max-height: 200px;\n",
       "  max-width: 100%;\n",
       "  overflow: auto;\n",
       "}\n",
       "\n",
       "#sk-container-id-1 input.sk-toggleable__control:checked~label.sk-toggleable__label-arrow:before {\n",
       "  content: \"▾\";\n",
       "}\n",
       "\n",
       "/* Pipeline/ColumnTransformer-specific style */\n",
       "\n",
       "#sk-container-id-1 div.sk-label input.sk-toggleable__control:checked~label.sk-toggleable__label {\n",
       "  color: var(--sklearn-color-text);\n",
       "  background-color: var(--sklearn-color-unfitted-level-2);\n",
       "}\n",
       "\n",
       "#sk-container-id-1 div.sk-label.fitted input.sk-toggleable__control:checked~label.sk-toggleable__label {\n",
       "  background-color: var(--sklearn-color-fitted-level-2);\n",
       "}\n",
       "\n",
       "/* Estimator-specific style */\n",
       "\n",
       "/* Colorize estimator box */\n",
       "#sk-container-id-1 div.sk-estimator input.sk-toggleable__control:checked~label.sk-toggleable__label {\n",
       "  /* unfitted */\n",
       "  background-color: var(--sklearn-color-unfitted-level-2);\n",
       "}\n",
       "\n",
       "#sk-container-id-1 div.sk-estimator.fitted input.sk-toggleable__control:checked~label.sk-toggleable__label {\n",
       "  /* fitted */\n",
       "  background-color: var(--sklearn-color-fitted-level-2);\n",
       "}\n",
       "\n",
       "#sk-container-id-1 div.sk-label label.sk-toggleable__label,\n",
       "#sk-container-id-1 div.sk-label label {\n",
       "  /* The background is the default theme color */\n",
       "  color: var(--sklearn-color-text-on-default-background);\n",
       "}\n",
       "\n",
       "/* On hover, darken the color of the background */\n",
       "#sk-container-id-1 div.sk-label:hover label.sk-toggleable__label {\n",
       "  color: var(--sklearn-color-text);\n",
       "  background-color: var(--sklearn-color-unfitted-level-2);\n",
       "}\n",
       "\n",
       "/* Label box, darken color on hover, fitted */\n",
       "#sk-container-id-1 div.sk-label.fitted:hover label.sk-toggleable__label.fitted {\n",
       "  color: var(--sklearn-color-text);\n",
       "  background-color: var(--sklearn-color-fitted-level-2);\n",
       "}\n",
       "\n",
       "/* Estimator label */\n",
       "\n",
       "#sk-container-id-1 div.sk-label label {\n",
       "  font-family: monospace;\n",
       "  font-weight: bold;\n",
       "  display: inline-block;\n",
       "  line-height: 1.2em;\n",
       "}\n",
       "\n",
       "#sk-container-id-1 div.sk-label-container {\n",
       "  text-align: center;\n",
       "}\n",
       "\n",
       "/* Estimator-specific */\n",
       "#sk-container-id-1 div.sk-estimator {\n",
       "  font-family: monospace;\n",
       "  border: 1px dotted var(--sklearn-color-border-box);\n",
       "  border-radius: 0.25em;\n",
       "  box-sizing: border-box;\n",
       "  margin-bottom: 0.5em;\n",
       "  /* unfitted */\n",
       "  background-color: var(--sklearn-color-unfitted-level-0);\n",
       "}\n",
       "\n",
       "#sk-container-id-1 div.sk-estimator.fitted {\n",
       "  /* fitted */\n",
       "  background-color: var(--sklearn-color-fitted-level-0);\n",
       "}\n",
       "\n",
       "/* on hover */\n",
       "#sk-container-id-1 div.sk-estimator:hover {\n",
       "  /* unfitted */\n",
       "  background-color: var(--sklearn-color-unfitted-level-2);\n",
       "}\n",
       "\n",
       "#sk-container-id-1 div.sk-estimator.fitted:hover {\n",
       "  /* fitted */\n",
       "  background-color: var(--sklearn-color-fitted-level-2);\n",
       "}\n",
       "\n",
       "/* Specification for estimator info (e.g. \"i\" and \"?\") */\n",
       "\n",
       "/* Common style for \"i\" and \"?\" */\n",
       "\n",
       ".sk-estimator-doc-link,\n",
       "a:link.sk-estimator-doc-link,\n",
       "a:visited.sk-estimator-doc-link {\n",
       "  float: right;\n",
       "  font-size: smaller;\n",
       "  line-height: 1em;\n",
       "  font-family: monospace;\n",
       "  background-color: var(--sklearn-color-background);\n",
       "  border-radius: 1em;\n",
       "  height: 1em;\n",
       "  width: 1em;\n",
       "  text-decoration: none !important;\n",
       "  margin-left: 1ex;\n",
       "  /* unfitted */\n",
       "  border: var(--sklearn-color-unfitted-level-1) 1pt solid;\n",
       "  color: var(--sklearn-color-unfitted-level-1);\n",
       "}\n",
       "\n",
       ".sk-estimator-doc-link.fitted,\n",
       "a:link.sk-estimator-doc-link.fitted,\n",
       "a:visited.sk-estimator-doc-link.fitted {\n",
       "  /* fitted */\n",
       "  border: var(--sklearn-color-fitted-level-1) 1pt solid;\n",
       "  color: var(--sklearn-color-fitted-level-1);\n",
       "}\n",
       "\n",
       "/* On hover */\n",
       "div.sk-estimator:hover .sk-estimator-doc-link:hover,\n",
       ".sk-estimator-doc-link:hover,\n",
       "div.sk-label-container:hover .sk-estimator-doc-link:hover,\n",
       ".sk-estimator-doc-link:hover {\n",
       "  /* unfitted */\n",
       "  background-color: var(--sklearn-color-unfitted-level-3);\n",
       "  color: var(--sklearn-color-background);\n",
       "  text-decoration: none;\n",
       "}\n",
       "\n",
       "div.sk-estimator.fitted:hover .sk-estimator-doc-link.fitted:hover,\n",
       ".sk-estimator-doc-link.fitted:hover,\n",
       "div.sk-label-container:hover .sk-estimator-doc-link.fitted:hover,\n",
       ".sk-estimator-doc-link.fitted:hover {\n",
       "  /* fitted */\n",
       "  background-color: var(--sklearn-color-fitted-level-3);\n",
       "  color: var(--sklearn-color-background);\n",
       "  text-decoration: none;\n",
       "}\n",
       "\n",
       "/* Span, style for the box shown on hovering the info icon */\n",
       ".sk-estimator-doc-link span {\n",
       "  display: none;\n",
       "  z-index: 9999;\n",
       "  position: relative;\n",
       "  font-weight: normal;\n",
       "  right: .2ex;\n",
       "  padding: .5ex;\n",
       "  margin: .5ex;\n",
       "  width: min-content;\n",
       "  min-width: 20ex;\n",
       "  max-width: 50ex;\n",
       "  color: var(--sklearn-color-text);\n",
       "  box-shadow: 2pt 2pt 4pt #999;\n",
       "  /* unfitted */\n",
       "  background: var(--sklearn-color-unfitted-level-0);\n",
       "  border: .5pt solid var(--sklearn-color-unfitted-level-3);\n",
       "}\n",
       "\n",
       ".sk-estimator-doc-link.fitted span {\n",
       "  /* fitted */\n",
       "  background: var(--sklearn-color-fitted-level-0);\n",
       "  border: var(--sklearn-color-fitted-level-3);\n",
       "}\n",
       "\n",
       ".sk-estimator-doc-link:hover span {\n",
       "  display: block;\n",
       "}\n",
       "\n",
       "/* \"?\"-specific style due to the `<a>` HTML tag */\n",
       "\n",
       "#sk-container-id-1 a.estimator_doc_link {\n",
       "  float: right;\n",
       "  font-size: 1rem;\n",
       "  line-height: 1em;\n",
       "  font-family: monospace;\n",
       "  background-color: var(--sklearn-color-background);\n",
       "  border-radius: 1rem;\n",
       "  height: 1rem;\n",
       "  width: 1rem;\n",
       "  text-decoration: none;\n",
       "  /* unfitted */\n",
       "  color: var(--sklearn-color-unfitted-level-1);\n",
       "  border: var(--sklearn-color-unfitted-level-1) 1pt solid;\n",
       "}\n",
       "\n",
       "#sk-container-id-1 a.estimator_doc_link.fitted {\n",
       "  /* fitted */\n",
       "  border: var(--sklearn-color-fitted-level-1) 1pt solid;\n",
       "  color: var(--sklearn-color-fitted-level-1);\n",
       "}\n",
       "\n",
       "/* On hover */\n",
       "#sk-container-id-1 a.estimator_doc_link:hover {\n",
       "  /* unfitted */\n",
       "  background-color: var(--sklearn-color-unfitted-level-3);\n",
       "  color: var(--sklearn-color-background);\n",
       "  text-decoration: none;\n",
       "}\n",
       "\n",
       "#sk-container-id-1 a.estimator_doc_link.fitted:hover {\n",
       "  /* fitted */\n",
       "  background-color: var(--sklearn-color-fitted-level-3);\n",
       "}\n",
       "</style><div id=\"sk-container-id-1\" class=\"sk-top-container\"><div class=\"sk-text-repr-fallback\"><pre>LogisticRegression(random_state=1, solver=&#x27;liblinear&#x27;)</pre><b>In a Jupyter environment, please rerun this cell to show the HTML representation or trust the notebook. <br />On GitHub, the HTML representation is unable to render, please try loading this page with nbviewer.org.</b></div><div class=\"sk-container\" hidden><div class=\"sk-item\"><div class=\"sk-estimator fitted sk-toggleable\"><input class=\"sk-toggleable__control sk-hidden--visually\" id=\"sk-estimator-id-1\" type=\"checkbox\" checked><label for=\"sk-estimator-id-1\" class=\"sk-toggleable__label fitted sk-toggleable__label-arrow fitted\">&nbsp;&nbsp;LogisticRegression<a class=\"sk-estimator-doc-link fitted\" rel=\"noreferrer\" target=\"_blank\" href=\"https://scikit-learn.org/1.5/modules/generated/sklearn.linear_model.LogisticRegression.html\">?<span>Documentation for LogisticRegression</span></a><span class=\"sk-estimator-doc-link fitted\">i<span>Fitted</span></span></label><div class=\"sk-toggleable__content fitted\"><pre>LogisticRegression(random_state=1, solver=&#x27;liblinear&#x27;)</pre></div> </div></div></div></div>"
      ],
      "text/plain": [
       "LogisticRegression(random_state=1, solver='liblinear')"
      ]
     },
     "execution_count": 51,
     "metadata": {},
     "output_type": "execute_result"
    }
   ],
   "source": [
    "model = LogisticRegression(solver=\"liblinear\", random_state=1)\n",
    "model.fit(X_train, y_train)"
   ]
  },
  {
   "cell_type": "markdown",
   "id": "0c21e494",
   "metadata": {},
   "source": [
    "We don't fit the val dataset, we only transform\n"
   ]
  },
  {
   "cell_type": "code",
   "execution_count": 52,
   "id": "3b040e7b",
   "metadata": {},
   "outputs": [
    {
     "data": {
      "text/html": [
       "<pre style=\"white-space:pre;overflow-x:auto;line-height:normal;font-family:Menlo,'DejaVu Sans Mono',consolas,'Courier New',monospace\"></pre>\n"
      ],
      "text/plain": []
     },
     "metadata": {},
     "output_type": "display_data"
    },
    {
     "data": {
      "text/plain": [
       "\u001b[1m(\u001b[0m\u001b[1;36m1409\u001b[0m, \u001b[1;36m45\u001b[0m\u001b[1m)\u001b[0m"
      ]
     },
     "execution_count": 52,
     "metadata": {},
     "output_type": "execute_result"
    }
   ],
   "source": [
    "val_dict = df_val[categorical + numerical].to_dict(orient=\"records\")\n",
    "X_val = dv.transform(val_dict)\n",
    "X_val.shape"
   ]
  },
  {
   "cell_type": "markdown",
   "id": "9537831f",
   "metadata": {},
   "source": [
    "## Hard prediction\n"
   ]
  },
  {
   "cell_type": "code",
   "execution_count": 91,
   "id": "0539a75d",
   "metadata": {},
   "outputs": [
    {
     "data": {
      "text/html": [
       "<pre style=\"white-space:pre;overflow-x:auto;line-height:normal;font-family:Menlo,'DejaVu Sans Mono',consolas,'Courier New',monospace\"></pre>\n"
      ],
      "text/plain": []
     },
     "metadata": {},
     "output_type": "display_data"
    },
    {
     "data": {
      "text/plain": [
       "\u001b[1;35marray\u001b[0m\u001b[1m(\u001b[0m\u001b[1m[\u001b[0m\u001b[1;36m0\u001b[0m, \u001b[1;36m0\u001b[0m, \u001b[1;36m0\u001b[0m, \u001b[33m...\u001b[0m, \u001b[1;36m0\u001b[0m, \u001b[1;36m1\u001b[0m, \u001b[1;36m1\u001b[0m\u001b[1m]\u001b[0m\u001b[1m)\u001b[0m"
      ]
     },
     "execution_count": 91,
     "metadata": {},
     "output_type": "execute_result"
    }
   ],
   "source": [
    "model.predict(X_val)"
   ]
  },
  {
   "cell_type": "code",
   "execution_count": 55,
   "id": "c84376a4",
   "metadata": {},
   "outputs": [
    {
     "data": {
      "text/html": [
       "<pre style=\"white-space:pre;overflow-x:auto;line-height:normal;font-family:Menlo,'DejaVu Sans Mono',consolas,'Courier New',monospace\"></pre>\n"
      ],
      "text/plain": []
     },
     "metadata": {},
     "output_type": "display_data"
    },
    {
     "data": {
      "text/plain": [
       "\u001b[1;35mnp.float64\u001b[0m\u001b[1m(\u001b[0m\u001b[1;36m-0.12193448146460852\u001b[0m\u001b[1m)\u001b[0m"
      ]
     },
     "execution_count": 55,
     "metadata": {},
     "output_type": "execute_result"
    }
   ],
   "source": [
    "model.intercept_[0]"
   ]
  },
  {
   "cell_type": "code",
   "execution_count": 56,
   "id": "c49c9eb3",
   "metadata": {},
   "outputs": [
    {
     "data": {
      "text/html": [
       "<pre style=\"white-space:pre;overflow-x:auto;line-height:normal;font-family:Menlo,'DejaVu Sans Mono',consolas,'Courier New',monospace\"></pre>\n"
      ],
      "text/plain": []
     },
     "metadata": {},
     "output_type": "display_data"
    },
    {
     "data": {
      "text/plain": [
       "\n",
       "\u001b[1;35marray\u001b[0m\u001b[1m(\u001b[0m\u001b[1m[\u001b[0m \u001b[1;36m0.607\u001b[0m, \u001b[1;36m-0.058\u001b[0m, \u001b[1;36m-0.671\u001b[0m, \u001b[1;36m-0.028\u001b[0m, \u001b[1;36m-0.094\u001b[0m,  \u001b[1;36m0.052\u001b[0m, \u001b[1;36m-0.103\u001b[0m, \u001b[1;36m-0.071\u001b[0m,\n",
       "       \u001b[1;36m-0.042\u001b[0m, \u001b[1;36m-0.08\u001b[0m , \u001b[1;36m-0.376\u001b[0m,  \u001b[1;36m0.357\u001b[0m, \u001b[1;36m-0.103\u001b[0m,  \u001b[1;36m0.002\u001b[0m, \u001b[1;36m-0.248\u001b[0m,  \u001b[1;36m0.133\u001b[0m,\n",
       "       \u001b[1;36m-0.008\u001b[0m,  \u001b[1;36m0.057\u001b[0m, \u001b[1;36m-0.103\u001b[0m, \u001b[1;36m-0.076\u001b[0m,  \u001b[1;36m0.217\u001b[0m, \u001b[1;36m-0.103\u001b[0m, \u001b[1;36m-0.236\u001b[0m, \u001b[1;36m-0.249\u001b[0m,\n",
       "        \u001b[1;36m0.127\u001b[0m, \u001b[1;36m-0.116\u001b[0m, \u001b[1;36m-0.006\u001b[0m, \u001b[1;36m-0.101\u001b[0m, \u001b[1;36m-0.049\u001b[0m,  \u001b[1;36m0.067\u001b[0m, \u001b[1;36m-0.04\u001b[0m ,  \u001b[1;36m0.133\u001b[0m,\n",
       "       \u001b[1;36m-0.255\u001b[0m,  \u001b[1;36m0.199\u001b[0m, \u001b[1;36m-0.101\u001b[0m, \u001b[1;36m-0.103\u001b[0m,  \u001b[1;36m0.082\u001b[0m, \u001b[1;36m-0.064\u001b[0m, \u001b[1;36m-0.103\u001b[0m,  \u001b[1;36m0.045\u001b[0m,\n",
       "        \u001b[1;36m0.17\u001b[0m , \u001b[1;36m-0.103\u001b[0m, \u001b[1;36m-0.189\u001b[0m, \u001b[1;36m-0.067\u001b[0m,  \u001b[1;36m0\u001b[0m.   \u001b[1m]\u001b[0m\u001b[1m)\u001b[0m"
      ]
     },
     "execution_count": 56,
     "metadata": {},
     "output_type": "execute_result"
    }
   ],
   "source": [
    "model.coef_[0].round(3)"
   ]
  },
  {
   "cell_type": "markdown",
   "id": "41c5f093",
   "metadata": {},
   "source": [
    "# Soft prediction"
   ]
  },
  {
   "cell_type": "code",
   "execution_count": 57,
   "id": "451bbd24",
   "metadata": {},
   "outputs": [
    {
     "data": {
      "text/html": [
       "<pre style=\"white-space:pre;overflow-x:auto;line-height:normal;font-family:Menlo,'DejaVu Sans Mono',consolas,'Courier New',monospace\"></pre>\n"
      ],
      "text/plain": []
     },
     "metadata": {},
     "output_type": "display_data"
    },
    {
     "data": {
      "text/plain": [
       "\n",
       "\u001b[1;35marray\u001b[0m\u001b[1m(\u001b[0m\u001b[1m[\u001b[0m\u001b[1;36m0.00735888\u001b[0m, \u001b[1;36m0.2097209\u001b[0m , \u001b[1;36m0.2207079\u001b[0m , \u001b[33m...\u001b[0m, \u001b[1;36m0.14887969\u001b[0m, \u001b[1;36m0.78483927\u001b[0m,\n",
       "       \u001b[1;36m0.81058075\u001b[0m\u001b[1m]\u001b[0m\u001b[1m)\u001b[0m"
      ]
     },
     "execution_count": 57,
     "metadata": {},
     "output_type": "execute_result"
    }
   ],
   "source": [
    "y_pred = model.predict_proba(X_val)[:, 1]\n",
    "y_pred"
   ]
  },
  {
   "cell_type": "code",
   "execution_count": 58,
   "id": "47609764",
   "metadata": {},
   "outputs": [
    {
     "data": {
      "text/html": [
       "<pre style=\"white-space:pre;overflow-x:auto;line-height:normal;font-family:Menlo,'DejaVu Sans Mono',consolas,'Courier New',monospace\"></pre>\n"
      ],
      "text/plain": []
     },
     "metadata": {},
     "output_type": "display_data"
    },
    {
     "data": {
      "text/plain": [
       "\u001b[1;35marray\u001b[0m\u001b[1m(\u001b[0m\u001b[1m[\u001b[0m\u001b[3;91mFalse\u001b[0m, \u001b[3;91mFalse\u001b[0m, \u001b[3;91mFalse\u001b[0m, \u001b[33m...\u001b[0m, \u001b[3;91mFalse\u001b[0m,  \u001b[3;92mTrue\u001b[0m,  \u001b[3;92mTrue\u001b[0m\u001b[1m]\u001b[0m\u001b[1m)\u001b[0m"
      ]
     },
     "execution_count": 58,
     "metadata": {},
     "output_type": "execute_result"
    }
   ],
   "source": [
    "churn_decision = y_pred > 0.5\n",
    "churn_decision"
   ]
  },
  {
   "cell_type": "code",
   "execution_count": 59,
   "id": "959eb4ff",
   "metadata": {},
   "outputs": [
    {
     "data": {
      "text/html": [
       "<pre style=\"white-space:pre;overflow-x:auto;line-height:normal;font-family:Menlo,'DejaVu Sans Mono',consolas,'Courier New',monospace\"></pre>\n"
      ],
      "text/plain": []
     },
     "metadata": {},
     "output_type": "display_data"
    },
    {
     "data": {
      "text/html": [
       "<div>\n",
       "<style scoped>\n",
       "    .dataframe tbody tr th:only-of-type {\n",
       "        vertical-align: middle;\n",
       "    }\n",
       "\n",
       "    .dataframe tbody tr th {\n",
       "        vertical-align: top;\n",
       "    }\n",
       "\n",
       "    .dataframe thead th {\n",
       "        text-align: right;\n",
       "    }\n",
       "</style>\n",
       "<table border=\"1\" class=\"dataframe\">\n",
       "  <thead>\n",
       "    <tr style=\"text-align: right;\">\n",
       "      <th></th>\n",
       "      <th>probability</th>\n",
       "      <th>prediction</th>\n",
       "      <th>actual</th>\n",
       "    </tr>\n",
       "  </thead>\n",
       "  <tbody>\n",
       "    <tr>\n",
       "      <th>0</th>\n",
       "      <td>0.007359</td>\n",
       "      <td>0</td>\n",
       "      <td>0</td>\n",
       "    </tr>\n",
       "    <tr>\n",
       "      <th>1</th>\n",
       "      <td>0.209721</td>\n",
       "      <td>0</td>\n",
       "      <td>0</td>\n",
       "    </tr>\n",
       "    <tr>\n",
       "      <th>2</th>\n",
       "      <td>0.220708</td>\n",
       "      <td>0</td>\n",
       "      <td>0</td>\n",
       "    </tr>\n",
       "    <tr>\n",
       "      <th>3</th>\n",
       "      <td>0.575035</td>\n",
       "      <td>1</td>\n",
       "      <td>1</td>\n",
       "    </tr>\n",
       "    <tr>\n",
       "      <th>4</th>\n",
       "      <td>0.216671</td>\n",
       "      <td>0</td>\n",
       "      <td>0</td>\n",
       "    </tr>\n",
       "    <tr>\n",
       "      <th>...</th>\n",
       "      <td>...</td>\n",
       "      <td>...</td>\n",
       "      <td>...</td>\n",
       "    </tr>\n",
       "    <tr>\n",
       "      <th>1404</th>\n",
       "      <td>0.295302</td>\n",
       "      <td>0</td>\n",
       "      <td>0</td>\n",
       "    </tr>\n",
       "    <tr>\n",
       "      <th>1405</th>\n",
       "      <td>0.040019</td>\n",
       "      <td>0</td>\n",
       "      <td>1</td>\n",
       "    </tr>\n",
       "    <tr>\n",
       "      <th>1406</th>\n",
       "      <td>0.148880</td>\n",
       "      <td>0</td>\n",
       "      <td>0</td>\n",
       "    </tr>\n",
       "    <tr>\n",
       "      <th>1407</th>\n",
       "      <td>0.784839</td>\n",
       "      <td>1</td>\n",
       "      <td>1</td>\n",
       "    </tr>\n",
       "    <tr>\n",
       "      <th>1408</th>\n",
       "      <td>0.810581</td>\n",
       "      <td>1</td>\n",
       "      <td>1</td>\n",
       "    </tr>\n",
       "  </tbody>\n",
       "</table>\n",
       "<p>1409 rows × 3 columns</p>\n",
       "</div>"
      ],
      "text/plain": [
       "\n",
       "      probability  prediction  actual\n",
       "\u001b[1;36m0\u001b[0m        \u001b[1;36m0.007359\u001b[0m           \u001b[1;36m0\u001b[0m       \u001b[1;36m0\u001b[0m\n",
       "\u001b[1;36m1\u001b[0m        \u001b[1;36m0.209721\u001b[0m           \u001b[1;36m0\u001b[0m       \u001b[1;36m0\u001b[0m\n",
       "\u001b[1;36m2\u001b[0m        \u001b[1;36m0.220708\u001b[0m           \u001b[1;36m0\u001b[0m       \u001b[1;36m0\u001b[0m\n",
       "\u001b[1;36m3\u001b[0m        \u001b[1;36m0.575035\u001b[0m           \u001b[1;36m1\u001b[0m       \u001b[1;36m1\u001b[0m\n",
       "\u001b[1;36m4\u001b[0m        \u001b[1;36m0.216671\u001b[0m           \u001b[1;36m0\u001b[0m       \u001b[1;36m0\u001b[0m\n",
       "\u001b[33m...\u001b[0m           \u001b[33m...\u001b[0m         \u001b[33m...\u001b[0m     \u001b[33m...\u001b[0m\n",
       "\u001b[1;36m1404\u001b[0m     \u001b[1;36m0.295302\u001b[0m           \u001b[1;36m0\u001b[0m       \u001b[1;36m0\u001b[0m\n",
       "\u001b[1;36m1405\u001b[0m     \u001b[1;36m0.040019\u001b[0m           \u001b[1;36m0\u001b[0m       \u001b[1;36m1\u001b[0m\n",
       "\u001b[1;36m1406\u001b[0m     \u001b[1;36m0.148880\u001b[0m           \u001b[1;36m0\u001b[0m       \u001b[1;36m0\u001b[0m\n",
       "\u001b[1;36m1407\u001b[0m     \u001b[1;36m0.784839\u001b[0m           \u001b[1;36m1\u001b[0m       \u001b[1;36m1\u001b[0m\n",
       "\u001b[1;36m1408\u001b[0m     \u001b[1;36m0.810581\u001b[0m           \u001b[1;36m1\u001b[0m       \u001b[1;36m1\u001b[0m\n",
       "\n",
       "\u001b[1m[\u001b[0m\u001b[1;36m1409\u001b[0m rows x \u001b[1;36m3\u001b[0m columns\u001b[1m]\u001b[0m"
      ]
     },
     "execution_count": 59,
     "metadata": {},
     "output_type": "execute_result"
    }
   ],
   "source": [
    "df_pred = pd.DataFrame()\n",
    "df_pred[\"probability\"] = y_pred\n",
    "df_pred[\"prediction\"] = churn_decision.astype(int)\n",
    "df_pred[\"actual\"] = y_val\n",
    "df_pred"
   ]
  },
  {
   "cell_type": "code",
   "execution_count": 60,
   "id": "26cee59f",
   "metadata": {},
   "outputs": [
    {
     "data": {
      "text/html": [
       "<pre style=\"white-space:pre;overflow-x:auto;line-height:normal;font-family:Menlo,'DejaVu Sans Mono',consolas,'Courier New',monospace\"></pre>\n"
      ],
      "text/plain": []
     },
     "metadata": {},
     "output_type": "display_data"
    },
    {
     "data": {
      "text/plain": [
       "\u001b[1;35mnp.float64\u001b[0m\u001b[1m(\u001b[0m\u001b[1;36m0.8055358410220014\u001b[0m\u001b[1m)\u001b[0m"
      ]
     },
     "execution_count": 60,
     "metadata": {},
     "output_type": "execute_result"
    }
   ],
   "source": [
    "(y_val == churn_decision).mean()"
   ]
  },
  {
   "cell_type": "markdown",
   "id": "ef9b8111",
   "metadata": {},
   "source": [
    "# 3.11 Model Interpretation\n",
    "- Look at the coefficients\n",
    "- Train a smaller model with fewer features"
   ]
  },
  {
   "cell_type": "code",
   "execution_count": 61,
   "id": "651a7fe6",
   "metadata": {},
   "outputs": [
    {
     "data": {
      "text/html": [
       "<pre style=\"white-space:pre;overflow-x:auto;line-height:normal;font-family:Menlo,'DejaVu Sans Mono',consolas,'Courier New',monospace\"></pre>\n"
      ],
      "text/plain": []
     },
     "metadata": {},
     "output_type": "display_data"
    },
    {
     "data": {
      "text/plain": [
       "\u001b[1;35mnp.float64\u001b[0m\u001b[1m(\u001b[0m\u001b[1;36m-0.12193448146460852\u001b[0m\u001b[1m)\u001b[0m"
      ]
     },
     "execution_count": 61,
     "metadata": {},
     "output_type": "execute_result"
    }
   ],
   "source": [
    "model.intercept_[0]"
   ]
  },
  {
   "cell_type": "code",
   "execution_count": 62,
   "id": "4fd4b20e",
   "metadata": {},
   "outputs": [
    {
     "data": {
      "text/html": [
       "<pre style=\"white-space:pre;overflow-x:auto;line-height:normal;font-family:Menlo,'DejaVu Sans Mono',consolas,'Courier New',monospace\"></pre>\n"
      ],
      "text/plain": []
     },
     "metadata": {},
     "output_type": "display_data"
    },
    {
     "data": {
      "text/plain": [
       "\n",
       "\u001b[1;35marray\u001b[0m\u001b[1m(\u001b[0m\u001b[1m[\u001b[0m\u001b[32m'\u001b[0m\u001b[32mcontract\u001b[0m\u001b[32m=\u001b[0m\u001b[32mmonth\u001b[0m\u001b[32m-to-month'\u001b[0m, \u001b[32m'\u001b[0m\u001b[32mcontract\u001b[0m\u001b[32m=\u001b[0m\u001b[32mone_year\u001b[0m\u001b[32m'\u001b[0m,\n",
       "       \u001b[32m'\u001b[0m\u001b[32mcontract\u001b[0m\u001b[32m=\u001b[0m\u001b[32mtwo_year\u001b[0m\u001b[32m'\u001b[0m, \u001b[32m'\u001b[0m\u001b[32mdependents\u001b[0m\u001b[32m=\u001b[0m\u001b[32mno\u001b[0m\u001b[32m'\u001b[0m, \u001b[32m'\u001b[0m\u001b[32mdependents\u001b[0m\u001b[32m=\u001b[0m\u001b[32myes\u001b[0m\u001b[32m'\u001b[0m,\n",
       "       \u001b[32m'\u001b[0m\u001b[32mdeviceprotection\u001b[0m\u001b[32m=\u001b[0m\u001b[32mno\u001b[0m\u001b[32m'\u001b[0m, \u001b[32m'\u001b[0m\u001b[32mdeviceprotection\u001b[0m\u001b[32m=\u001b[0m\u001b[32mno_internet_service\u001b[0m\u001b[32m'\u001b[0m,\n",
       "       \u001b[32m'\u001b[0m\u001b[32mdeviceprotection\u001b[0m\u001b[32m=\u001b[0m\u001b[32myes\u001b[0m\u001b[32m'\u001b[0m, \u001b[32m'\u001b[0m\u001b[32mgender\u001b[0m\u001b[32m=\u001b[0m\u001b[32mfemale\u001b[0m\u001b[32m'\u001b[0m, \u001b[32m'\u001b[0m\u001b[32mgender\u001b[0m\u001b[32m=\u001b[0m\u001b[32mmale\u001b[0m\u001b[32m'\u001b[0m,\n",
       "       \u001b[32m'\u001b[0m\u001b[32minternetservice\u001b[0m\u001b[32m=\u001b[0m\u001b[32mdsl\u001b[0m\u001b[32m'\u001b[0m, \u001b[32m'\u001b[0m\u001b[32minternetservice\u001b[0m\u001b[32m=\u001b[0m\u001b[32mfiber_optic\u001b[0m\u001b[32m'\u001b[0m,\n",
       "       \u001b[32m'\u001b[0m\u001b[32minternetservice\u001b[0m\u001b[32m=\u001b[0m\u001b[32mno\u001b[0m\u001b[32m'\u001b[0m, \u001b[32m'monthlycharges'\u001b[0m, \u001b[32m'\u001b[0m\u001b[32mmultiplelines\u001b[0m\u001b[32m=\u001b[0m\u001b[32mno\u001b[0m\u001b[32m'\u001b[0m,\n",
       "       \u001b[32m'\u001b[0m\u001b[32mmultiplelines\u001b[0m\u001b[32m=\u001b[0m\u001b[32mno_phone_service\u001b[0m\u001b[32m'\u001b[0m, \u001b[32m'\u001b[0m\u001b[32mmultiplelines\u001b[0m\u001b[32m=\u001b[0m\u001b[32myes\u001b[0m\u001b[32m'\u001b[0m,\n",
       "       \u001b[32m'\u001b[0m\u001b[32monlinebackup\u001b[0m\u001b[32m=\u001b[0m\u001b[32mno\u001b[0m\u001b[32m'\u001b[0m, \u001b[32m'\u001b[0m\u001b[32monlinebackup\u001b[0m\u001b[32m=\u001b[0m\u001b[32mno_internet_service\u001b[0m\u001b[32m'\u001b[0m,\n",
       "       \u001b[32m'\u001b[0m\u001b[32monlinebackup\u001b[0m\u001b[32m=\u001b[0m\u001b[32myes\u001b[0m\u001b[32m'\u001b[0m, \u001b[32m'\u001b[0m\u001b[32monlinesecurity\u001b[0m\u001b[32m=\u001b[0m\u001b[32mno\u001b[0m\u001b[32m'\u001b[0m,\n",
       "       \u001b[32m'\u001b[0m\u001b[32monlinesecurity\u001b[0m\u001b[32m=\u001b[0m\u001b[32mno_internet_service\u001b[0m\u001b[32m'\u001b[0m, \u001b[32m'\u001b[0m\u001b[32monlinesecurity\u001b[0m\u001b[32m=\u001b[0m\u001b[32myes\u001b[0m\u001b[32m'\u001b[0m,\n",
       "       \u001b[32m'\u001b[0m\u001b[32mpaperlessbilling\u001b[0m\u001b[32m=\u001b[0m\u001b[32mno\u001b[0m\u001b[32m'\u001b[0m, \u001b[32m'\u001b[0m\u001b[32mpaperlessbilling\u001b[0m\u001b[32m=\u001b[0m\u001b[32myes\u001b[0m\u001b[32m'\u001b[0m, \u001b[32m'\u001b[0m\u001b[32mpartner\u001b[0m\u001b[32m=\u001b[0m\u001b[32mno\u001b[0m\u001b[32m'\u001b[0m,\n",
       "       \u001b[32m'\u001b[0m\u001b[32mpartner\u001b[0m\u001b[32m=\u001b[0m\u001b[32myes\u001b[0m\u001b[32m'\u001b[0m, \u001b[32m'\u001b[0m\u001b[32mpaymentmethod\u001b[0m\u001b[32m=\u001b[0m\u001b[32mbank_transfer_\u001b[0m\u001b[32m(\u001b[0m\u001b[32mautomatic\u001b[0m\u001b[32m)\u001b[0m\u001b[32m'\u001b[0m,\n",
       "       \u001b[32m'\u001b[0m\u001b[32mpaymentmethod\u001b[0m\u001b[32m=\u001b[0m\u001b[32mcredit_card_\u001b[0m\u001b[32m(\u001b[0m\u001b[32mautomatic\u001b[0m\u001b[32m)\u001b[0m\u001b[32m'\u001b[0m,\n",
       "       \u001b[32m'\u001b[0m\u001b[32mpaymentmethod\u001b[0m\u001b[32m=\u001b[0m\u001b[32melectronic_check\u001b[0m\u001b[32m'\u001b[0m, \u001b[32m'\u001b[0m\u001b[32mpaymentmethod\u001b[0m\u001b[32m=\u001b[0m\u001b[32mmailed_check\u001b[0m\u001b[32m'\u001b[0m,\n",
       "       \u001b[32m'\u001b[0m\u001b[32mphoneservice\u001b[0m\u001b[32m=\u001b[0m\u001b[32mno\u001b[0m\u001b[32m'\u001b[0m, \u001b[32m'\u001b[0m\u001b[32mphoneservice\u001b[0m\u001b[32m=\u001b[0m\u001b[32myes\u001b[0m\u001b[32m'\u001b[0m, \u001b[32m'seniorcitizen'\u001b[0m,\n",
       "       \u001b[32m'\u001b[0m\u001b[32mstreamingmovies\u001b[0m\u001b[32m=\u001b[0m\u001b[32mno\u001b[0m\u001b[32m'\u001b[0m, \u001b[32m'\u001b[0m\u001b[32mstreamingmovies\u001b[0m\u001b[32m=\u001b[0m\u001b[32mno_internet_service\u001b[0m\u001b[32m'\u001b[0m,\n",
       "       \u001b[32m'\u001b[0m\u001b[32mstreamingmovies\u001b[0m\u001b[32m=\u001b[0m\u001b[32myes\u001b[0m\u001b[32m'\u001b[0m, \u001b[32m'\u001b[0m\u001b[32mstreamingtv\u001b[0m\u001b[32m=\u001b[0m\u001b[32mno\u001b[0m\u001b[32m'\u001b[0m,\n",
       "       \u001b[32m'\u001b[0m\u001b[32mstreamingtv\u001b[0m\u001b[32m=\u001b[0m\u001b[32mno_internet_service\u001b[0m\u001b[32m'\u001b[0m, \u001b[32m'\u001b[0m\u001b[32mstreamingtv\u001b[0m\u001b[32m=\u001b[0m\u001b[32myes\u001b[0m\u001b[32m'\u001b[0m,\n",
       "       \u001b[32m'\u001b[0m\u001b[32mtechsupport\u001b[0m\u001b[32m=\u001b[0m\u001b[32mno\u001b[0m\u001b[32m'\u001b[0m, \u001b[32m'\u001b[0m\u001b[32mtechsupport\u001b[0m\u001b[32m=\u001b[0m\u001b[32mno_internet_service\u001b[0m\u001b[32m'\u001b[0m,\n",
       "       \u001b[32m'\u001b[0m\u001b[32mtechsupport\u001b[0m\u001b[32m=\u001b[0m\u001b[32myes\u001b[0m\u001b[32m'\u001b[0m, \u001b[32m'tenure'\u001b[0m, \u001b[32m'totalcharges'\u001b[0m\u001b[1m]\u001b[0m, \u001b[33mdtype\u001b[0m=\u001b[35mobject\u001b[0m\u001b[1m)\u001b[0m"
      ]
     },
     "execution_count": 62,
     "metadata": {},
     "output_type": "execute_result"
    }
   ],
   "source": [
    "dv.get_feature_names_out()"
   ]
  },
  {
   "cell_type": "code",
   "execution_count": 63,
   "id": "a73c8da2",
   "metadata": {},
   "outputs": [
    {
     "data": {
      "text/html": [
       "<pre style=\"white-space:pre;overflow-x:auto;line-height:normal;font-family:Menlo,'DejaVu Sans Mono',consolas,'Courier New',monospace\"></pre>\n"
      ],
      "text/plain": []
     },
     "metadata": {},
     "output_type": "display_data"
    },
    {
     "data": {
      "text/plain": [
       "\n",
       "\u001b[1;35marray\u001b[0m\u001b[1m(\u001b[0m\u001b[1m[\u001b[0m \u001b[1;36m0.607\u001b[0m, \u001b[1;36m-0.058\u001b[0m, \u001b[1;36m-0.671\u001b[0m, \u001b[1;36m-0.028\u001b[0m, \u001b[1;36m-0.094\u001b[0m,  \u001b[1;36m0.052\u001b[0m, \u001b[1;36m-0.103\u001b[0m, \u001b[1;36m-0.071\u001b[0m,\n",
       "       \u001b[1;36m-0.042\u001b[0m, \u001b[1;36m-0.08\u001b[0m , \u001b[1;36m-0.376\u001b[0m,  \u001b[1;36m0.357\u001b[0m, \u001b[1;36m-0.103\u001b[0m,  \u001b[1;36m0.002\u001b[0m, \u001b[1;36m-0.248\u001b[0m,  \u001b[1;36m0.133\u001b[0m,\n",
       "       \u001b[1;36m-0.008\u001b[0m,  \u001b[1;36m0.057\u001b[0m, \u001b[1;36m-0.103\u001b[0m, \u001b[1;36m-0.076\u001b[0m,  \u001b[1;36m0.217\u001b[0m, \u001b[1;36m-0.103\u001b[0m, \u001b[1;36m-0.236\u001b[0m, \u001b[1;36m-0.249\u001b[0m,\n",
       "        \u001b[1;36m0.127\u001b[0m, \u001b[1;36m-0.116\u001b[0m, \u001b[1;36m-0.006\u001b[0m, \u001b[1;36m-0.101\u001b[0m, \u001b[1;36m-0.049\u001b[0m,  \u001b[1;36m0.067\u001b[0m, \u001b[1;36m-0.04\u001b[0m ,  \u001b[1;36m0.133\u001b[0m,\n",
       "       \u001b[1;36m-0.255\u001b[0m,  \u001b[1;36m0.199\u001b[0m, \u001b[1;36m-0.101\u001b[0m, \u001b[1;36m-0.103\u001b[0m,  \u001b[1;36m0.082\u001b[0m, \u001b[1;36m-0.064\u001b[0m, \u001b[1;36m-0.103\u001b[0m,  \u001b[1;36m0.045\u001b[0m,\n",
       "        \u001b[1;36m0.17\u001b[0m , \u001b[1;36m-0.103\u001b[0m, \u001b[1;36m-0.189\u001b[0m, \u001b[1;36m-0.067\u001b[0m,  \u001b[1;36m0\u001b[0m.   \u001b[1m]\u001b[0m\u001b[1m)\u001b[0m"
      ]
     },
     "execution_count": 63,
     "metadata": {},
     "output_type": "execute_result"
    }
   ],
   "source": [
    "model.coef_[0].round(3)"
   ]
  },
  {
   "cell_type": "code",
   "execution_count": 64,
   "id": "5bd5c290",
   "metadata": {},
   "outputs": [
    {
     "data": {
      "text/html": [
       "<pre style=\"white-space:pre;overflow-x:auto;line-height:normal;font-family:Menlo,'DejaVu Sans Mono',consolas,'Courier New',monospace\"></pre>\n"
      ],
      "text/plain": []
     },
     "metadata": {},
     "output_type": "display_data"
    },
    {
     "data": {
      "text/plain": [
       "\n",
       "\u001b[1m{\u001b[0m\n",
       "    \u001b[32m'\u001b[0m\u001b[32mcontract\u001b[0m\u001b[32m=\u001b[0m\u001b[32mmonth\u001b[0m\u001b[32m-to-month'\u001b[0m: \u001b[1;35mnp.float64\u001b[0m\u001b[1m(\u001b[0m\u001b[1;36m0.607\u001b[0m\u001b[1m)\u001b[0m,\n",
       "    \u001b[32m'\u001b[0m\u001b[32mcontract\u001b[0m\u001b[32m=\u001b[0m\u001b[32mone_year\u001b[0m\u001b[32m'\u001b[0m: \u001b[1;35mnp.float64\u001b[0m\u001b[1m(\u001b[0m\u001b[1;36m-0.058\u001b[0m\u001b[1m)\u001b[0m,\n",
       "    \u001b[32m'\u001b[0m\u001b[32mcontract\u001b[0m\u001b[32m=\u001b[0m\u001b[32mtwo_year\u001b[0m\u001b[32m'\u001b[0m: \u001b[1;35mnp.float64\u001b[0m\u001b[1m(\u001b[0m\u001b[1;36m-0.671\u001b[0m\u001b[1m)\u001b[0m,\n",
       "    \u001b[32m'\u001b[0m\u001b[32mdependents\u001b[0m\u001b[32m=\u001b[0m\u001b[32mno\u001b[0m\u001b[32m'\u001b[0m: \u001b[1;35mnp.float64\u001b[0m\u001b[1m(\u001b[0m\u001b[1;36m-0.028\u001b[0m\u001b[1m)\u001b[0m,\n",
       "    \u001b[32m'\u001b[0m\u001b[32mdependents\u001b[0m\u001b[32m=\u001b[0m\u001b[32myes\u001b[0m\u001b[32m'\u001b[0m: \u001b[1;35mnp.float64\u001b[0m\u001b[1m(\u001b[0m\u001b[1;36m-0.094\u001b[0m\u001b[1m)\u001b[0m,\n",
       "    \u001b[32m'\u001b[0m\u001b[32mdeviceprotection\u001b[0m\u001b[32m=\u001b[0m\u001b[32mno\u001b[0m\u001b[32m'\u001b[0m: \u001b[1;35mnp.float64\u001b[0m\u001b[1m(\u001b[0m\u001b[1;36m0.052\u001b[0m\u001b[1m)\u001b[0m,\n",
       "    \u001b[32m'\u001b[0m\u001b[32mdeviceprotection\u001b[0m\u001b[32m=\u001b[0m\u001b[32mno_internet_service\u001b[0m\u001b[32m'\u001b[0m: \u001b[1;35mnp.float64\u001b[0m\u001b[1m(\u001b[0m\u001b[1;36m-0.103\u001b[0m\u001b[1m)\u001b[0m,\n",
       "    \u001b[32m'\u001b[0m\u001b[32mdeviceprotection\u001b[0m\u001b[32m=\u001b[0m\u001b[32myes\u001b[0m\u001b[32m'\u001b[0m: \u001b[1;35mnp.float64\u001b[0m\u001b[1m(\u001b[0m\u001b[1;36m-0.071\u001b[0m\u001b[1m)\u001b[0m,\n",
       "    \u001b[32m'\u001b[0m\u001b[32mgender\u001b[0m\u001b[32m=\u001b[0m\u001b[32mfemale\u001b[0m\u001b[32m'\u001b[0m: \u001b[1;35mnp.float64\u001b[0m\u001b[1m(\u001b[0m\u001b[1;36m-0.042\u001b[0m\u001b[1m)\u001b[0m,\n",
       "    \u001b[32m'\u001b[0m\u001b[32mgender\u001b[0m\u001b[32m=\u001b[0m\u001b[32mmale\u001b[0m\u001b[32m'\u001b[0m: \u001b[1;35mnp.float64\u001b[0m\u001b[1m(\u001b[0m\u001b[1;36m-0.08\u001b[0m\u001b[1m)\u001b[0m,\n",
       "    \u001b[32m'\u001b[0m\u001b[32minternetservice\u001b[0m\u001b[32m=\u001b[0m\u001b[32mdsl\u001b[0m\u001b[32m'\u001b[0m: \u001b[1;35mnp.float64\u001b[0m\u001b[1m(\u001b[0m\u001b[1;36m-0.376\u001b[0m\u001b[1m)\u001b[0m,\n",
       "    \u001b[32m'\u001b[0m\u001b[32minternetservice\u001b[0m\u001b[32m=\u001b[0m\u001b[32mfiber_optic\u001b[0m\u001b[32m'\u001b[0m: \u001b[1;35mnp.float64\u001b[0m\u001b[1m(\u001b[0m\u001b[1;36m0.357\u001b[0m\u001b[1m)\u001b[0m,\n",
       "    \u001b[32m'\u001b[0m\u001b[32minternetservice\u001b[0m\u001b[32m=\u001b[0m\u001b[32mno\u001b[0m\u001b[32m'\u001b[0m: \u001b[1;35mnp.float64\u001b[0m\u001b[1m(\u001b[0m\u001b[1;36m-0.103\u001b[0m\u001b[1m)\u001b[0m,\n",
       "    \u001b[32m'monthlycharges'\u001b[0m: \u001b[1;35mnp.float64\u001b[0m\u001b[1m(\u001b[0m\u001b[1;36m0.002\u001b[0m\u001b[1m)\u001b[0m,\n",
       "    \u001b[32m'\u001b[0m\u001b[32mmultiplelines\u001b[0m\u001b[32m=\u001b[0m\u001b[32mno\u001b[0m\u001b[32m'\u001b[0m: \u001b[1;35mnp.float64\u001b[0m\u001b[1m(\u001b[0m\u001b[1;36m-0.248\u001b[0m\u001b[1m)\u001b[0m,\n",
       "    \u001b[32m'\u001b[0m\u001b[32mmultiplelines\u001b[0m\u001b[32m=\u001b[0m\u001b[32mno_phone_service\u001b[0m\u001b[32m'\u001b[0m: \u001b[1;35mnp.float64\u001b[0m\u001b[1m(\u001b[0m\u001b[1;36m0.133\u001b[0m\u001b[1m)\u001b[0m,\n",
       "    \u001b[32m'\u001b[0m\u001b[32mmultiplelines\u001b[0m\u001b[32m=\u001b[0m\u001b[32myes\u001b[0m\u001b[32m'\u001b[0m: \u001b[1;35mnp.float64\u001b[0m\u001b[1m(\u001b[0m\u001b[1;36m-0.008\u001b[0m\u001b[1m)\u001b[0m,\n",
       "    \u001b[32m'\u001b[0m\u001b[32monlinebackup\u001b[0m\u001b[32m=\u001b[0m\u001b[32mno\u001b[0m\u001b[32m'\u001b[0m: \u001b[1;35mnp.float64\u001b[0m\u001b[1m(\u001b[0m\u001b[1;36m0.057\u001b[0m\u001b[1m)\u001b[0m,\n",
       "    \u001b[32m'\u001b[0m\u001b[32monlinebackup\u001b[0m\u001b[32m=\u001b[0m\u001b[32mno_internet_service\u001b[0m\u001b[32m'\u001b[0m: \u001b[1;35mnp.float64\u001b[0m\u001b[1m(\u001b[0m\u001b[1;36m-0.103\u001b[0m\u001b[1m)\u001b[0m,\n",
       "    \u001b[32m'\u001b[0m\u001b[32monlinebackup\u001b[0m\u001b[32m=\u001b[0m\u001b[32myes\u001b[0m\u001b[32m'\u001b[0m: \u001b[1;35mnp.float64\u001b[0m\u001b[1m(\u001b[0m\u001b[1;36m-0.076\u001b[0m\u001b[1m)\u001b[0m,\n",
       "    \u001b[32m'\u001b[0m\u001b[32monlinesecurity\u001b[0m\u001b[32m=\u001b[0m\u001b[32mno\u001b[0m\u001b[32m'\u001b[0m: \u001b[1;35mnp.float64\u001b[0m\u001b[1m(\u001b[0m\u001b[1;36m0.217\u001b[0m\u001b[1m)\u001b[0m,\n",
       "    \u001b[32m'\u001b[0m\u001b[32monlinesecurity\u001b[0m\u001b[32m=\u001b[0m\u001b[32mno_internet_service\u001b[0m\u001b[32m'\u001b[0m: \u001b[1;35mnp.float64\u001b[0m\u001b[1m(\u001b[0m\u001b[1;36m-0.103\u001b[0m\u001b[1m)\u001b[0m,\n",
       "    \u001b[32m'\u001b[0m\u001b[32monlinesecurity\u001b[0m\u001b[32m=\u001b[0m\u001b[32myes\u001b[0m\u001b[32m'\u001b[0m: \u001b[1;35mnp.float64\u001b[0m\u001b[1m(\u001b[0m\u001b[1;36m-0.236\u001b[0m\u001b[1m)\u001b[0m,\n",
       "    \u001b[32m'\u001b[0m\u001b[32mpaperlessbilling\u001b[0m\u001b[32m=\u001b[0m\u001b[32mno\u001b[0m\u001b[32m'\u001b[0m: \u001b[1;35mnp.float64\u001b[0m\u001b[1m(\u001b[0m\u001b[1;36m-0.249\u001b[0m\u001b[1m)\u001b[0m,\n",
       "    \u001b[32m'\u001b[0m\u001b[32mpaperlessbilling\u001b[0m\u001b[32m=\u001b[0m\u001b[32myes\u001b[0m\u001b[32m'\u001b[0m: \u001b[1;35mnp.float64\u001b[0m\u001b[1m(\u001b[0m\u001b[1;36m0.127\u001b[0m\u001b[1m)\u001b[0m,\n",
       "    \u001b[32m'\u001b[0m\u001b[32mpartner\u001b[0m\u001b[32m=\u001b[0m\u001b[32mno\u001b[0m\u001b[32m'\u001b[0m: \u001b[1;35mnp.float64\u001b[0m\u001b[1m(\u001b[0m\u001b[1;36m-0.116\u001b[0m\u001b[1m)\u001b[0m,\n",
       "    \u001b[32m'\u001b[0m\u001b[32mpartner\u001b[0m\u001b[32m=\u001b[0m\u001b[32myes\u001b[0m\u001b[32m'\u001b[0m: \u001b[1;35mnp.float64\u001b[0m\u001b[1m(\u001b[0m\u001b[1;36m-0.006\u001b[0m\u001b[1m)\u001b[0m,\n",
       "    \u001b[32m'\u001b[0m\u001b[32mpaymentmethod\u001b[0m\u001b[32m=\u001b[0m\u001b[32mbank_transfer_\u001b[0m\u001b[32m(\u001b[0m\u001b[32mautomatic\u001b[0m\u001b[32m)\u001b[0m\u001b[32m'\u001b[0m: \u001b[1;35mnp.float64\u001b[0m\u001b[1m(\u001b[0m\u001b[1;36m-0.101\u001b[0m\u001b[1m)\u001b[0m,\n",
       "    \u001b[32m'\u001b[0m\u001b[32mpaymentmethod\u001b[0m\u001b[32m=\u001b[0m\u001b[32mcredit_card_\u001b[0m\u001b[32m(\u001b[0m\u001b[32mautomatic\u001b[0m\u001b[32m)\u001b[0m\u001b[32m'\u001b[0m: \u001b[1;35mnp.float64\u001b[0m\u001b[1m(\u001b[0m\u001b[1;36m-0.049\u001b[0m\u001b[1m)\u001b[0m,\n",
       "    \u001b[32m'\u001b[0m\u001b[32mpaymentmethod\u001b[0m\u001b[32m=\u001b[0m\u001b[32melectronic_check\u001b[0m\u001b[32m'\u001b[0m: \u001b[1;35mnp.float64\u001b[0m\u001b[1m(\u001b[0m\u001b[1;36m0.067\u001b[0m\u001b[1m)\u001b[0m,\n",
       "    \u001b[32m'\u001b[0m\u001b[32mpaymentmethod\u001b[0m\u001b[32m=\u001b[0m\u001b[32mmailed_check\u001b[0m\u001b[32m'\u001b[0m: \u001b[1;35mnp.float64\u001b[0m\u001b[1m(\u001b[0m\u001b[1;36m-0.04\u001b[0m\u001b[1m)\u001b[0m,\n",
       "    \u001b[32m'\u001b[0m\u001b[32mphoneservice\u001b[0m\u001b[32m=\u001b[0m\u001b[32mno\u001b[0m\u001b[32m'\u001b[0m: \u001b[1;35mnp.float64\u001b[0m\u001b[1m(\u001b[0m\u001b[1;36m0.133\u001b[0m\u001b[1m)\u001b[0m,\n",
       "    \u001b[32m'\u001b[0m\u001b[32mphoneservice\u001b[0m\u001b[32m=\u001b[0m\u001b[32myes\u001b[0m\u001b[32m'\u001b[0m: \u001b[1;35mnp.float64\u001b[0m\u001b[1m(\u001b[0m\u001b[1;36m-0.255\u001b[0m\u001b[1m)\u001b[0m,\n",
       "    \u001b[32m'seniorcitizen'\u001b[0m: \u001b[1;35mnp.float64\u001b[0m\u001b[1m(\u001b[0m\u001b[1;36m0.199\u001b[0m\u001b[1m)\u001b[0m,\n",
       "    \u001b[32m'\u001b[0m\u001b[32mstreamingmovies\u001b[0m\u001b[32m=\u001b[0m\u001b[32mno\u001b[0m\u001b[32m'\u001b[0m: \u001b[1;35mnp.float64\u001b[0m\u001b[1m(\u001b[0m\u001b[1;36m-0.101\u001b[0m\u001b[1m)\u001b[0m,\n",
       "    \u001b[32m'\u001b[0m\u001b[32mstreamingmovies\u001b[0m\u001b[32m=\u001b[0m\u001b[32mno_internet_service\u001b[0m\u001b[32m'\u001b[0m: \u001b[1;35mnp.float64\u001b[0m\u001b[1m(\u001b[0m\u001b[1;36m-0.103\u001b[0m\u001b[1m)\u001b[0m,\n",
       "    \u001b[32m'\u001b[0m\u001b[32mstreamingmovies\u001b[0m\u001b[32m=\u001b[0m\u001b[32myes\u001b[0m\u001b[32m'\u001b[0m: \u001b[1;35mnp.float64\u001b[0m\u001b[1m(\u001b[0m\u001b[1;36m0.082\u001b[0m\u001b[1m)\u001b[0m,\n",
       "    \u001b[32m'\u001b[0m\u001b[32mstreamingtv\u001b[0m\u001b[32m=\u001b[0m\u001b[32mno\u001b[0m\u001b[32m'\u001b[0m: \u001b[1;35mnp.float64\u001b[0m\u001b[1m(\u001b[0m\u001b[1;36m-0.064\u001b[0m\u001b[1m)\u001b[0m,\n",
       "    \u001b[32m'\u001b[0m\u001b[32mstreamingtv\u001b[0m\u001b[32m=\u001b[0m\u001b[32mno_internet_service\u001b[0m\u001b[32m'\u001b[0m: \u001b[1;35mnp.float64\u001b[0m\u001b[1m(\u001b[0m\u001b[1;36m-0.103\u001b[0m\u001b[1m)\u001b[0m,\n",
       "    \u001b[32m'\u001b[0m\u001b[32mstreamingtv\u001b[0m\u001b[32m=\u001b[0m\u001b[32myes\u001b[0m\u001b[32m'\u001b[0m: \u001b[1;35mnp.float64\u001b[0m\u001b[1m(\u001b[0m\u001b[1;36m0.045\u001b[0m\u001b[1m)\u001b[0m,\n",
       "    \u001b[32m'\u001b[0m\u001b[32mtechsupport\u001b[0m\u001b[32m=\u001b[0m\u001b[32mno\u001b[0m\u001b[32m'\u001b[0m: \u001b[1;35mnp.float64\u001b[0m\u001b[1m(\u001b[0m\u001b[1;36m0.17\u001b[0m\u001b[1m)\u001b[0m,\n",
       "    \u001b[32m'\u001b[0m\u001b[32mtechsupport\u001b[0m\u001b[32m=\u001b[0m\u001b[32mno_internet_service\u001b[0m\u001b[32m'\u001b[0m: \u001b[1;35mnp.float64\u001b[0m\u001b[1m(\u001b[0m\u001b[1;36m-0.103\u001b[0m\u001b[1m)\u001b[0m,\n",
       "    \u001b[32m'\u001b[0m\u001b[32mtechsupport\u001b[0m\u001b[32m=\u001b[0m\u001b[32myes\u001b[0m\u001b[32m'\u001b[0m: \u001b[1;35mnp.float64\u001b[0m\u001b[1m(\u001b[0m\u001b[1;36m-0.189\u001b[0m\u001b[1m)\u001b[0m,\n",
       "    \u001b[32m'tenure'\u001b[0m: \u001b[1;35mnp.float64\u001b[0m\u001b[1m(\u001b[0m\u001b[1;36m-0.067\u001b[0m\u001b[1m)\u001b[0m,\n",
       "    \u001b[32m'totalcharges'\u001b[0m: \u001b[1;35mnp.float64\u001b[0m\u001b[1m(\u001b[0m\u001b[1;36m0.0\u001b[0m\u001b[1m)\u001b[0m\n",
       "\u001b[1m}\u001b[0m"
      ]
     },
     "execution_count": 64,
     "metadata": {},
     "output_type": "execute_result"
    }
   ],
   "source": [
    "dict(zip(dv.get_feature_names_out(), model.coef_[0].round(3)))"
   ]
  },
  {
   "cell_type": "code",
   "execution_count": 65,
   "id": "47b96d4c",
   "metadata": {},
   "outputs": [
    {
     "data": {
      "text/html": [
       "<pre style=\"white-space:pre;overflow-x:auto;line-height:normal;font-family:Menlo,'DejaVu Sans Mono',consolas,'Courier New',monospace\"></pre>\n"
      ],
      "text/plain": []
     },
     "metadata": {},
     "output_type": "display_data"
    },
    {
     "data": {
      "text/plain": [
       "\n",
       "\u001b[1m[\u001b[0m\n",
       "    \u001b[1m{\u001b[0m\u001b[32m'contract'\u001b[0m: \u001b[32m'two_year'\u001b[0m, \u001b[32m'tenure'\u001b[0m: \u001b[1;36m72\u001b[0m, \u001b[32m'monthlycharges'\u001b[0m: \u001b[1;36m115.5\u001b[0m\u001b[1m}\u001b[0m,\n",
       "    \u001b[1m{\u001b[0m\u001b[32m'contract'\u001b[0m: \u001b[32m'month-to-month'\u001b[0m, \u001b[32m'tenure'\u001b[0m: \u001b[1;36m10\u001b[0m, \u001b[32m'monthlycharges'\u001b[0m: \u001b[1;36m95.25\u001b[0m\u001b[1m}\u001b[0m,\n",
       "    \u001b[1m{\u001b[0m\u001b[32m'contract'\u001b[0m: \u001b[32m'month-to-month'\u001b[0m, \u001b[32m'tenure'\u001b[0m: \u001b[1;36m5\u001b[0m, \u001b[32m'monthlycharges'\u001b[0m: \u001b[1;36m75.55\u001b[0m\u001b[1m}\u001b[0m,\n",
       "    \u001b[1m{\u001b[0m\u001b[32m'contract'\u001b[0m: \u001b[32m'month-to-month'\u001b[0m, \u001b[32m'tenure'\u001b[0m: \u001b[1;36m5\u001b[0m, \u001b[32m'monthlycharges'\u001b[0m: \u001b[1;36m80.85\u001b[0m\u001b[1m}\u001b[0m,\n",
       "    \u001b[1m{\u001b[0m\u001b[32m'contract'\u001b[0m: \u001b[32m'two_year'\u001b[0m, \u001b[32m'tenure'\u001b[0m: \u001b[1;36m18\u001b[0m, \u001b[32m'monthlycharges'\u001b[0m: \u001b[1;36m20.1\u001b[0m\u001b[1m}\u001b[0m,\n",
       "    \u001b[1m{\u001b[0m\u001b[32m'contract'\u001b[0m: \u001b[32m'month-to-month'\u001b[0m, \u001b[32m'tenure'\u001b[0m: \u001b[1;36m4\u001b[0m, \u001b[32m'monthlycharges'\u001b[0m: \u001b[1;36m30.5\u001b[0m\u001b[1m}\u001b[0m,\n",
       "    \u001b[1m{\u001b[0m\u001b[32m'contract'\u001b[0m: \u001b[32m'month-to-month'\u001b[0m, \u001b[32m'tenure'\u001b[0m: \u001b[1;36m1\u001b[0m, \u001b[32m'monthlycharges'\u001b[0m: \u001b[1;36m75.1\u001b[0m\u001b[1m}\u001b[0m,\n",
       "    \u001b[1m{\u001b[0m\u001b[32m'contract'\u001b[0m: \u001b[32m'month-to-month'\u001b[0m, \u001b[32m'tenure'\u001b[0m: \u001b[1;36m1\u001b[0m, \u001b[32m'monthlycharges'\u001b[0m: \u001b[1;36m70.3\u001b[0m\u001b[1m}\u001b[0m,\n",
       "    \u001b[1m{\u001b[0m\u001b[32m'contract'\u001b[0m: \u001b[32m'two_year'\u001b[0m, \u001b[32m'tenure'\u001b[0m: \u001b[1;36m72\u001b[0m, \u001b[32m'monthlycharges'\u001b[0m: \u001b[1;36m19.75\u001b[0m\u001b[1m}\u001b[0m,\n",
       "    \u001b[1m{\u001b[0m\u001b[32m'contract'\u001b[0m: \u001b[32m'month-to-month'\u001b[0m, \u001b[32m'tenure'\u001b[0m: \u001b[1;36m6\u001b[0m, \u001b[32m'monthlycharges'\u001b[0m: \u001b[1;36m109.9\u001b[0m\u001b[1m}\u001b[0m\n",
       "\u001b[1m]\u001b[0m"
      ]
     },
     "execution_count": 65,
     "metadata": {},
     "output_type": "execute_result"
    }
   ],
   "source": [
    "subset = [\"contract\", \"tenure\", \"monthlycharges\"]\n",
    "df_train[subset].iloc[:10].to_dict(orient=\"records\")"
   ]
  },
  {
   "cell_type": "code",
   "execution_count": 66,
   "id": "c4aab521",
   "metadata": {},
   "outputs": [],
   "source": [
    "dicts_train_small = df_train[subset].to_dict(orient=\"records\")\n",
    "dicts_val_small = df_val[subset].to_dict(orient=\"records\")"
   ]
  },
  {
   "cell_type": "code",
   "execution_count": 67,
   "id": "8f1e2c21",
   "metadata": {},
   "outputs": [
    {
     "data": {
      "text/html": [
       "<style>#sk-container-id-2 {\n",
       "  /* Definition of color scheme common for light and dark mode */\n",
       "  --sklearn-color-text: black;\n",
       "  --sklearn-color-line: gray;\n",
       "  /* Definition of color scheme for unfitted estimators */\n",
       "  --sklearn-color-unfitted-level-0: #fff5e6;\n",
       "  --sklearn-color-unfitted-level-1: #f6e4d2;\n",
       "  --sklearn-color-unfitted-level-2: #ffe0b3;\n",
       "  --sklearn-color-unfitted-level-3: chocolate;\n",
       "  /* Definition of color scheme for fitted estimators */\n",
       "  --sklearn-color-fitted-level-0: #f0f8ff;\n",
       "  --sklearn-color-fitted-level-1: #d4ebff;\n",
       "  --sklearn-color-fitted-level-2: #b3dbfd;\n",
       "  --sklearn-color-fitted-level-3: cornflowerblue;\n",
       "\n",
       "  /* Specific color for light theme */\n",
       "  --sklearn-color-text-on-default-background: var(--sg-text-color, var(--theme-code-foreground, var(--jp-content-font-color1, black)));\n",
       "  --sklearn-color-background: var(--sg-background-color, var(--theme-background, var(--jp-layout-color0, white)));\n",
       "  --sklearn-color-border-box: var(--sg-text-color, var(--theme-code-foreground, var(--jp-content-font-color1, black)));\n",
       "  --sklearn-color-icon: #696969;\n",
       "\n",
       "  @media (prefers-color-scheme: dark) {\n",
       "    /* Redefinition of color scheme for dark theme */\n",
       "    --sklearn-color-text-on-default-background: var(--sg-text-color, var(--theme-code-foreground, var(--jp-content-font-color1, white)));\n",
       "    --sklearn-color-background: var(--sg-background-color, var(--theme-background, var(--jp-layout-color0, #111)));\n",
       "    --sklearn-color-border-box: var(--sg-text-color, var(--theme-code-foreground, var(--jp-content-font-color1, white)));\n",
       "    --sklearn-color-icon: #878787;\n",
       "  }\n",
       "}\n",
       "\n",
       "#sk-container-id-2 {\n",
       "  color: var(--sklearn-color-text);\n",
       "}\n",
       "\n",
       "#sk-container-id-2 pre {\n",
       "  padding: 0;\n",
       "}\n",
       "\n",
       "#sk-container-id-2 input.sk-hidden--visually {\n",
       "  border: 0;\n",
       "  clip: rect(1px 1px 1px 1px);\n",
       "  clip: rect(1px, 1px, 1px, 1px);\n",
       "  height: 1px;\n",
       "  margin: -1px;\n",
       "  overflow: hidden;\n",
       "  padding: 0;\n",
       "  position: absolute;\n",
       "  width: 1px;\n",
       "}\n",
       "\n",
       "#sk-container-id-2 div.sk-dashed-wrapped {\n",
       "  border: 1px dashed var(--sklearn-color-line);\n",
       "  margin: 0 0.4em 0.5em 0.4em;\n",
       "  box-sizing: border-box;\n",
       "  padding-bottom: 0.4em;\n",
       "  background-color: var(--sklearn-color-background);\n",
       "}\n",
       "\n",
       "#sk-container-id-2 div.sk-container {\n",
       "  /* jupyter's `normalize.less` sets `[hidden] { display: none; }`\n",
       "     but bootstrap.min.css set `[hidden] { display: none !important; }`\n",
       "     so we also need the `!important` here to be able to override the\n",
       "     default hidden behavior on the sphinx rendered scikit-learn.org.\n",
       "     See: https://github.com/scikit-learn/scikit-learn/issues/21755 */\n",
       "  display: inline-block !important;\n",
       "  position: relative;\n",
       "}\n",
       "\n",
       "#sk-container-id-2 div.sk-text-repr-fallback {\n",
       "  display: none;\n",
       "}\n",
       "\n",
       "div.sk-parallel-item,\n",
       "div.sk-serial,\n",
       "div.sk-item {\n",
       "  /* draw centered vertical line to link estimators */\n",
       "  background-image: linear-gradient(var(--sklearn-color-text-on-default-background), var(--sklearn-color-text-on-default-background));\n",
       "  background-size: 2px 100%;\n",
       "  background-repeat: no-repeat;\n",
       "  background-position: center center;\n",
       "}\n",
       "\n",
       "/* Parallel-specific style estimator block */\n",
       "\n",
       "#sk-container-id-2 div.sk-parallel-item::after {\n",
       "  content: \"\";\n",
       "  width: 100%;\n",
       "  border-bottom: 2px solid var(--sklearn-color-text-on-default-background);\n",
       "  flex-grow: 1;\n",
       "}\n",
       "\n",
       "#sk-container-id-2 div.sk-parallel {\n",
       "  display: flex;\n",
       "  align-items: stretch;\n",
       "  justify-content: center;\n",
       "  background-color: var(--sklearn-color-background);\n",
       "  position: relative;\n",
       "}\n",
       "\n",
       "#sk-container-id-2 div.sk-parallel-item {\n",
       "  display: flex;\n",
       "  flex-direction: column;\n",
       "}\n",
       "\n",
       "#sk-container-id-2 div.sk-parallel-item:first-child::after {\n",
       "  align-self: flex-end;\n",
       "  width: 50%;\n",
       "}\n",
       "\n",
       "#sk-container-id-2 div.sk-parallel-item:last-child::after {\n",
       "  align-self: flex-start;\n",
       "  width: 50%;\n",
       "}\n",
       "\n",
       "#sk-container-id-2 div.sk-parallel-item:only-child::after {\n",
       "  width: 0;\n",
       "}\n",
       "\n",
       "/* Serial-specific style estimator block */\n",
       "\n",
       "#sk-container-id-2 div.sk-serial {\n",
       "  display: flex;\n",
       "  flex-direction: column;\n",
       "  align-items: center;\n",
       "  background-color: var(--sklearn-color-background);\n",
       "  padding-right: 1em;\n",
       "  padding-left: 1em;\n",
       "}\n",
       "\n",
       "\n",
       "/* Toggleable style: style used for estimator/Pipeline/ColumnTransformer box that is\n",
       "clickable and can be expanded/collapsed.\n",
       "- Pipeline and ColumnTransformer use this feature and define the default style\n",
       "- Estimators will overwrite some part of the style using the `sk-estimator` class\n",
       "*/\n",
       "\n",
       "/* Pipeline and ColumnTransformer style (default) */\n",
       "\n",
       "#sk-container-id-2 div.sk-toggleable {\n",
       "  /* Default theme specific background. It is overwritten whether we have a\n",
       "  specific estimator or a Pipeline/ColumnTransformer */\n",
       "  background-color: var(--sklearn-color-background);\n",
       "}\n",
       "\n",
       "/* Toggleable label */\n",
       "#sk-container-id-2 label.sk-toggleable__label {\n",
       "  cursor: pointer;\n",
       "  display: block;\n",
       "  width: 100%;\n",
       "  margin-bottom: 0;\n",
       "  padding: 0.5em;\n",
       "  box-sizing: border-box;\n",
       "  text-align: center;\n",
       "}\n",
       "\n",
       "#sk-container-id-2 label.sk-toggleable__label-arrow:before {\n",
       "  /* Arrow on the left of the label */\n",
       "  content: \"▸\";\n",
       "  float: left;\n",
       "  margin-right: 0.25em;\n",
       "  color: var(--sklearn-color-icon);\n",
       "}\n",
       "\n",
       "#sk-container-id-2 label.sk-toggleable__label-arrow:hover:before {\n",
       "  color: var(--sklearn-color-text);\n",
       "}\n",
       "\n",
       "/* Toggleable content - dropdown */\n",
       "\n",
       "#sk-container-id-2 div.sk-toggleable__content {\n",
       "  max-height: 0;\n",
       "  max-width: 0;\n",
       "  overflow: hidden;\n",
       "  text-align: left;\n",
       "  /* unfitted */\n",
       "  background-color: var(--sklearn-color-unfitted-level-0);\n",
       "}\n",
       "\n",
       "#sk-container-id-2 div.sk-toggleable__content.fitted {\n",
       "  /* fitted */\n",
       "  background-color: var(--sklearn-color-fitted-level-0);\n",
       "}\n",
       "\n",
       "#sk-container-id-2 div.sk-toggleable__content pre {\n",
       "  margin: 0.2em;\n",
       "  border-radius: 0.25em;\n",
       "  color: var(--sklearn-color-text);\n",
       "  /* unfitted */\n",
       "  background-color: var(--sklearn-color-unfitted-level-0);\n",
       "}\n",
       "\n",
       "#sk-container-id-2 div.sk-toggleable__content.fitted pre {\n",
       "  /* unfitted */\n",
       "  background-color: var(--sklearn-color-fitted-level-0);\n",
       "}\n",
       "\n",
       "#sk-container-id-2 input.sk-toggleable__control:checked~div.sk-toggleable__content {\n",
       "  /* Expand drop-down */\n",
       "  max-height: 200px;\n",
       "  max-width: 100%;\n",
       "  overflow: auto;\n",
       "}\n",
       "\n",
       "#sk-container-id-2 input.sk-toggleable__control:checked~label.sk-toggleable__label-arrow:before {\n",
       "  content: \"▾\";\n",
       "}\n",
       "\n",
       "/* Pipeline/ColumnTransformer-specific style */\n",
       "\n",
       "#sk-container-id-2 div.sk-label input.sk-toggleable__control:checked~label.sk-toggleable__label {\n",
       "  color: var(--sklearn-color-text);\n",
       "  background-color: var(--sklearn-color-unfitted-level-2);\n",
       "}\n",
       "\n",
       "#sk-container-id-2 div.sk-label.fitted input.sk-toggleable__control:checked~label.sk-toggleable__label {\n",
       "  background-color: var(--sklearn-color-fitted-level-2);\n",
       "}\n",
       "\n",
       "/* Estimator-specific style */\n",
       "\n",
       "/* Colorize estimator box */\n",
       "#sk-container-id-2 div.sk-estimator input.sk-toggleable__control:checked~label.sk-toggleable__label {\n",
       "  /* unfitted */\n",
       "  background-color: var(--sklearn-color-unfitted-level-2);\n",
       "}\n",
       "\n",
       "#sk-container-id-2 div.sk-estimator.fitted input.sk-toggleable__control:checked~label.sk-toggleable__label {\n",
       "  /* fitted */\n",
       "  background-color: var(--sklearn-color-fitted-level-2);\n",
       "}\n",
       "\n",
       "#sk-container-id-2 div.sk-label label.sk-toggleable__label,\n",
       "#sk-container-id-2 div.sk-label label {\n",
       "  /* The background is the default theme color */\n",
       "  color: var(--sklearn-color-text-on-default-background);\n",
       "}\n",
       "\n",
       "/* On hover, darken the color of the background */\n",
       "#sk-container-id-2 div.sk-label:hover label.sk-toggleable__label {\n",
       "  color: var(--sklearn-color-text);\n",
       "  background-color: var(--sklearn-color-unfitted-level-2);\n",
       "}\n",
       "\n",
       "/* Label box, darken color on hover, fitted */\n",
       "#sk-container-id-2 div.sk-label.fitted:hover label.sk-toggleable__label.fitted {\n",
       "  color: var(--sklearn-color-text);\n",
       "  background-color: var(--sklearn-color-fitted-level-2);\n",
       "}\n",
       "\n",
       "/* Estimator label */\n",
       "\n",
       "#sk-container-id-2 div.sk-label label {\n",
       "  font-family: monospace;\n",
       "  font-weight: bold;\n",
       "  display: inline-block;\n",
       "  line-height: 1.2em;\n",
       "}\n",
       "\n",
       "#sk-container-id-2 div.sk-label-container {\n",
       "  text-align: center;\n",
       "}\n",
       "\n",
       "/* Estimator-specific */\n",
       "#sk-container-id-2 div.sk-estimator {\n",
       "  font-family: monospace;\n",
       "  border: 1px dotted var(--sklearn-color-border-box);\n",
       "  border-radius: 0.25em;\n",
       "  box-sizing: border-box;\n",
       "  margin-bottom: 0.5em;\n",
       "  /* unfitted */\n",
       "  background-color: var(--sklearn-color-unfitted-level-0);\n",
       "}\n",
       "\n",
       "#sk-container-id-2 div.sk-estimator.fitted {\n",
       "  /* fitted */\n",
       "  background-color: var(--sklearn-color-fitted-level-0);\n",
       "}\n",
       "\n",
       "/* on hover */\n",
       "#sk-container-id-2 div.sk-estimator:hover {\n",
       "  /* unfitted */\n",
       "  background-color: var(--sklearn-color-unfitted-level-2);\n",
       "}\n",
       "\n",
       "#sk-container-id-2 div.sk-estimator.fitted:hover {\n",
       "  /* fitted */\n",
       "  background-color: var(--sklearn-color-fitted-level-2);\n",
       "}\n",
       "\n",
       "/* Specification for estimator info (e.g. \"i\" and \"?\") */\n",
       "\n",
       "/* Common style for \"i\" and \"?\" */\n",
       "\n",
       ".sk-estimator-doc-link,\n",
       "a:link.sk-estimator-doc-link,\n",
       "a:visited.sk-estimator-doc-link {\n",
       "  float: right;\n",
       "  font-size: smaller;\n",
       "  line-height: 1em;\n",
       "  font-family: monospace;\n",
       "  background-color: var(--sklearn-color-background);\n",
       "  border-radius: 1em;\n",
       "  height: 1em;\n",
       "  width: 1em;\n",
       "  text-decoration: none !important;\n",
       "  margin-left: 1ex;\n",
       "  /* unfitted */\n",
       "  border: var(--sklearn-color-unfitted-level-1) 1pt solid;\n",
       "  color: var(--sklearn-color-unfitted-level-1);\n",
       "}\n",
       "\n",
       ".sk-estimator-doc-link.fitted,\n",
       "a:link.sk-estimator-doc-link.fitted,\n",
       "a:visited.sk-estimator-doc-link.fitted {\n",
       "  /* fitted */\n",
       "  border: var(--sklearn-color-fitted-level-1) 1pt solid;\n",
       "  color: var(--sklearn-color-fitted-level-1);\n",
       "}\n",
       "\n",
       "/* On hover */\n",
       "div.sk-estimator:hover .sk-estimator-doc-link:hover,\n",
       ".sk-estimator-doc-link:hover,\n",
       "div.sk-label-container:hover .sk-estimator-doc-link:hover,\n",
       ".sk-estimator-doc-link:hover {\n",
       "  /* unfitted */\n",
       "  background-color: var(--sklearn-color-unfitted-level-3);\n",
       "  color: var(--sklearn-color-background);\n",
       "  text-decoration: none;\n",
       "}\n",
       "\n",
       "div.sk-estimator.fitted:hover .sk-estimator-doc-link.fitted:hover,\n",
       ".sk-estimator-doc-link.fitted:hover,\n",
       "div.sk-label-container:hover .sk-estimator-doc-link.fitted:hover,\n",
       ".sk-estimator-doc-link.fitted:hover {\n",
       "  /* fitted */\n",
       "  background-color: var(--sklearn-color-fitted-level-3);\n",
       "  color: var(--sklearn-color-background);\n",
       "  text-decoration: none;\n",
       "}\n",
       "\n",
       "/* Span, style for the box shown on hovering the info icon */\n",
       ".sk-estimator-doc-link span {\n",
       "  display: none;\n",
       "  z-index: 9999;\n",
       "  position: relative;\n",
       "  font-weight: normal;\n",
       "  right: .2ex;\n",
       "  padding: .5ex;\n",
       "  margin: .5ex;\n",
       "  width: min-content;\n",
       "  min-width: 20ex;\n",
       "  max-width: 50ex;\n",
       "  color: var(--sklearn-color-text);\n",
       "  box-shadow: 2pt 2pt 4pt #999;\n",
       "  /* unfitted */\n",
       "  background: var(--sklearn-color-unfitted-level-0);\n",
       "  border: .5pt solid var(--sklearn-color-unfitted-level-3);\n",
       "}\n",
       "\n",
       ".sk-estimator-doc-link.fitted span {\n",
       "  /* fitted */\n",
       "  background: var(--sklearn-color-fitted-level-0);\n",
       "  border: var(--sklearn-color-fitted-level-3);\n",
       "}\n",
       "\n",
       ".sk-estimator-doc-link:hover span {\n",
       "  display: block;\n",
       "}\n",
       "\n",
       "/* \"?\"-specific style due to the `<a>` HTML tag */\n",
       "\n",
       "#sk-container-id-2 a.estimator_doc_link {\n",
       "  float: right;\n",
       "  font-size: 1rem;\n",
       "  line-height: 1em;\n",
       "  font-family: monospace;\n",
       "  background-color: var(--sklearn-color-background);\n",
       "  border-radius: 1rem;\n",
       "  height: 1rem;\n",
       "  width: 1rem;\n",
       "  text-decoration: none;\n",
       "  /* unfitted */\n",
       "  color: var(--sklearn-color-unfitted-level-1);\n",
       "  border: var(--sklearn-color-unfitted-level-1) 1pt solid;\n",
       "}\n",
       "\n",
       "#sk-container-id-2 a.estimator_doc_link.fitted {\n",
       "  /* fitted */\n",
       "  border: var(--sklearn-color-fitted-level-1) 1pt solid;\n",
       "  color: var(--sklearn-color-fitted-level-1);\n",
       "}\n",
       "\n",
       "/* On hover */\n",
       "#sk-container-id-2 a.estimator_doc_link:hover {\n",
       "  /* unfitted */\n",
       "  background-color: var(--sklearn-color-unfitted-level-3);\n",
       "  color: var(--sklearn-color-background);\n",
       "  text-decoration: none;\n",
       "}\n",
       "\n",
       "#sk-container-id-2 a.estimator_doc_link.fitted:hover {\n",
       "  /* fitted */\n",
       "  background-color: var(--sklearn-color-fitted-level-3);\n",
       "}\n",
       "</style><div id=\"sk-container-id-2\" class=\"sk-top-container\"><div class=\"sk-text-repr-fallback\"><pre>DictVectorizer(sparse=False)</pre><b>In a Jupyter environment, please rerun this cell to show the HTML representation or trust the notebook. <br />On GitHub, the HTML representation is unable to render, please try loading this page with nbviewer.org.</b></div><div class=\"sk-container\" hidden><div class=\"sk-item\"><div class=\"sk-estimator fitted sk-toggleable\"><input class=\"sk-toggleable__control sk-hidden--visually\" id=\"sk-estimator-id-2\" type=\"checkbox\" checked><label for=\"sk-estimator-id-2\" class=\"sk-toggleable__label fitted sk-toggleable__label-arrow fitted\">&nbsp;&nbsp;DictVectorizer<a class=\"sk-estimator-doc-link fitted\" rel=\"noreferrer\" target=\"_blank\" href=\"https://scikit-learn.org/1.5/modules/generated/sklearn.feature_extraction.DictVectorizer.html\">?<span>Documentation for DictVectorizer</span></a><span class=\"sk-estimator-doc-link fitted\">i<span>Fitted</span></span></label><div class=\"sk-toggleable__content fitted\"><pre>DictVectorizer(sparse=False)</pre></div> </div></div></div></div>"
      ],
      "text/plain": [
       "DictVectorizer(sparse=False)"
      ]
     },
     "execution_count": 67,
     "metadata": {},
     "output_type": "execute_result"
    }
   ],
   "source": [
    "dv_small = DictVectorizer(sparse=False)\n",
    "dv_small.fit(dicts_train_small)"
   ]
  },
  {
   "cell_type": "code",
   "execution_count": 68,
   "id": "6eb1e253",
   "metadata": {},
   "outputs": [
    {
     "data": {
      "text/html": [
       "<pre style=\"white-space:pre;overflow-x:auto;line-height:normal;font-family:Menlo,'DejaVu Sans Mono',consolas,'Courier New',monospace\"></pre>\n"
      ],
      "text/plain": []
     },
     "metadata": {},
     "output_type": "display_data"
    },
    {
     "data": {
      "text/plain": [
       "\n",
       "\u001b[1;35marray\u001b[0m\u001b[1m(\u001b[0m\u001b[1m[\u001b[0m\u001b[32m'\u001b[0m\u001b[32mcontract\u001b[0m\u001b[32m=\u001b[0m\u001b[32mmonth\u001b[0m\u001b[32m-to-month'\u001b[0m, \u001b[32m'\u001b[0m\u001b[32mcontract\u001b[0m\u001b[32m=\u001b[0m\u001b[32mone_year\u001b[0m\u001b[32m'\u001b[0m,\n",
       "       \u001b[32m'\u001b[0m\u001b[32mcontract\u001b[0m\u001b[32m=\u001b[0m\u001b[32mtwo_year\u001b[0m\u001b[32m'\u001b[0m, \u001b[32m'monthlycharges'\u001b[0m, \u001b[32m'tenure'\u001b[0m\u001b[1m]\u001b[0m, \u001b[33mdtype\u001b[0m=\u001b[35mobject\u001b[0m\u001b[1m)\u001b[0m"
      ]
     },
     "execution_count": 68,
     "metadata": {},
     "output_type": "execute_result"
    }
   ],
   "source": [
    "dv_small.get_feature_names_out()"
   ]
  },
  {
   "cell_type": "code",
   "execution_count": 69,
   "id": "e42566f7",
   "metadata": {},
   "outputs": [],
   "source": [
    "X_train_small = dv_small.transform(dicts_train_small)"
   ]
  },
  {
   "cell_type": "code",
   "execution_count": 70,
   "id": "623794a7",
   "metadata": {},
   "outputs": [
    {
     "data": {
      "text/html": [
       "<style>#sk-container-id-3 {\n",
       "  /* Definition of color scheme common for light and dark mode */\n",
       "  --sklearn-color-text: black;\n",
       "  --sklearn-color-line: gray;\n",
       "  /* Definition of color scheme for unfitted estimators */\n",
       "  --sklearn-color-unfitted-level-0: #fff5e6;\n",
       "  --sklearn-color-unfitted-level-1: #f6e4d2;\n",
       "  --sklearn-color-unfitted-level-2: #ffe0b3;\n",
       "  --sklearn-color-unfitted-level-3: chocolate;\n",
       "  /* Definition of color scheme for fitted estimators */\n",
       "  --sklearn-color-fitted-level-0: #f0f8ff;\n",
       "  --sklearn-color-fitted-level-1: #d4ebff;\n",
       "  --sklearn-color-fitted-level-2: #b3dbfd;\n",
       "  --sklearn-color-fitted-level-3: cornflowerblue;\n",
       "\n",
       "  /* Specific color for light theme */\n",
       "  --sklearn-color-text-on-default-background: var(--sg-text-color, var(--theme-code-foreground, var(--jp-content-font-color1, black)));\n",
       "  --sklearn-color-background: var(--sg-background-color, var(--theme-background, var(--jp-layout-color0, white)));\n",
       "  --sklearn-color-border-box: var(--sg-text-color, var(--theme-code-foreground, var(--jp-content-font-color1, black)));\n",
       "  --sklearn-color-icon: #696969;\n",
       "\n",
       "  @media (prefers-color-scheme: dark) {\n",
       "    /* Redefinition of color scheme for dark theme */\n",
       "    --sklearn-color-text-on-default-background: var(--sg-text-color, var(--theme-code-foreground, var(--jp-content-font-color1, white)));\n",
       "    --sklearn-color-background: var(--sg-background-color, var(--theme-background, var(--jp-layout-color0, #111)));\n",
       "    --sklearn-color-border-box: var(--sg-text-color, var(--theme-code-foreground, var(--jp-content-font-color1, white)));\n",
       "    --sklearn-color-icon: #878787;\n",
       "  }\n",
       "}\n",
       "\n",
       "#sk-container-id-3 {\n",
       "  color: var(--sklearn-color-text);\n",
       "}\n",
       "\n",
       "#sk-container-id-3 pre {\n",
       "  padding: 0;\n",
       "}\n",
       "\n",
       "#sk-container-id-3 input.sk-hidden--visually {\n",
       "  border: 0;\n",
       "  clip: rect(1px 1px 1px 1px);\n",
       "  clip: rect(1px, 1px, 1px, 1px);\n",
       "  height: 1px;\n",
       "  margin: -1px;\n",
       "  overflow: hidden;\n",
       "  padding: 0;\n",
       "  position: absolute;\n",
       "  width: 1px;\n",
       "}\n",
       "\n",
       "#sk-container-id-3 div.sk-dashed-wrapped {\n",
       "  border: 1px dashed var(--sklearn-color-line);\n",
       "  margin: 0 0.4em 0.5em 0.4em;\n",
       "  box-sizing: border-box;\n",
       "  padding-bottom: 0.4em;\n",
       "  background-color: var(--sklearn-color-background);\n",
       "}\n",
       "\n",
       "#sk-container-id-3 div.sk-container {\n",
       "  /* jupyter's `normalize.less` sets `[hidden] { display: none; }`\n",
       "     but bootstrap.min.css set `[hidden] { display: none !important; }`\n",
       "     so we also need the `!important` here to be able to override the\n",
       "     default hidden behavior on the sphinx rendered scikit-learn.org.\n",
       "     See: https://github.com/scikit-learn/scikit-learn/issues/21755 */\n",
       "  display: inline-block !important;\n",
       "  position: relative;\n",
       "}\n",
       "\n",
       "#sk-container-id-3 div.sk-text-repr-fallback {\n",
       "  display: none;\n",
       "}\n",
       "\n",
       "div.sk-parallel-item,\n",
       "div.sk-serial,\n",
       "div.sk-item {\n",
       "  /* draw centered vertical line to link estimators */\n",
       "  background-image: linear-gradient(var(--sklearn-color-text-on-default-background), var(--sklearn-color-text-on-default-background));\n",
       "  background-size: 2px 100%;\n",
       "  background-repeat: no-repeat;\n",
       "  background-position: center center;\n",
       "}\n",
       "\n",
       "/* Parallel-specific style estimator block */\n",
       "\n",
       "#sk-container-id-3 div.sk-parallel-item::after {\n",
       "  content: \"\";\n",
       "  width: 100%;\n",
       "  border-bottom: 2px solid var(--sklearn-color-text-on-default-background);\n",
       "  flex-grow: 1;\n",
       "}\n",
       "\n",
       "#sk-container-id-3 div.sk-parallel {\n",
       "  display: flex;\n",
       "  align-items: stretch;\n",
       "  justify-content: center;\n",
       "  background-color: var(--sklearn-color-background);\n",
       "  position: relative;\n",
       "}\n",
       "\n",
       "#sk-container-id-3 div.sk-parallel-item {\n",
       "  display: flex;\n",
       "  flex-direction: column;\n",
       "}\n",
       "\n",
       "#sk-container-id-3 div.sk-parallel-item:first-child::after {\n",
       "  align-self: flex-end;\n",
       "  width: 50%;\n",
       "}\n",
       "\n",
       "#sk-container-id-3 div.sk-parallel-item:last-child::after {\n",
       "  align-self: flex-start;\n",
       "  width: 50%;\n",
       "}\n",
       "\n",
       "#sk-container-id-3 div.sk-parallel-item:only-child::after {\n",
       "  width: 0;\n",
       "}\n",
       "\n",
       "/* Serial-specific style estimator block */\n",
       "\n",
       "#sk-container-id-3 div.sk-serial {\n",
       "  display: flex;\n",
       "  flex-direction: column;\n",
       "  align-items: center;\n",
       "  background-color: var(--sklearn-color-background);\n",
       "  padding-right: 1em;\n",
       "  padding-left: 1em;\n",
       "}\n",
       "\n",
       "\n",
       "/* Toggleable style: style used for estimator/Pipeline/ColumnTransformer box that is\n",
       "clickable and can be expanded/collapsed.\n",
       "- Pipeline and ColumnTransformer use this feature and define the default style\n",
       "- Estimators will overwrite some part of the style using the `sk-estimator` class\n",
       "*/\n",
       "\n",
       "/* Pipeline and ColumnTransformer style (default) */\n",
       "\n",
       "#sk-container-id-3 div.sk-toggleable {\n",
       "  /* Default theme specific background. It is overwritten whether we have a\n",
       "  specific estimator or a Pipeline/ColumnTransformer */\n",
       "  background-color: var(--sklearn-color-background);\n",
       "}\n",
       "\n",
       "/* Toggleable label */\n",
       "#sk-container-id-3 label.sk-toggleable__label {\n",
       "  cursor: pointer;\n",
       "  display: block;\n",
       "  width: 100%;\n",
       "  margin-bottom: 0;\n",
       "  padding: 0.5em;\n",
       "  box-sizing: border-box;\n",
       "  text-align: center;\n",
       "}\n",
       "\n",
       "#sk-container-id-3 label.sk-toggleable__label-arrow:before {\n",
       "  /* Arrow on the left of the label */\n",
       "  content: \"▸\";\n",
       "  float: left;\n",
       "  margin-right: 0.25em;\n",
       "  color: var(--sklearn-color-icon);\n",
       "}\n",
       "\n",
       "#sk-container-id-3 label.sk-toggleable__label-arrow:hover:before {\n",
       "  color: var(--sklearn-color-text);\n",
       "}\n",
       "\n",
       "/* Toggleable content - dropdown */\n",
       "\n",
       "#sk-container-id-3 div.sk-toggleable__content {\n",
       "  max-height: 0;\n",
       "  max-width: 0;\n",
       "  overflow: hidden;\n",
       "  text-align: left;\n",
       "  /* unfitted */\n",
       "  background-color: var(--sklearn-color-unfitted-level-0);\n",
       "}\n",
       "\n",
       "#sk-container-id-3 div.sk-toggleable__content.fitted {\n",
       "  /* fitted */\n",
       "  background-color: var(--sklearn-color-fitted-level-0);\n",
       "}\n",
       "\n",
       "#sk-container-id-3 div.sk-toggleable__content pre {\n",
       "  margin: 0.2em;\n",
       "  border-radius: 0.25em;\n",
       "  color: var(--sklearn-color-text);\n",
       "  /* unfitted */\n",
       "  background-color: var(--sklearn-color-unfitted-level-0);\n",
       "}\n",
       "\n",
       "#sk-container-id-3 div.sk-toggleable__content.fitted pre {\n",
       "  /* unfitted */\n",
       "  background-color: var(--sklearn-color-fitted-level-0);\n",
       "}\n",
       "\n",
       "#sk-container-id-3 input.sk-toggleable__control:checked~div.sk-toggleable__content {\n",
       "  /* Expand drop-down */\n",
       "  max-height: 200px;\n",
       "  max-width: 100%;\n",
       "  overflow: auto;\n",
       "}\n",
       "\n",
       "#sk-container-id-3 input.sk-toggleable__control:checked~label.sk-toggleable__label-arrow:before {\n",
       "  content: \"▾\";\n",
       "}\n",
       "\n",
       "/* Pipeline/ColumnTransformer-specific style */\n",
       "\n",
       "#sk-container-id-3 div.sk-label input.sk-toggleable__control:checked~label.sk-toggleable__label {\n",
       "  color: var(--sklearn-color-text);\n",
       "  background-color: var(--sklearn-color-unfitted-level-2);\n",
       "}\n",
       "\n",
       "#sk-container-id-3 div.sk-label.fitted input.sk-toggleable__control:checked~label.sk-toggleable__label {\n",
       "  background-color: var(--sklearn-color-fitted-level-2);\n",
       "}\n",
       "\n",
       "/* Estimator-specific style */\n",
       "\n",
       "/* Colorize estimator box */\n",
       "#sk-container-id-3 div.sk-estimator input.sk-toggleable__control:checked~label.sk-toggleable__label {\n",
       "  /* unfitted */\n",
       "  background-color: var(--sklearn-color-unfitted-level-2);\n",
       "}\n",
       "\n",
       "#sk-container-id-3 div.sk-estimator.fitted input.sk-toggleable__control:checked~label.sk-toggleable__label {\n",
       "  /* fitted */\n",
       "  background-color: var(--sklearn-color-fitted-level-2);\n",
       "}\n",
       "\n",
       "#sk-container-id-3 div.sk-label label.sk-toggleable__label,\n",
       "#sk-container-id-3 div.sk-label label {\n",
       "  /* The background is the default theme color */\n",
       "  color: var(--sklearn-color-text-on-default-background);\n",
       "}\n",
       "\n",
       "/* On hover, darken the color of the background */\n",
       "#sk-container-id-3 div.sk-label:hover label.sk-toggleable__label {\n",
       "  color: var(--sklearn-color-text);\n",
       "  background-color: var(--sklearn-color-unfitted-level-2);\n",
       "}\n",
       "\n",
       "/* Label box, darken color on hover, fitted */\n",
       "#sk-container-id-3 div.sk-label.fitted:hover label.sk-toggleable__label.fitted {\n",
       "  color: var(--sklearn-color-text);\n",
       "  background-color: var(--sklearn-color-fitted-level-2);\n",
       "}\n",
       "\n",
       "/* Estimator label */\n",
       "\n",
       "#sk-container-id-3 div.sk-label label {\n",
       "  font-family: monospace;\n",
       "  font-weight: bold;\n",
       "  display: inline-block;\n",
       "  line-height: 1.2em;\n",
       "}\n",
       "\n",
       "#sk-container-id-3 div.sk-label-container {\n",
       "  text-align: center;\n",
       "}\n",
       "\n",
       "/* Estimator-specific */\n",
       "#sk-container-id-3 div.sk-estimator {\n",
       "  font-family: monospace;\n",
       "  border: 1px dotted var(--sklearn-color-border-box);\n",
       "  border-radius: 0.25em;\n",
       "  box-sizing: border-box;\n",
       "  margin-bottom: 0.5em;\n",
       "  /* unfitted */\n",
       "  background-color: var(--sklearn-color-unfitted-level-0);\n",
       "}\n",
       "\n",
       "#sk-container-id-3 div.sk-estimator.fitted {\n",
       "  /* fitted */\n",
       "  background-color: var(--sklearn-color-fitted-level-0);\n",
       "}\n",
       "\n",
       "/* on hover */\n",
       "#sk-container-id-3 div.sk-estimator:hover {\n",
       "  /* unfitted */\n",
       "  background-color: var(--sklearn-color-unfitted-level-2);\n",
       "}\n",
       "\n",
       "#sk-container-id-3 div.sk-estimator.fitted:hover {\n",
       "  /* fitted */\n",
       "  background-color: var(--sklearn-color-fitted-level-2);\n",
       "}\n",
       "\n",
       "/* Specification for estimator info (e.g. \"i\" and \"?\") */\n",
       "\n",
       "/* Common style for \"i\" and \"?\" */\n",
       "\n",
       ".sk-estimator-doc-link,\n",
       "a:link.sk-estimator-doc-link,\n",
       "a:visited.sk-estimator-doc-link {\n",
       "  float: right;\n",
       "  font-size: smaller;\n",
       "  line-height: 1em;\n",
       "  font-family: monospace;\n",
       "  background-color: var(--sklearn-color-background);\n",
       "  border-radius: 1em;\n",
       "  height: 1em;\n",
       "  width: 1em;\n",
       "  text-decoration: none !important;\n",
       "  margin-left: 1ex;\n",
       "  /* unfitted */\n",
       "  border: var(--sklearn-color-unfitted-level-1) 1pt solid;\n",
       "  color: var(--sklearn-color-unfitted-level-1);\n",
       "}\n",
       "\n",
       ".sk-estimator-doc-link.fitted,\n",
       "a:link.sk-estimator-doc-link.fitted,\n",
       "a:visited.sk-estimator-doc-link.fitted {\n",
       "  /* fitted */\n",
       "  border: var(--sklearn-color-fitted-level-1) 1pt solid;\n",
       "  color: var(--sklearn-color-fitted-level-1);\n",
       "}\n",
       "\n",
       "/* On hover */\n",
       "div.sk-estimator:hover .sk-estimator-doc-link:hover,\n",
       ".sk-estimator-doc-link:hover,\n",
       "div.sk-label-container:hover .sk-estimator-doc-link:hover,\n",
       ".sk-estimator-doc-link:hover {\n",
       "  /* unfitted */\n",
       "  background-color: var(--sklearn-color-unfitted-level-3);\n",
       "  color: var(--sklearn-color-background);\n",
       "  text-decoration: none;\n",
       "}\n",
       "\n",
       "div.sk-estimator.fitted:hover .sk-estimator-doc-link.fitted:hover,\n",
       ".sk-estimator-doc-link.fitted:hover,\n",
       "div.sk-label-container:hover .sk-estimator-doc-link.fitted:hover,\n",
       ".sk-estimator-doc-link.fitted:hover {\n",
       "  /* fitted */\n",
       "  background-color: var(--sklearn-color-fitted-level-3);\n",
       "  color: var(--sklearn-color-background);\n",
       "  text-decoration: none;\n",
       "}\n",
       "\n",
       "/* Span, style for the box shown on hovering the info icon */\n",
       ".sk-estimator-doc-link span {\n",
       "  display: none;\n",
       "  z-index: 9999;\n",
       "  position: relative;\n",
       "  font-weight: normal;\n",
       "  right: .2ex;\n",
       "  padding: .5ex;\n",
       "  margin: .5ex;\n",
       "  width: min-content;\n",
       "  min-width: 20ex;\n",
       "  max-width: 50ex;\n",
       "  color: var(--sklearn-color-text);\n",
       "  box-shadow: 2pt 2pt 4pt #999;\n",
       "  /* unfitted */\n",
       "  background: var(--sklearn-color-unfitted-level-0);\n",
       "  border: .5pt solid var(--sklearn-color-unfitted-level-3);\n",
       "}\n",
       "\n",
       ".sk-estimator-doc-link.fitted span {\n",
       "  /* fitted */\n",
       "  background: var(--sklearn-color-fitted-level-0);\n",
       "  border: var(--sklearn-color-fitted-level-3);\n",
       "}\n",
       "\n",
       ".sk-estimator-doc-link:hover span {\n",
       "  display: block;\n",
       "}\n",
       "\n",
       "/* \"?\"-specific style due to the `<a>` HTML tag */\n",
       "\n",
       "#sk-container-id-3 a.estimator_doc_link {\n",
       "  float: right;\n",
       "  font-size: 1rem;\n",
       "  line-height: 1em;\n",
       "  font-family: monospace;\n",
       "  background-color: var(--sklearn-color-background);\n",
       "  border-radius: 1rem;\n",
       "  height: 1rem;\n",
       "  width: 1rem;\n",
       "  text-decoration: none;\n",
       "  /* unfitted */\n",
       "  color: var(--sklearn-color-unfitted-level-1);\n",
       "  border: var(--sklearn-color-unfitted-level-1) 1pt solid;\n",
       "}\n",
       "\n",
       "#sk-container-id-3 a.estimator_doc_link.fitted {\n",
       "  /* fitted */\n",
       "  border: var(--sklearn-color-fitted-level-1) 1pt solid;\n",
       "  color: var(--sklearn-color-fitted-level-1);\n",
       "}\n",
       "\n",
       "/* On hover */\n",
       "#sk-container-id-3 a.estimator_doc_link:hover {\n",
       "  /* unfitted */\n",
       "  background-color: var(--sklearn-color-unfitted-level-3);\n",
       "  color: var(--sklearn-color-background);\n",
       "  text-decoration: none;\n",
       "}\n",
       "\n",
       "#sk-container-id-3 a.estimator_doc_link.fitted:hover {\n",
       "  /* fitted */\n",
       "  background-color: var(--sklearn-color-fitted-level-3);\n",
       "}\n",
       "</style><div id=\"sk-container-id-3\" class=\"sk-top-container\"><div class=\"sk-text-repr-fallback\"><pre>LogisticRegression()</pre><b>In a Jupyter environment, please rerun this cell to show the HTML representation or trust the notebook. <br />On GitHub, the HTML representation is unable to render, please try loading this page with nbviewer.org.</b></div><div class=\"sk-container\" hidden><div class=\"sk-item\"><div class=\"sk-estimator fitted sk-toggleable\"><input class=\"sk-toggleable__control sk-hidden--visually\" id=\"sk-estimator-id-3\" type=\"checkbox\" checked><label for=\"sk-estimator-id-3\" class=\"sk-toggleable__label fitted sk-toggleable__label-arrow fitted\">&nbsp;&nbsp;LogisticRegression<a class=\"sk-estimator-doc-link fitted\" rel=\"noreferrer\" target=\"_blank\" href=\"https://scikit-learn.org/1.5/modules/generated/sklearn.linear_model.LogisticRegression.html\">?<span>Documentation for LogisticRegression</span></a><span class=\"sk-estimator-doc-link fitted\">i<span>Fitted</span></span></label><div class=\"sk-toggleable__content fitted\"><pre>LogisticRegression()</pre></div> </div></div></div></div>"
      ],
      "text/plain": [
       "LogisticRegression()"
      ]
     },
     "execution_count": 70,
     "metadata": {},
     "output_type": "execute_result"
    }
   ],
   "source": [
    "model_small = LogisticRegression()\n",
    "model_small.fit(X_train_small, y_train)"
   ]
  },
  {
   "cell_type": "code",
   "execution_count": 71,
   "id": "2715b2c3",
   "metadata": {},
   "outputs": [
    {
     "data": {
      "text/html": [
       "<pre style=\"white-space:pre;overflow-x:auto;line-height:normal;font-family:Menlo,'DejaVu Sans Mono',consolas,'Courier New',monospace\"></pre>\n"
      ],
      "text/plain": []
     },
     "metadata": {},
     "output_type": "display_data"
    },
    {
     "data": {
      "text/plain": [
       "\u001b[1;35mnp.float64\u001b[0m\u001b[1m(\u001b[0m\u001b[1;36m-2.477957595790743\u001b[0m\u001b[1m)\u001b[0m"
      ]
     },
     "execution_count": 71,
     "metadata": {},
     "output_type": "execute_result"
    }
   ],
   "source": [
    "w0 = model_small.intercept_[0]\n",
    "w0"
   ]
  },
  {
   "cell_type": "code",
   "execution_count": 72,
   "id": "1260647f",
   "metadata": {},
   "outputs": [
    {
     "data": {
      "text/html": [
       "<pre style=\"white-space:pre;overflow-x:auto;line-height:normal;font-family:Menlo,'DejaVu Sans Mono',consolas,'Courier New',monospace\"></pre>\n"
      ],
      "text/plain": []
     },
     "metadata": {},
     "output_type": "display_data"
    },
    {
     "data": {
      "text/plain": [
       "\u001b[1;35marray\u001b[0m\u001b[1m(\u001b[0m\u001b[1m[\u001b[0m \u001b[1;36m0.971\u001b[0m, \u001b[1;36m-0.024\u001b[0m, \u001b[1;36m-0.948\u001b[0m,  \u001b[1;36m0.027\u001b[0m, \u001b[1;36m-0.036\u001b[0m\u001b[1m]\u001b[0m\u001b[1m)\u001b[0m"
      ]
     },
     "execution_count": 72,
     "metadata": {},
     "output_type": "execute_result"
    }
   ],
   "source": [
    "w = model_small.coef_[0]\n",
    "w.round(3)"
   ]
  },
  {
   "cell_type": "code",
   "execution_count": 73,
   "id": "79d0c0c5",
   "metadata": {},
   "outputs": [
    {
     "data": {
      "text/html": [
       "<pre style=\"white-space:pre;overflow-x:auto;line-height:normal;font-family:Menlo,'DejaVu Sans Mono',consolas,'Courier New',monospace\"></pre>\n"
      ],
      "text/plain": []
     },
     "metadata": {},
     "output_type": "display_data"
    },
    {
     "data": {
      "text/plain": [
       "\n",
       "\u001b[1m{\u001b[0m\n",
       "    \u001b[32m'\u001b[0m\u001b[32mcontract\u001b[0m\u001b[32m=\u001b[0m\u001b[32mmonth\u001b[0m\u001b[32m-to-month'\u001b[0m: \u001b[1;35mnp.float64\u001b[0m\u001b[1m(\u001b[0m\u001b[1;36m0.971\u001b[0m\u001b[1m)\u001b[0m,\n",
       "    \u001b[32m'\u001b[0m\u001b[32mcontract\u001b[0m\u001b[32m=\u001b[0m\u001b[32mone_year\u001b[0m\u001b[32m'\u001b[0m: \u001b[1;35mnp.float64\u001b[0m\u001b[1m(\u001b[0m\u001b[1;36m-0.024\u001b[0m\u001b[1m)\u001b[0m,\n",
       "    \u001b[32m'\u001b[0m\u001b[32mcontract\u001b[0m\u001b[32m=\u001b[0m\u001b[32mtwo_year\u001b[0m\u001b[32m'\u001b[0m: \u001b[1;35mnp.float64\u001b[0m\u001b[1m(\u001b[0m\u001b[1;36m-0.948\u001b[0m\u001b[1m)\u001b[0m,\n",
       "    \u001b[32m'monthlycharges'\u001b[0m: \u001b[1;35mnp.float64\u001b[0m\u001b[1m(\u001b[0m\u001b[1;36m0.027\u001b[0m\u001b[1m)\u001b[0m,\n",
       "    \u001b[32m'tenure'\u001b[0m: \u001b[1;35mnp.float64\u001b[0m\u001b[1m(\u001b[0m\u001b[1;36m-0.036\u001b[0m\u001b[1m)\u001b[0m\n",
       "\u001b[1m}\u001b[0m"
      ]
     },
     "execution_count": 73,
     "metadata": {},
     "output_type": "execute_result"
    }
   ],
   "source": [
    "dict(zip(dv_small.get_feature_names_out(), w.round(3)))"
   ]
  },
  {
   "cell_type": "code",
   "execution_count": 74,
   "id": "4c8cbced",
   "metadata": {},
   "outputs": [
    {
     "data": {
      "text/html": [
       "<pre style=\"white-space:pre;overflow-x:auto;line-height:normal;font-family:Menlo,'DejaVu Sans Mono',consolas,'Courier New',monospace\"></pre>\n"
      ],
      "text/plain": []
     },
     "metadata": {},
     "output_type": "display_data"
    },
    {
     "data": {
      "text/plain": [
       "\u001b[1;36m-0.06000000000000033\u001b[0m"
      ]
     },
     "execution_count": 74,
     "metadata": {},
     "output_type": "execute_result"
    }
   ],
   "source": [
    "-2.47 + 0.97 + 60 * 0.027 + 5 * (-0.036)"
   ]
  },
  {
   "cell_type": "code",
   "execution_count": 75,
   "id": "97dd9442",
   "metadata": {},
   "outputs": [
    {
     "data": {
      "text/html": [
       "<pre style=\"white-space:pre;overflow-x:auto;line-height:normal;font-family:Menlo,'DejaVu Sans Mono',consolas,'Courier New',monospace\"></pre>\n"
      ],
      "text/plain": []
     },
     "metadata": {},
     "output_type": "display_data"
    },
    {
     "data": {
      "text/plain": [
       "\u001b[1;35mnp.float64\u001b[0m\u001b[1m(\u001b[0m\u001b[1;36m0.48500449838058984\u001b[0m\u001b[1m)\u001b[0m"
      ]
     },
     "execution_count": 75,
     "metadata": {},
     "output_type": "execute_result"
    }
   ],
   "source": [
    "sigmoid(_)"
   ]
  },
  {
   "cell_type": "markdown",
   "id": "da7b1383",
   "metadata": {},
   "source": [
    "# 3.12 Using the Model"
   ]
  },
  {
   "cell_type": "code",
   "execution_count": 76,
   "id": "03356c80",
   "metadata": {},
   "outputs": [],
   "source": [
    "dicts_full_train = df_full_train[categorical + numerical].to_dict(orient=\"records\")"
   ]
  },
  {
   "cell_type": "code",
   "execution_count": 77,
   "id": "e92fea65",
   "metadata": {},
   "outputs": [],
   "source": [
    "dv = DictVectorizer(sparse=False)\n",
    "X_full_train = dv.fit_transform(dicts_full_train)"
   ]
  },
  {
   "cell_type": "code",
   "execution_count": 78,
   "id": "bb79b995",
   "metadata": {},
   "outputs": [
    {
     "data": {
      "text/html": [
       "<pre style=\"white-space:pre;overflow-x:auto;line-height:normal;font-family:Menlo,'DejaVu Sans Mono',consolas,'Courier New',monospace\"></pre>\n"
      ],
      "text/plain": []
     },
     "metadata": {},
     "output_type": "display_data"
    },
    {
     "data": {
      "text/plain": [
       "\u001b[1;35marray\u001b[0m\u001b[1m(\u001b[0m\u001b[1m[\u001b[0m\u001b[1;36m0\u001b[0m, \u001b[1;36m1\u001b[0m, \u001b[1;36m0\u001b[0m, \u001b[33m...\u001b[0m, \u001b[1;36m1\u001b[0m, \u001b[1;36m1\u001b[0m, \u001b[1;36m0\u001b[0m\u001b[1m]\u001b[0m\u001b[1m)\u001b[0m"
      ]
     },
     "execution_count": 78,
     "metadata": {},
     "output_type": "execute_result"
    }
   ],
   "source": [
    "y_full_train = df_full_train.churn.values\n",
    "y_full_train"
   ]
  },
  {
   "cell_type": "code",
   "execution_count": 79,
   "id": "ed888f04",
   "metadata": {},
   "outputs": [
    {
     "data": {
      "text/html": [
       "<style>#sk-container-id-4 {\n",
       "  /* Definition of color scheme common for light and dark mode */\n",
       "  --sklearn-color-text: black;\n",
       "  --sklearn-color-line: gray;\n",
       "  /* Definition of color scheme for unfitted estimators */\n",
       "  --sklearn-color-unfitted-level-0: #fff5e6;\n",
       "  --sklearn-color-unfitted-level-1: #f6e4d2;\n",
       "  --sklearn-color-unfitted-level-2: #ffe0b3;\n",
       "  --sklearn-color-unfitted-level-3: chocolate;\n",
       "  /* Definition of color scheme for fitted estimators */\n",
       "  --sklearn-color-fitted-level-0: #f0f8ff;\n",
       "  --sklearn-color-fitted-level-1: #d4ebff;\n",
       "  --sklearn-color-fitted-level-2: #b3dbfd;\n",
       "  --sklearn-color-fitted-level-3: cornflowerblue;\n",
       "\n",
       "  /* Specific color for light theme */\n",
       "  --sklearn-color-text-on-default-background: var(--sg-text-color, var(--theme-code-foreground, var(--jp-content-font-color1, black)));\n",
       "  --sklearn-color-background: var(--sg-background-color, var(--theme-background, var(--jp-layout-color0, white)));\n",
       "  --sklearn-color-border-box: var(--sg-text-color, var(--theme-code-foreground, var(--jp-content-font-color1, black)));\n",
       "  --sklearn-color-icon: #696969;\n",
       "\n",
       "  @media (prefers-color-scheme: dark) {\n",
       "    /* Redefinition of color scheme for dark theme */\n",
       "    --sklearn-color-text-on-default-background: var(--sg-text-color, var(--theme-code-foreground, var(--jp-content-font-color1, white)));\n",
       "    --sklearn-color-background: var(--sg-background-color, var(--theme-background, var(--jp-layout-color0, #111)));\n",
       "    --sklearn-color-border-box: var(--sg-text-color, var(--theme-code-foreground, var(--jp-content-font-color1, white)));\n",
       "    --sklearn-color-icon: #878787;\n",
       "  }\n",
       "}\n",
       "\n",
       "#sk-container-id-4 {\n",
       "  color: var(--sklearn-color-text);\n",
       "}\n",
       "\n",
       "#sk-container-id-4 pre {\n",
       "  padding: 0;\n",
       "}\n",
       "\n",
       "#sk-container-id-4 input.sk-hidden--visually {\n",
       "  border: 0;\n",
       "  clip: rect(1px 1px 1px 1px);\n",
       "  clip: rect(1px, 1px, 1px, 1px);\n",
       "  height: 1px;\n",
       "  margin: -1px;\n",
       "  overflow: hidden;\n",
       "  padding: 0;\n",
       "  position: absolute;\n",
       "  width: 1px;\n",
       "}\n",
       "\n",
       "#sk-container-id-4 div.sk-dashed-wrapped {\n",
       "  border: 1px dashed var(--sklearn-color-line);\n",
       "  margin: 0 0.4em 0.5em 0.4em;\n",
       "  box-sizing: border-box;\n",
       "  padding-bottom: 0.4em;\n",
       "  background-color: var(--sklearn-color-background);\n",
       "}\n",
       "\n",
       "#sk-container-id-4 div.sk-container {\n",
       "  /* jupyter's `normalize.less` sets `[hidden] { display: none; }`\n",
       "     but bootstrap.min.css set `[hidden] { display: none !important; }`\n",
       "     so we also need the `!important` here to be able to override the\n",
       "     default hidden behavior on the sphinx rendered scikit-learn.org.\n",
       "     See: https://github.com/scikit-learn/scikit-learn/issues/21755 */\n",
       "  display: inline-block !important;\n",
       "  position: relative;\n",
       "}\n",
       "\n",
       "#sk-container-id-4 div.sk-text-repr-fallback {\n",
       "  display: none;\n",
       "}\n",
       "\n",
       "div.sk-parallel-item,\n",
       "div.sk-serial,\n",
       "div.sk-item {\n",
       "  /* draw centered vertical line to link estimators */\n",
       "  background-image: linear-gradient(var(--sklearn-color-text-on-default-background), var(--sklearn-color-text-on-default-background));\n",
       "  background-size: 2px 100%;\n",
       "  background-repeat: no-repeat;\n",
       "  background-position: center center;\n",
       "}\n",
       "\n",
       "/* Parallel-specific style estimator block */\n",
       "\n",
       "#sk-container-id-4 div.sk-parallel-item::after {\n",
       "  content: \"\";\n",
       "  width: 100%;\n",
       "  border-bottom: 2px solid var(--sklearn-color-text-on-default-background);\n",
       "  flex-grow: 1;\n",
       "}\n",
       "\n",
       "#sk-container-id-4 div.sk-parallel {\n",
       "  display: flex;\n",
       "  align-items: stretch;\n",
       "  justify-content: center;\n",
       "  background-color: var(--sklearn-color-background);\n",
       "  position: relative;\n",
       "}\n",
       "\n",
       "#sk-container-id-4 div.sk-parallel-item {\n",
       "  display: flex;\n",
       "  flex-direction: column;\n",
       "}\n",
       "\n",
       "#sk-container-id-4 div.sk-parallel-item:first-child::after {\n",
       "  align-self: flex-end;\n",
       "  width: 50%;\n",
       "}\n",
       "\n",
       "#sk-container-id-4 div.sk-parallel-item:last-child::after {\n",
       "  align-self: flex-start;\n",
       "  width: 50%;\n",
       "}\n",
       "\n",
       "#sk-container-id-4 div.sk-parallel-item:only-child::after {\n",
       "  width: 0;\n",
       "}\n",
       "\n",
       "/* Serial-specific style estimator block */\n",
       "\n",
       "#sk-container-id-4 div.sk-serial {\n",
       "  display: flex;\n",
       "  flex-direction: column;\n",
       "  align-items: center;\n",
       "  background-color: var(--sklearn-color-background);\n",
       "  padding-right: 1em;\n",
       "  padding-left: 1em;\n",
       "}\n",
       "\n",
       "\n",
       "/* Toggleable style: style used for estimator/Pipeline/ColumnTransformer box that is\n",
       "clickable and can be expanded/collapsed.\n",
       "- Pipeline and ColumnTransformer use this feature and define the default style\n",
       "- Estimators will overwrite some part of the style using the `sk-estimator` class\n",
       "*/\n",
       "\n",
       "/* Pipeline and ColumnTransformer style (default) */\n",
       "\n",
       "#sk-container-id-4 div.sk-toggleable {\n",
       "  /* Default theme specific background. It is overwritten whether we have a\n",
       "  specific estimator or a Pipeline/ColumnTransformer */\n",
       "  background-color: var(--sklearn-color-background);\n",
       "}\n",
       "\n",
       "/* Toggleable label */\n",
       "#sk-container-id-4 label.sk-toggleable__label {\n",
       "  cursor: pointer;\n",
       "  display: block;\n",
       "  width: 100%;\n",
       "  margin-bottom: 0;\n",
       "  padding: 0.5em;\n",
       "  box-sizing: border-box;\n",
       "  text-align: center;\n",
       "}\n",
       "\n",
       "#sk-container-id-4 label.sk-toggleable__label-arrow:before {\n",
       "  /* Arrow on the left of the label */\n",
       "  content: \"▸\";\n",
       "  float: left;\n",
       "  margin-right: 0.25em;\n",
       "  color: var(--sklearn-color-icon);\n",
       "}\n",
       "\n",
       "#sk-container-id-4 label.sk-toggleable__label-arrow:hover:before {\n",
       "  color: var(--sklearn-color-text);\n",
       "}\n",
       "\n",
       "/* Toggleable content - dropdown */\n",
       "\n",
       "#sk-container-id-4 div.sk-toggleable__content {\n",
       "  max-height: 0;\n",
       "  max-width: 0;\n",
       "  overflow: hidden;\n",
       "  text-align: left;\n",
       "  /* unfitted */\n",
       "  background-color: var(--sklearn-color-unfitted-level-0);\n",
       "}\n",
       "\n",
       "#sk-container-id-4 div.sk-toggleable__content.fitted {\n",
       "  /* fitted */\n",
       "  background-color: var(--sklearn-color-fitted-level-0);\n",
       "}\n",
       "\n",
       "#sk-container-id-4 div.sk-toggleable__content pre {\n",
       "  margin: 0.2em;\n",
       "  border-radius: 0.25em;\n",
       "  color: var(--sklearn-color-text);\n",
       "  /* unfitted */\n",
       "  background-color: var(--sklearn-color-unfitted-level-0);\n",
       "}\n",
       "\n",
       "#sk-container-id-4 div.sk-toggleable__content.fitted pre {\n",
       "  /* unfitted */\n",
       "  background-color: var(--sklearn-color-fitted-level-0);\n",
       "}\n",
       "\n",
       "#sk-container-id-4 input.sk-toggleable__control:checked~div.sk-toggleable__content {\n",
       "  /* Expand drop-down */\n",
       "  max-height: 200px;\n",
       "  max-width: 100%;\n",
       "  overflow: auto;\n",
       "}\n",
       "\n",
       "#sk-container-id-4 input.sk-toggleable__control:checked~label.sk-toggleable__label-arrow:before {\n",
       "  content: \"▾\";\n",
       "}\n",
       "\n",
       "/* Pipeline/ColumnTransformer-specific style */\n",
       "\n",
       "#sk-container-id-4 div.sk-label input.sk-toggleable__control:checked~label.sk-toggleable__label {\n",
       "  color: var(--sklearn-color-text);\n",
       "  background-color: var(--sklearn-color-unfitted-level-2);\n",
       "}\n",
       "\n",
       "#sk-container-id-4 div.sk-label.fitted input.sk-toggleable__control:checked~label.sk-toggleable__label {\n",
       "  background-color: var(--sklearn-color-fitted-level-2);\n",
       "}\n",
       "\n",
       "/* Estimator-specific style */\n",
       "\n",
       "/* Colorize estimator box */\n",
       "#sk-container-id-4 div.sk-estimator input.sk-toggleable__control:checked~label.sk-toggleable__label {\n",
       "  /* unfitted */\n",
       "  background-color: var(--sklearn-color-unfitted-level-2);\n",
       "}\n",
       "\n",
       "#sk-container-id-4 div.sk-estimator.fitted input.sk-toggleable__control:checked~label.sk-toggleable__label {\n",
       "  /* fitted */\n",
       "  background-color: var(--sklearn-color-fitted-level-2);\n",
       "}\n",
       "\n",
       "#sk-container-id-4 div.sk-label label.sk-toggleable__label,\n",
       "#sk-container-id-4 div.sk-label label {\n",
       "  /* The background is the default theme color */\n",
       "  color: var(--sklearn-color-text-on-default-background);\n",
       "}\n",
       "\n",
       "/* On hover, darken the color of the background */\n",
       "#sk-container-id-4 div.sk-label:hover label.sk-toggleable__label {\n",
       "  color: var(--sklearn-color-text);\n",
       "  background-color: var(--sklearn-color-unfitted-level-2);\n",
       "}\n",
       "\n",
       "/* Label box, darken color on hover, fitted */\n",
       "#sk-container-id-4 div.sk-label.fitted:hover label.sk-toggleable__label.fitted {\n",
       "  color: var(--sklearn-color-text);\n",
       "  background-color: var(--sklearn-color-fitted-level-2);\n",
       "}\n",
       "\n",
       "/* Estimator label */\n",
       "\n",
       "#sk-container-id-4 div.sk-label label {\n",
       "  font-family: monospace;\n",
       "  font-weight: bold;\n",
       "  display: inline-block;\n",
       "  line-height: 1.2em;\n",
       "}\n",
       "\n",
       "#sk-container-id-4 div.sk-label-container {\n",
       "  text-align: center;\n",
       "}\n",
       "\n",
       "/* Estimator-specific */\n",
       "#sk-container-id-4 div.sk-estimator {\n",
       "  font-family: monospace;\n",
       "  border: 1px dotted var(--sklearn-color-border-box);\n",
       "  border-radius: 0.25em;\n",
       "  box-sizing: border-box;\n",
       "  margin-bottom: 0.5em;\n",
       "  /* unfitted */\n",
       "  background-color: var(--sklearn-color-unfitted-level-0);\n",
       "}\n",
       "\n",
       "#sk-container-id-4 div.sk-estimator.fitted {\n",
       "  /* fitted */\n",
       "  background-color: var(--sklearn-color-fitted-level-0);\n",
       "}\n",
       "\n",
       "/* on hover */\n",
       "#sk-container-id-4 div.sk-estimator:hover {\n",
       "  /* unfitted */\n",
       "  background-color: var(--sklearn-color-unfitted-level-2);\n",
       "}\n",
       "\n",
       "#sk-container-id-4 div.sk-estimator.fitted:hover {\n",
       "  /* fitted */\n",
       "  background-color: var(--sklearn-color-fitted-level-2);\n",
       "}\n",
       "\n",
       "/* Specification for estimator info (e.g. \"i\" and \"?\") */\n",
       "\n",
       "/* Common style for \"i\" and \"?\" */\n",
       "\n",
       ".sk-estimator-doc-link,\n",
       "a:link.sk-estimator-doc-link,\n",
       "a:visited.sk-estimator-doc-link {\n",
       "  float: right;\n",
       "  font-size: smaller;\n",
       "  line-height: 1em;\n",
       "  font-family: monospace;\n",
       "  background-color: var(--sklearn-color-background);\n",
       "  border-radius: 1em;\n",
       "  height: 1em;\n",
       "  width: 1em;\n",
       "  text-decoration: none !important;\n",
       "  margin-left: 1ex;\n",
       "  /* unfitted */\n",
       "  border: var(--sklearn-color-unfitted-level-1) 1pt solid;\n",
       "  color: var(--sklearn-color-unfitted-level-1);\n",
       "}\n",
       "\n",
       ".sk-estimator-doc-link.fitted,\n",
       "a:link.sk-estimator-doc-link.fitted,\n",
       "a:visited.sk-estimator-doc-link.fitted {\n",
       "  /* fitted */\n",
       "  border: var(--sklearn-color-fitted-level-1) 1pt solid;\n",
       "  color: var(--sklearn-color-fitted-level-1);\n",
       "}\n",
       "\n",
       "/* On hover */\n",
       "div.sk-estimator:hover .sk-estimator-doc-link:hover,\n",
       ".sk-estimator-doc-link:hover,\n",
       "div.sk-label-container:hover .sk-estimator-doc-link:hover,\n",
       ".sk-estimator-doc-link:hover {\n",
       "  /* unfitted */\n",
       "  background-color: var(--sklearn-color-unfitted-level-3);\n",
       "  color: var(--sklearn-color-background);\n",
       "  text-decoration: none;\n",
       "}\n",
       "\n",
       "div.sk-estimator.fitted:hover .sk-estimator-doc-link.fitted:hover,\n",
       ".sk-estimator-doc-link.fitted:hover,\n",
       "div.sk-label-container:hover .sk-estimator-doc-link.fitted:hover,\n",
       ".sk-estimator-doc-link.fitted:hover {\n",
       "  /* fitted */\n",
       "  background-color: var(--sklearn-color-fitted-level-3);\n",
       "  color: var(--sklearn-color-background);\n",
       "  text-decoration: none;\n",
       "}\n",
       "\n",
       "/* Span, style for the box shown on hovering the info icon */\n",
       ".sk-estimator-doc-link span {\n",
       "  display: none;\n",
       "  z-index: 9999;\n",
       "  position: relative;\n",
       "  font-weight: normal;\n",
       "  right: .2ex;\n",
       "  padding: .5ex;\n",
       "  margin: .5ex;\n",
       "  width: min-content;\n",
       "  min-width: 20ex;\n",
       "  max-width: 50ex;\n",
       "  color: var(--sklearn-color-text);\n",
       "  box-shadow: 2pt 2pt 4pt #999;\n",
       "  /* unfitted */\n",
       "  background: var(--sklearn-color-unfitted-level-0);\n",
       "  border: .5pt solid var(--sklearn-color-unfitted-level-3);\n",
       "}\n",
       "\n",
       ".sk-estimator-doc-link.fitted span {\n",
       "  /* fitted */\n",
       "  background: var(--sklearn-color-fitted-level-0);\n",
       "  border: var(--sklearn-color-fitted-level-3);\n",
       "}\n",
       "\n",
       ".sk-estimator-doc-link:hover span {\n",
       "  display: block;\n",
       "}\n",
       "\n",
       "/* \"?\"-specific style due to the `<a>` HTML tag */\n",
       "\n",
       "#sk-container-id-4 a.estimator_doc_link {\n",
       "  float: right;\n",
       "  font-size: 1rem;\n",
       "  line-height: 1em;\n",
       "  font-family: monospace;\n",
       "  background-color: var(--sklearn-color-background);\n",
       "  border-radius: 1rem;\n",
       "  height: 1rem;\n",
       "  width: 1rem;\n",
       "  text-decoration: none;\n",
       "  /* unfitted */\n",
       "  color: var(--sklearn-color-unfitted-level-1);\n",
       "  border: var(--sklearn-color-unfitted-level-1) 1pt solid;\n",
       "}\n",
       "\n",
       "#sk-container-id-4 a.estimator_doc_link.fitted {\n",
       "  /* fitted */\n",
       "  border: var(--sklearn-color-fitted-level-1) 1pt solid;\n",
       "  color: var(--sklearn-color-fitted-level-1);\n",
       "}\n",
       "\n",
       "/* On hover */\n",
       "#sk-container-id-4 a.estimator_doc_link:hover {\n",
       "  /* unfitted */\n",
       "  background-color: var(--sklearn-color-unfitted-level-3);\n",
       "  color: var(--sklearn-color-background);\n",
       "  text-decoration: none;\n",
       "}\n",
       "\n",
       "#sk-container-id-4 a.estimator_doc_link.fitted:hover {\n",
       "  /* fitted */\n",
       "  background-color: var(--sklearn-color-fitted-level-3);\n",
       "}\n",
       "</style><div id=\"sk-container-id-4\" class=\"sk-top-container\"><div class=\"sk-text-repr-fallback\"><pre>LogisticRegression(max_iter=10000000)</pre><b>In a Jupyter environment, please rerun this cell to show the HTML representation or trust the notebook. <br />On GitHub, the HTML representation is unable to render, please try loading this page with nbviewer.org.</b></div><div class=\"sk-container\" hidden><div class=\"sk-item\"><div class=\"sk-estimator fitted sk-toggleable\"><input class=\"sk-toggleable__control sk-hidden--visually\" id=\"sk-estimator-id-4\" type=\"checkbox\" checked><label for=\"sk-estimator-id-4\" class=\"sk-toggleable__label fitted sk-toggleable__label-arrow fitted\">&nbsp;&nbsp;LogisticRegression<a class=\"sk-estimator-doc-link fitted\" rel=\"noreferrer\" target=\"_blank\" href=\"https://scikit-learn.org/1.5/modules/generated/sklearn.linear_model.LogisticRegression.html\">?<span>Documentation for LogisticRegression</span></a><span class=\"sk-estimator-doc-link fitted\">i<span>Fitted</span></span></label><div class=\"sk-toggleable__content fitted\"><pre>LogisticRegression(max_iter=10000000)</pre></div> </div></div></div></div>"
      ],
      "text/plain": [
       "LogisticRegression(max_iter=10000000)"
      ]
     },
     "execution_count": 79,
     "metadata": {},
     "output_type": "execute_result"
    }
   ],
   "source": [
    "model = LogisticRegression(max_iter=10000000)\n",
    "model.fit(X_full_train, y_full_train)"
   ]
  },
  {
   "cell_type": "code",
   "execution_count": 80,
   "id": "d40c4018",
   "metadata": {},
   "outputs": [],
   "source": [
    "dicts_test = df_test[categorical + numerical].to_dict(orient=\"records\")"
   ]
  },
  {
   "cell_type": "code",
   "execution_count": 81,
   "id": "2a60878f",
   "metadata": {},
   "outputs": [],
   "source": [
    "X_test = dv.transform(dicts_test)"
   ]
  },
  {
   "cell_type": "code",
   "execution_count": 82,
   "id": "ca6d3d8e",
   "metadata": {},
   "outputs": [],
   "source": [
    "y_pred = model.predict_proba(X_test)[:, 1]"
   ]
  },
  {
   "cell_type": "code",
   "execution_count": 83,
   "id": "32b76bf3",
   "metadata": {},
   "outputs": [],
   "source": [
    "churn_decision = y_pred >= 0.5"
   ]
  },
  {
   "cell_type": "code",
   "execution_count": 84,
   "id": "85cde6f9",
   "metadata": {},
   "outputs": [
    {
     "data": {
      "text/html": [
       "<pre style=\"white-space:pre;overflow-x:auto;line-height:normal;font-family:Menlo,'DejaVu Sans Mono',consolas,'Courier New',monospace\"></pre>\n"
      ],
      "text/plain": []
     },
     "metadata": {},
     "output_type": "display_data"
    },
    {
     "data": {
      "text/plain": [
       "\u001b[1;35mnp.float64\u001b[0m\u001b[1m(\u001b[0m\u001b[1;36m0.8119233498935415\u001b[0m\u001b[1m)\u001b[0m"
      ]
     },
     "execution_count": 84,
     "metadata": {},
     "output_type": "execute_result"
    }
   ],
   "source": [
    "(churn_decision == y_test).mean()"
   ]
  },
  {
   "cell_type": "code",
   "execution_count": 85,
   "id": "871e2f23",
   "metadata": {},
   "outputs": [
    {
     "data": {
      "text/html": [
       "<pre style=\"white-space:pre;overflow-x:auto;line-height:normal;font-family:Menlo,'DejaVu Sans Mono',consolas,'Courier New',monospace\"></pre>\n"
      ],
      "text/plain": []
     },
     "metadata": {},
     "output_type": "display_data"
    },
    {
     "data": {
      "text/plain": [
       "\u001b[1;35marray\u001b[0m\u001b[1m(\u001b[0m\u001b[1m[\u001b[0m\u001b[1;36m0\u001b[0m, \u001b[1;36m0\u001b[0m, \u001b[1;36m0\u001b[0m, \u001b[33m...\u001b[0m, \u001b[1;36m0\u001b[0m, \u001b[1;36m0\u001b[0m, \u001b[1;36m1\u001b[0m\u001b[1m]\u001b[0m\u001b[1m)\u001b[0m"
      ]
     },
     "execution_count": 85,
     "metadata": {},
     "output_type": "execute_result"
    }
   ],
   "source": [
    "y_test"
   ]
  },
  {
   "cell_type": "code",
   "execution_count": 86,
   "id": "98bdd1fd",
   "metadata": {},
   "outputs": [
    {
     "data": {
      "text/html": [
       "<pre style=\"white-space:pre;overflow-x:auto;line-height:normal;font-family:Menlo,'DejaVu Sans Mono',consolas,'Courier New',monospace\"></pre>\n"
      ],
      "text/plain": []
     },
     "metadata": {},
     "output_type": "display_data"
    },
    {
     "data": {
      "text/plain": [
       "\n",
       "\u001b[1m{\u001b[0m\n",
       "    \u001b[32m'gender'\u001b[0m: \u001b[32m'female'\u001b[0m,\n",
       "    \u001b[32m'seniorcitizen'\u001b[0m: \u001b[1;36m0\u001b[0m,\n",
       "    \u001b[32m'partner'\u001b[0m: \u001b[32m'yes'\u001b[0m,\n",
       "    \u001b[32m'dependents'\u001b[0m: \u001b[32m'yes'\u001b[0m,\n",
       "    \u001b[32m'phoneservice'\u001b[0m: \u001b[32m'yes'\u001b[0m,\n",
       "    \u001b[32m'multiplelines'\u001b[0m: \u001b[32m'yes'\u001b[0m,\n",
       "    \u001b[32m'internetservice'\u001b[0m: \u001b[32m'fiber_optic'\u001b[0m,\n",
       "    \u001b[32m'onlinesecurity'\u001b[0m: \u001b[32m'yes'\u001b[0m,\n",
       "    \u001b[32m'onlinebackup'\u001b[0m: \u001b[32m'no'\u001b[0m,\n",
       "    \u001b[32m'deviceprotection'\u001b[0m: \u001b[32m'yes'\u001b[0m,\n",
       "    \u001b[32m'techsupport'\u001b[0m: \u001b[32m'no'\u001b[0m,\n",
       "    \u001b[32m'streamingtv'\u001b[0m: \u001b[32m'yes'\u001b[0m,\n",
       "    \u001b[32m'streamingmovies'\u001b[0m: \u001b[32m'yes'\u001b[0m,\n",
       "    \u001b[32m'contract'\u001b[0m: \u001b[32m'month-to-month'\u001b[0m,\n",
       "    \u001b[32m'paperlessbilling'\u001b[0m: \u001b[32m'yes'\u001b[0m,\n",
       "    \u001b[32m'paymentmethod'\u001b[0m: \u001b[32m'electronic_check'\u001b[0m,\n",
       "    \u001b[32m'tenure'\u001b[0m: \u001b[1;36m17\u001b[0m,\n",
       "    \u001b[32m'monthlycharges'\u001b[0m: \u001b[1;36m104.2\u001b[0m,\n",
       "    \u001b[32m'totalcharges'\u001b[0m: \u001b[1;36m1743.5\u001b[0m\n",
       "\u001b[1m}\u001b[0m"
      ]
     },
     "execution_count": 86,
     "metadata": {},
     "output_type": "execute_result"
    }
   ],
   "source": [
    "customer = dicts_test[-1]\n",
    "customer"
   ]
  },
  {
   "cell_type": "code",
   "execution_count": 87,
   "id": "963ed76c",
   "metadata": {},
   "outputs": [],
   "source": [
    "X_small = dv.transform([customer])"
   ]
  },
  {
   "cell_type": "code",
   "execution_count": 88,
   "id": "e2e6ae26",
   "metadata": {},
   "outputs": [
    {
     "data": {
      "text/html": [
       "<pre style=\"white-space:pre;overflow-x:auto;line-height:normal;font-family:Menlo,'DejaVu Sans Mono',consolas,'Courier New',monospace\"></pre>\n"
      ],
      "text/plain": []
     },
     "metadata": {},
     "output_type": "display_data"
    },
    {
     "data": {
      "text/plain": [
       "\u001b[1;35mnp.float64\u001b[0m\u001b[1m(\u001b[0m\u001b[1;36m0.6400990960201914\u001b[0m\u001b[1m)\u001b[0m"
      ]
     },
     "execution_count": 88,
     "metadata": {},
     "output_type": "execute_result"
    }
   ],
   "source": [
    "model.predict_proba(X_small)[0, 1]"
   ]
  },
  {
   "cell_type": "code",
   "execution_count": 89,
   "id": "2b011084",
   "metadata": {},
   "outputs": [
    {
     "data": {
      "text/html": [
       "<pre style=\"white-space:pre;overflow-x:auto;line-height:normal;font-family:Menlo,'DejaVu Sans Mono',consolas,'Courier New',monospace\"></pre>\n"
      ],
      "text/plain": []
     },
     "metadata": {},
     "output_type": "display_data"
    },
    {
     "data": {
      "text/plain": [
       "\u001b[1;35mnp.int64\u001b[0m\u001b[1m(\u001b[0m\u001b[1;36m1\u001b[0m\u001b[1m)\u001b[0m"
      ]
     },
     "execution_count": 89,
     "metadata": {},
     "output_type": "execute_result"
    }
   ],
   "source": [
    "y_test[-1]"
   ]
  },
  {
   "cell_type": "markdown",
   "id": "80c2119f",
   "metadata": {},
   "source": [
    "# 3.13 Summary"
   ]
  },
  {
   "cell_type": "code",
   "execution_count": null,
   "id": "f0ea497f",
   "metadata": {},
   "outputs": [],
   "source": []
  }
 ],
 "metadata": {
  "kernelspec": {
   "display_name": ".venv",
   "language": "python",
   "name": "python3"
  },
  "language_info": {
   "codemirror_mode": {
    "name": "ipython",
    "version": 3
   },
   "file_extension": ".py",
   "mimetype": "text/x-python",
   "name": "python",
   "nbconvert_exporter": "python",
   "pygments_lexer": "ipython3",
   "version": "3.12.2"
  }
 },
 "nbformat": 4,
 "nbformat_minor": 5
}
